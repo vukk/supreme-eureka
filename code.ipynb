{
 "cells": [
  {
   "cell_type": "markdown",
   "metadata": {},
   "source": [
    "## Config"
   ]
  },
  {
   "cell_type": "code",
   "execution_count": 1,
   "metadata": {
    "collapsed": false
   },
   "outputs": [],
   "source": [
    "import matplotlib.pyplot as plt"
   ]
  },
  {
   "cell_type": "code",
   "execution_count": 2,
   "metadata": {
    "collapsed": false
   },
   "outputs": [],
   "source": [
    "%matplotlib inline"
   ]
  },
  {
   "cell_type": "code",
   "execution_count": 10,
   "metadata": {
    "collapsed": true
   },
   "outputs": [],
   "source": [
    "from numpy import outer, eye, ones, zeros, diag, log, sqrt, exp, pi\n",
    "from numpy.linalg import inv, solve\n",
    "from numpy.random import multivariate_normal as mvnormal, normal, gamma, beta, binomial\n",
    "from scipy.special import gammaln\n",
    "from scipy.stats import norm\n",
    "\n",
    "import numpy as np\n",
    "\n",
    "import matplotlib.pyplot as plt\n",
    "from numpy import arange, min, max, sqrt, mean, std\n",
    "from scipy.spatial.distance import cosine\n",
    "import numpy as np"
   ]
  },
  {
   "cell_type": "markdown",
   "metadata": {},
   "source": [
    "## EM-algorithm"
   ]
  },
  {
   "cell_type": "code",
   "execution_count": 208,
   "metadata": {
    "code_folding": [
     6
    ],
    "collapsed": true
   },
   "outputs": [],
   "source": [
    "# Aalto University, School of Science\n",
    "# T-61.5140 Machine Learning: Advanced probabilistic Methods\n",
    "# Author: antti.kangasraasio@aalto.fi, 2016\n",
    "\n",
    "import copy\n",
    "\n",
    "class EM_algo():\n",
    "    \"\"\"\n",
    "        A superclass for different EM-fitted models.\n",
    "    \"\"\"\n",
    "\n",
    "    def __init__(self, hyperparams, X=None, Y=None, ndata=0, pdata=0):\n",
    "        \"\"\"\n",
    "            Initialize model based either on given data (X, Y) or\n",
    "            on given data dimensionality (ndata, pdata).\n",
    "        \"\"\"\n",
    "        if not X is None and not Y is None:\n",
    "            self.X = X\n",
    "            self.Y = Y\n",
    "            self.ndata = len(self.X)\n",
    "            self.pdata = len(self.X[0])\n",
    "        if ndata and pdata:\n",
    "            self.X = None\n",
    "            self.Y = None\n",
    "            self.ndata = ndata\n",
    "            self.pdata = pdata\n",
    "        self.h = hyperparams\n",
    "        self.p = dict() # model parameters\n",
    "        self.reset()\n",
    "        if not X is None and not Y is None:\n",
    "            self.current_logl, self.cll = self.logl()\n",
    "\n",
    "\n",
    "    def reset(self):\n",
    "        \"\"\"\n",
    "            Reset priors and draw parameter estimates from prior.\n",
    "        \"\"\"\n",
    "        raise NotImplementedError(\"Subclass implements\")\n",
    "\n",
    "\n",
    "    def draw(self, item):\n",
    "        \"\"\"\n",
    "            Draw a data sample from the current predictive distribution.\n",
    "            Returns the drawn y and z-values.\n",
    "        \"\"\"\n",
    "        raise NotImplementedError(\"Subclass implements\")\n",
    "\n",
    "\n",
    "    def logl(self):\n",
    "        \"\"\"\n",
    "            Calculates the full log likelihood for this model.\n",
    "            Returns the logl (and the values of each term for debugging purposes)\n",
    "        \"\"\"\n",
    "        raise NotImplementedError(\"Subclass implements\")\n",
    "\n",
    "\n",
    "    def EM_iter(self):\n",
    "        \"\"\"\n",
    "            Executes a single round of EM updates for this model.\n",
    "        \"\"\"\n",
    "        raise NotImplementedError(\"Subclass implements\")\n",
    "\n",
    "\n",
    "    def EM_fit(self, alim=1e-10, maxit=1e4):\n",
    "        \"\"\"\n",
    "            Calls the EM_iter repeatedly until the log likelihood\n",
    "            of the model increases less than 'alim' in absolute\n",
    "            value or after 'maxit' iterations have been done.\n",
    "\n",
    "            Returns the number of EM-iterations, final log likelihood\n",
    "            value and a string that explains the end condition.\n",
    "        \"\"\"\n",
    "        logl, ll = self.logl()\n",
    "        for i in range(int(maxit)):\n",
    "            self.EM_iter()\n",
    "            logl2, ll2 = self.logl()\n",
    "            adiff = abs(logl2 - logl)\n",
    "            if adiff < alim:\n",
    "                return i+1, logl2, \"alim\"\n",
    "            logl = logl2\n",
    "        return maxit, logl2, \"maxit\"\n",
    "\n",
    "\n",
    "    def assert_logl_increased(self, event):\n",
    "        \"\"\"\n",
    "            Checks that the log likelihood increased since model\n",
    "            initialization or the time this function was last called.\n",
    "        \"\"\"\n",
    "        newlogl, ll = self.logl()\n",
    "#         if self.current_logl - newlogl > 1e-3:\n",
    "        if self.current_logl - newlogl > 0.1:\n",
    "            self.debug_logl(self.cll, ll)\n",
    "            raise ValueError(\"logl decreased after %s\" % (event))\n",
    "        self.current_logl, self.cll = newlogl, ll\n",
    "\n",
    "\n",
    "    def get_p(self):\n",
    "        \"\"\"\n",
    "            Returns a copy of the model parameters.\n",
    "        \"\"\"\n",
    "        return copy.deepcopy(self.p)\n",
    "\n",
    "\n",
    "    def set_p(self, p):\n",
    "        \"\"\"\n",
    "            Sets the model parameters.\n",
    "        \"\"\"\n",
    "        self.p = p.copy()\n",
    "\n",
    "\n",
    "    def print_p(self):\n",
    "        \"\"\"\n",
    "            Prints the model parameters, one at each line.\n",
    "        \"\"\"\n",
    "        for k, v in self.p.items():\n",
    "            print(\"%s = %s\" % (k, v))\n",
    "\n",
    "\n",
    "    def pretty_vector(self, x):\n",
    "        \"\"\"\n",
    "            Returns a formatted version of a vector.\n",
    "        \"\"\"\n",
    "        s = [\"(\"]\n",
    "        s.extend([\"%.2f, \" % (xi) for xi in x[:-1]])\n",
    "        s.append(\"%.2f)\" % (x[-1]))\n",
    "        return \"\".join(s)\n",
    "\n",
    "\n",
    "    def debug_logl(self, ll1, ll2):\n",
    "        \"\"\"\n",
    "            Prints an analysis of the per-term change in\n",
    "            log likelihood from ll1 to ll2.\n",
    "        \"\"\"\n",
    "        print(\"Logl      before     after\")\n",
    "        for v1, v2, i in zip(ll1, ll2, range(len(ll1))):\n",
    "            if v1 > v2:\n",
    "                d = \">\"\n",
    "            elif v2 > v1:\n",
    "                d = \"<\"\n",
    "            else:\n",
    "                d = \"=\"\n",
    "            print(\"Term %02d: %7.3f %s %7.3f\" % (i, v1, d, v2))\n",
    "        print(\"Total    %7.3f   %7.3f\" % (sum(ll1), sum(ll2)))\n",
    "\n"
   ]
  },
  {
   "cell_type": "markdown",
   "metadata": {},
   "source": [
    "## Linear model"
   ]
  },
  {
   "cell_type": "code",
   "execution_count": 209,
   "metadata": {
    "collapsed": true
   },
   "outputs": [],
   "source": [
    "# Aalto University, School of Science\n",
    "# T-61.5140 Machine Learning: Advanced probabilistic Methods\n",
    "# Author: antti.kangasraasio@aalto.fi, 2016\n",
    "\n",
    "from numpy import outer, eye, ones, zeros, log, sqrt, exp, pi\n",
    "from numpy.linalg import inv, solve\n",
    "from numpy.random import multivariate_normal as mvnormal, normal, gamma, beta, binomial\n",
    "from scipy.special import gammaln\n",
    "\n",
    "class EM_algo_LM(EM_algo):\n",
    "    \"\"\"\n",
    "        A linear gaussian model.\n",
    "    \"\"\"\n",
    "\n",
    "    def reset(self):\n",
    "        \"\"\"\n",
    "            Reset priors and draw parameter estimates from prior.\n",
    "        \"\"\"\n",
    "        # priors\n",
    "        self.lbd_phi0       = self.h[\"lbd_phi0\"]\n",
    "        self.alpha_s20      = self.h[\"alpha_s20\"]\n",
    "        self.beta_s20       = self.h[\"beta_s20\"]\n",
    "        self.sigma_phi0     = eye(self.pdata) * self.h[\"lbd_phi0\"]\n",
    "        self.sigma_phi0_inv = eye(self.pdata) / self.h[\"lbd_phi0\"]\n",
    "        self.mu_phi0        = ones(self.pdata) * self.h[\"mu_phi0\"]\n",
    "\n",
    "        # initial parameter estimates drawn from prior\n",
    "        self.p           = dict()\n",
    "        self.p[\"sigma2\"] = 1.0 / gamma(self.alpha_s20, 1.0 / self.beta_s20) # inverse gamma\n",
    "        self.p[\"phi\"]    = mvnormal(self.mu_phi0, self.p[\"sigma2\"] * self.sigma_phi0)\n",
    "\n",
    "\n",
    "    def draw(self, item):\n",
    "        \"\"\"\n",
    "            Draw a data sample from the current predictive distribution.\n",
    "            Returns the y-value (and a constant z-value for compatibility)\n",
    "        \"\"\"\n",
    "        mean = float(item.dot(self.p[\"phi\"]))\n",
    "        std  = sqrt(self.p[\"sigma2\"])\n",
    "        return normal(mean, std), 1\n",
    "\n",
    "\n",
    "    def logl(self):\n",
    "        \"\"\"\n",
    "            Calculates the full log likelihood for this model.\n",
    "            Returns the logl (and the values of each term for debugging purposes)\n",
    "        \"\"\"\n",
    "        ll    = zeros(8)\n",
    "        phie  = self.p[\"phi\"] - self.mu_phi0\n",
    "        err   = (self.X.dot(self.p[\"phi\"]) - self.Y) ** 2\n",
    "        # p(y)\n",
    "        ll[0] = - 0.5 * log(2 * pi * self.p[\"sigma2\"]) * self.ndata\n",
    "        ll[1] = sum(- 0.5 * err / self.p[\"sigma2\"])\n",
    "        # p(phi)\n",
    "        ll[2] = - 0.5 * log(2 * pi * self.lbd_phi0 * self.p[\"sigma2\"]) * self.pdata\n",
    "        ll[3] = - 0.5 * phie.T.dot(phie) / (self.lbd_phi0 * self.p[\"sigma2\"])\n",
    "        # p(sigma2)\n",
    "        ll[4] = self.alpha_s20 * log(self.beta_s20)\n",
    "        ll[5] = - gammaln(self.alpha_s20)\n",
    "        ll[6] = - (self.alpha_s20 + 1.0) * log(self.p[\"sigma2\"])\n",
    "        ll[7] = - self.beta_s20 / self.p[\"sigma2\"]\n",
    "        return sum(ll), ll\n",
    "\n",
    "\n",
    "    def EM_iter(self):\n",
    "        \"\"\"\n",
    "            Executes a single round of EM updates for this model.\n",
    "\n",
    "            Has checks to make sure that updates increase logl and\n",
    "            that parameter values stay in sensible limits.\n",
    "        \"\"\"\n",
    "        # phi\n",
    "        sumxx         = self.X.T.dot(self.X)\n",
    "        sumxy         = self.X.T.dot(self.Y)\n",
    "        sigma_mu      = self.sigma_phi0_inv.dot(self.mu_phi0)\n",
    "        sigma_phi_inv = self.sigma_phi0_inv + sumxx\n",
    "        self.p[\"phi\"] = solve(sigma_phi_inv, sigma_mu + sumxy)\n",
    "        self.assert_logl_increased(\"phi update\")\n",
    "\n",
    "        # sigma2\n",
    "        phie = (self.p[\"phi\"] - self.mu_phi0) ** 2\n",
    "        err  = (self.X.dot(self.p[\"phi\"]) - self.Y) ** 2\n",
    "        num  = self.beta_s20 + 0.5 * sum(err) + 0.5 * sum(phie) / self.lbd_phi0\n",
    "        den  = self.alpha_s20 + 1.0 + 0.5 * (self.ndata + self.pdata)\n",
    "        self.p[\"sigma2\"] = num / den\n",
    "        if self.p[\"sigma2\"] < 0.0:\n",
    "            raise ValueError(\"sigma2 < 0.0\")\n",
    "        self.assert_logl_increased(\"sigma2 update\")\n",
    "\n",
    "\n",
    "    def print_p(self):\n",
    "        \"\"\"\n",
    "            Prints the model parameters, one at each line.\n",
    "        \"\"\"\n",
    "        print(\"phi    : %s\" % (self.pretty_vector(self.p[\"phi\"])))\n",
    "        print(\"sigma2 : %.3f\" % (self.p[\"sigma2\"]))\n",
    "\n"
   ]
  },
  {
   "cell_type": "markdown",
   "metadata": {},
   "source": [
    "## Generator"
   ]
  },
  {
   "cell_type": "code",
   "execution_count": 210,
   "metadata": {
    "collapsed": true
   },
   "outputs": [],
   "source": [
    "# Aalto University, School of Science\n",
    "# T-61.5140 Machine Learning: Advanced probabilistic Methods\n",
    "# Author: antti.kangasraasio@aalto.fi, 2016\n",
    "\n",
    "from numpy import zeros\n",
    "from numpy.random import randn\n",
    "\n",
    "\n",
    "def generate_X(ndata, pdata):\n",
    "    \"\"\"\n",
    "        Return a matrix of normally distributed random values.\n",
    "    \"\"\"\n",
    "    X = randn(ndata, pdata)\n",
    "    return X\n",
    "\n",
    "\n",
    "def generate_YZ(X, distribution):\n",
    "    \"\"\"\n",
    "        Draw observations Y and latent variable values Z from a distribution.\n",
    "    \"\"\"\n",
    "    ndata = len(X)\n",
    "    Y = zeros(ndata)\n",
    "    Z = zeros(ndata)\n",
    "    for i in range(ndata):\n",
    "        Y[i], Z[i] = distribution.draw(X[i])\n",
    "    return Y, Z\n",
    "\n",
    "\n",
    "def get_hyperp():\n",
    "    \"\"\"\n",
    "        Return model hyperparameters.\n",
    "    \"\"\"\n",
    "    return {\n",
    "            \"alpha_s20\": 5.0,\n",
    "            \"beta_s20\" : 1.0,\n",
    "            \"lbd_phi0\" : 1.0,\n",
    "            \"mu_phi0\"  : 0.0,\n",
    "            \"alpha_w0\" : 3.0,\n",
    "            \"beta_w0\"  : 3.0,\n",
    "            }\n"
   ]
  },
  {
   "cell_type": "markdown",
   "metadata": {},
   "source": [
    "## Mixture model"
   ]
  },
  {
   "cell_type": "markdown",
   "metadata": {},
   "source": [
    "Note that for responsibilities \n",
    "$$\\gamma_1 =  \\frac{ w_S \\mathcal{N}(y_t \\ | \\ x_t \\phi_{1_S}, \\sigma_{1_S}^2)}{ w_S \\mathcal{N}(y_t \\ | \\ x_t \\phi_{1_S} , \\sigma_{1_S}^2) \\; + \\; (1 - w_S) \\mathcal{N}(y_t \\ | \\ x_t \\phi_{2_S}, \\sigma_{2_S}^2)} $$\n",
    "$$\\gamma_2 =  \\frac{ (1 - w_S) \\mathcal{N}(y_t \\ | \\ x_t \\phi_{2_S}, \\sigma_{2_S}^2)}{ w_S \\mathcal{N}(y_t \\ | \\ x_t \\phi_{1_S} , \\sigma_{1_S}^2) \\; + \\; (1 - w_S) \\mathcal{N}(y_t \\ | \\ x_t \\phi_{2_S}, \\sigma_{2_S}^2)} $$\n",
    "\n",
    "If we only need to know whether $\\gamma_1 > \\gamma_2$, then we need to only compute\n",
    "\n",
    "$$ w_S \\mathcal{N}(y_t \\ | \\ x_t \\phi_{1_S}, \\sigma_{1_S}^2) > (1 - w_S) \\mathcal{N}(y_t \\ | \\ x_t \\phi_{2_S}, \\sigma_{2_S}^2)$$"
   ]
  },
  {
   "cell_type": "code",
   "execution_count": 276,
   "metadata": {
    "collapsed": false
   },
   "outputs": [],
   "source": [
    "from numpy import outer, eye, ones, zeros, diag, log, sqrt, exp, pi\n",
    "from numpy.linalg import inv, solve\n",
    "from numpy.random import multivariate_normal as mvnormal, normal, gamma, beta, binomial\n",
    "from scipy.special import gammaln\n",
    "from scipy.stats import norm, multivariate_normal\n",
    "import numpy as np\n",
    "\n",
    "class EM_algo_MM(EM_algo):\n",
    "    \"\"\"\n",
    "        A mixture of two linear models.\n",
    "    \"\"\"\n",
    "\n",
    "    def reset(self):\n",
    "        \"\"\"\n",
    "            Reset priors and draw parameter estimates from prior.\n",
    "        \"\"\"\n",
    "        # priors\n",
    "        self.alpha_w0       = self.h[\"alpha_w0\"]\n",
    "        self.beta_w0        = self.h[\"beta_w0\"]\n",
    "\n",
    "        # Same priors for phi1 and phi2, s2_1, s2_2, don't bother to copy vars twice\n",
    "        # i.e. alpha_s2_1_0 = alpha_s2_2_0 = alpha_s20\n",
    "        self.lbd_phi0       = self.h[\"lbd_phi0\"]\n",
    "        self.alpha_s20      = self.h[\"alpha_s20\"]\n",
    "        self.beta_s20       = self.h[\"beta_s20\"]\n",
    "        self.sigma_phi0     = eye(self.pdata) * self.h[\"lbd_phi0\"]\n",
    "        self.sigma_phi0_inv = eye(self.pdata) / self.h[\"lbd_phi0\"]\n",
    "        self.mu_phi0        = ones(self.pdata) * self.h[\"mu_phi0\"]\n",
    "        \n",
    "        # Precalculations:\n",
    "        self.w_gamma_ln_multiplier  = gammaln(self.alpha_w0 + self.beta_w0)\n",
    "        self.w_gamma_ln_multiplier -= gammaln(self.alpha_w0)\n",
    "        self.w_gamma_ln_multiplier -= gammaln(self.beta_w0)\n",
    "        \n",
    "        \n",
    "        # initial parameter estimates drawn from prior\n",
    "        self.p             = dict()\n",
    "        # Weights\n",
    "        self.p[\"w\"]        = beta(self.alpha_w0, self.beta_w0)\n",
    "        # Responsibilities (TODO: do we need this here?)\n",
    "        self.p[\"gamma\"]    = binomial(1, self.p[\"w\"], self.ndata)\n",
    "        # Component 1\n",
    "        self.p[\"sigma2_1\"] = 1.0 / gamma(self.alpha_s20, 1.0 / self.beta_s20) # inverse gamma\n",
    "        self.p[\"phi_1\"]    = mvnormal(self.mu_phi0, self.p[\"sigma2_1\"] * self.sigma_phi0)\n",
    "        # Component 2\n",
    "        self.p[\"sigma2_2\"] = 1.0 / gamma(self.alpha_s20, 1.0 / self.beta_s20) # inverse gamma\n",
    "        self.p[\"phi_2\"]    = mvnormal(self.mu_phi0, self.p[\"sigma2_2\"] * self.sigma_phi0)\n",
    "        \n",
    "        print(\"START w\", self.p[\"w\"])\n",
    "        print(\"START phi_1\", self.p[\"phi_1\"])\n",
    "        print(\"START sigma2_1\", self.p[\"sigma2_1\"])\n",
    "        print(\"START phi_2\", self.p[\"phi_2\"])\n",
    "        print(\"START sigma2_2\", self.p[\"sigma2_2\"])\n",
    "\n",
    "\n",
    "    def draw(self, item):\n",
    "        \"\"\"\n",
    "            Draw a data sample from the current predictive distribution.\n",
    "            Returns the y-value and z-value\n",
    "        \"\"\"\n",
    "        mean1 = float(item.dot(self.p[\"phi_1\"]))\n",
    "        std1  = sqrt(self.p[\"sigma2_1\"])\n",
    "        mean2 = float(item.dot(self.p[\"phi_2\"]))\n",
    "        std2  = sqrt(self.p[\"sigma2_2\"])\n",
    "        \n",
    "        if np.random.rand() < self.p[\"w\"]:\n",
    "            return normal(mean1, std1), 1\n",
    "        else:\n",
    "            return normal(mean2, std2), 2\n",
    "\n",
    "\n",
    "    def logl(self):\n",
    "        \"\"\"\n",
    "            Calculates the full log likelihood for this model.\n",
    "            Returns the logl (and the values of each term for debugging purposes)\n",
    "        \"\"\"\n",
    "        ll         = zeros(20)\n",
    "        phi_1_diff = self.p[\"phi_1\"] - self.mu_phi0\n",
    "        phi_2_diff = self.p[\"phi_2\"] - self.mu_phi0\n",
    "        phi_1_err  = phi_1_diff.T.dot(phi_1_diff)\n",
    "        phi_2_err  = phi_2_diff.T.dot(phi_2_diff)\n",
    "        err_1      = (self.X.dot(self.p[\"phi_1\"]) - self.Y) ** 2\n",
    "        err_2      = (self.X.dot(self.p[\"phi_2\"]) - self.Y) ** 2\n",
    "        \n",
    "#         print(\"SHAPE ERR\", err_1.shape, err_2.shape)\n",
    "        \n",
    "        \n",
    "        # Responsibilities\n",
    "#         # data is 1 dimensional, and norm.pdf works on a vector returning probability for each separately\n",
    "#         propto_gamma1 =      self.p[\"w\"]  * norm.pdf(self.Y, self.X.dot(self.p[\"phi_1\"]), sqrt(self.p[\"sigma2_1\"]))\n",
    "#         propto_gamma2 = (1 - self.p[\"w\"]) * norm.pdf(self.Y, self.X.dot(self.p[\"phi_2\"]), sqrt(self.p[\"sigma2_2\"]))\n",
    "        \n",
    "#         # elementwise, works because numpy\n",
    "#         gamma = propto_gamma1 / (propto_gamma1 + propto_gamma2)\n",
    "#         self.p[\"gamma\"] = gamma\n",
    "#         sum_gamma = np.sum(gamma)\n",
    "#         print(\"sum gamma\", sum_gamma, \"sum gamma+(1-gamma)\", np.sum(gamma+(1-gamma)))\n",
    "        gamma = self.p[\"gamma\"]\n",
    "#         print(\"GAMMA SHAPE\", gamma.shape)\n",
    "        \n",
    "        ### posterior factorizes p(y,z,w,phi,sigma) = p(y)p(z)p(w)p(phi)p(sigma)\n",
    "        \n",
    "        ### p(y)\n",
    "#         ll[0] = self.p[\"w\"]       * (-0.5 * log(2 * pi * self.p[\"sigma2_1\"]) * self.ndata)\n",
    "#         ll[1] = self.p[\"w\"]       * np.sum(- 0.5 * err_1 / self.p[\"sigma2_1\"])\n",
    "#         ll[2] = (1 - self.p[\"w\"]) * (-0.5 * log(2 * pi * self.p[\"sigma2_2\"]) * self.ndata)\n",
    "#         ll[3] = (1 - self.p[\"w\"]) * np.sum(- 0.5 * err_2 / self.p[\"sigma2_2\"])\n",
    "\n",
    "#         ll[0] = gamma.dot(-0.5 * log(2 * pi * self.p[\"sigma2_1\"]) -0.5 * err_1 / self.p[\"sigma2_1\"])\n",
    "#         ll[1] = 0\n",
    "#         ll[2] = (1 - gamma).dot(-0.5 * log(2 * pi * self.p[\"sigma2_2\"]) -0.5 * err_2 / self.p[\"sigma2_2\"])\n",
    "#         ll[3] = 0\n",
    "\n",
    "        ll[0] = -0.5 * log(2 * pi * self.p[\"sigma2_1\"]) * np.sum(gamma)\n",
    "        ll[1] = gamma.dot(-0.5 * err_1 / self.p[\"sigma2_1\"])\n",
    "        ll[2] = -0.5 * log(2 * pi * self.p[\"sigma2_2\"]) * np.sum(1 - gamma)\n",
    "        ll[3] = (1 - gamma).dot(-0.5 * err_2 / self.p[\"sigma2_2\"])\n",
    " \n",
    "        \n",
    "        ### p(z)\n",
    "        ll[4] = np.sum((gamma * log(self.p[\"w\"])) + ((1 - gamma) * log(1 - self.p[\"w\"])))\n",
    "#         ll[4] = 0\n",
    "        \n",
    "        ### p(w)\n",
    "        ll[5] = self.w_gamma_ln_multiplier\n",
    "        ll[6] = (self.alpha_w0 - 1) * self.p[\"w\"]\n",
    "        ll[7] = (self.beta_w0  - 1) * (1 - self.p[\"w\"])\n",
    "        \n",
    "        ### p(phi)\n",
    "        # phi_1\n",
    "        ll[8]  = - 0.5 * log(2 * pi * self.lbd_phi0 * self.p[\"sigma2_1\"]) * self.pdata\n",
    "        ll[9]  = - 0.5 * phi_1_err / (self.lbd_phi0 * self.p[\"sigma2_1\"])\n",
    "        # phi_2\n",
    "        ll[10] = - 0.5 * log(2 * pi * self.lbd_phi0 * self.p[\"sigma2_2\"]) * self.pdata\n",
    "        ll[11] = - 0.5 * phi_2_err / (self.lbd_phi0 * self.p[\"sigma2_2\"])\n",
    "        \n",
    "#                 # p(y)\n",
    "#         ll[0] = - 0.5 * log(2 * pi * self.p[\"sigma2\"]) * self.ndata\n",
    "#         ll[1] = sum(- 0.5 * err / self.p[\"sigma2\"])\n",
    "#         # p(phi)\n",
    "#         ll[2] = - 0.5 * log(2 * pi * self.lbd_phi0 * self.p[\"sigma2\"]) * self.pdata\n",
    "#         ll[3] = - 0.5 * phie.T.dot(phie) / (self.lbd_phi0 * self.p[\"sigma2\"])\n",
    "#         # p(sigma2)\n",
    "#         ll[4] = self.alpha_s20 * log(self.beta_s20)\n",
    "#         ll[5] = - gammaln(self.alpha_s20)\n",
    "#         ll[6] = - (self.alpha_s20 + 1.0) * log(self.p[\"sigma2\"])\n",
    "#         ll[7] = - self.beta_s20 / self.p[\"sigma2\"]\n",
    "#         return sum(ll), ll\n",
    "        \n",
    "        \n",
    "        ### p(sigma2)\n",
    "        # sigma2_1\n",
    "        ll[12] = self.alpha_s20 * log(self.beta_s20)\n",
    "        ll[13] = - gammaln(self.alpha_s20)\n",
    "        ll[14] = - (self.alpha_s20 + 1.0) * log(self.p[\"sigma2_1\"])\n",
    "        ll[15] = - self.beta_s20 / self.p[\"sigma2_1\"]\n",
    "        # sigma2_2\n",
    "        ll[16] = self.alpha_s20 * log(self.beta_s20)\n",
    "        ll[17] = - gammaln(self.alpha_s20)\n",
    "        ll[18] = - (self.alpha_s20 + 1.0) * log(self.p[\"sigma2_2\"])\n",
    "        ll[19] = - self.beta_s20 / self.p[\"sigma2_2\"]\n",
    "        \n",
    "        return np.sum(ll), ll\n",
    "\n",
    "\n",
    "    def EM_iter(self):\n",
    "        \"\"\"\n",
    "            Executes a single round of EM updates for this model.\n",
    "\n",
    "            Has checks to make sure that updates increase logl and\n",
    "            that parameter values stay in sensible limits.\n",
    "        \"\"\"\n",
    "        \n",
    "        Y = self.Y.view()\n",
    "        Y.shape = (self.ndata, 1) # set Y view shape\n",
    "\n",
    "        # ==================== E-STEP ====================\n",
    "\n",
    "        # ========== Responsibilities gamma ==========        \n",
    "        # data is 1 dimensional, and norm.pdf works on a vector returning probability for each separately\n",
    "        propto_gamma1 =      self.p[\"w\"]  * norm.pdf(self.Y, self.X.dot(self.p[\"phi_1\"]), sqrt(self.p[\"sigma2_1\"]))\n",
    "        propto_gamma2 = (1 - self.p[\"w\"]) * norm.pdf(self.Y, self.X.dot(self.p[\"phi_2\"]), sqrt(self.p[\"sigma2_2\"]))\n",
    "        \n",
    "        # elementwise, works because numpy\n",
    "        gamma = propto_gamma1 / (propto_gamma1 + propto_gamma2)\n",
    "        self.p[\"gamma\"] = gamma\n",
    "        sum_gamma = np.sum(gamma)\n",
    "#         print(\"sum gamma\", sum_gamma, \"sum gamma+(1-gamma)\", np.sum(gamma+(1-gamma)))\n",
    "        \n",
    "\n",
    "        # ==================== M-STEP ====================\n",
    "\n",
    "        # ========== Weights w ==========\n",
    "        num = sum_gamma + self.alpha_w0 - 1\n",
    "        den = self.ndata + self.alpha_w0 + self.beta_w0 - 2\n",
    "#         print(\"w num\", num, \"den\", den)\n",
    "        self.p[\"w\"] = num / den\n",
    "#         print(\"w\", self.p[\"w\"])\n",
    "        \n",
    "#         print(\"W LL DEBUG\")\n",
    "#         newlogl, ll = self.logl()\n",
    "#         self.debug_logl(self.cll, ll)\n",
    "#         self.assert_logl_increased(\"w update\")\n",
    "        \n",
    "        \n",
    "        # ========== Variables phi ==========\n",
    "        \n",
    "        # phi_1\n",
    "        \n",
    "#         sum_gammaxx   = sum(np.multiply(gamma, np.multiply(self.X, self.X)))\n",
    "#         sum_gammaxy   = sum(np.multiply(gamma, np.multiply(self.X, self.Y)))\n",
    "#         sum_gammaxx   = np.dot(gamma, np.multiply(self.X, self.X))\n",
    "\n",
    "#         print(\"Y SHAPE\", Y.shape)\n",
    "#         print(\"X SHAPE\", self.X.shape)\n",
    "#         tsup = Y * self.X\n",
    "#         print(\"tsup SHAPE\", tsup.shape)\n",
    "        \n",
    "#         print(\"gamma shape\", gamma.shape)\n",
    "#         print(\"gamma.T shape\", gamma.T.shape)\n",
    "\n",
    "        sum_gammayx = gamma.T.dot(Y * self.X)\n",
    "        sum_gammaxx = gamma.T.dot((self.X * self.X))\n",
    "        \n",
    "#         print(\"sum_gammayx, sum_gammaxx SHAPES\", sum_gammayx.shape, sum_gammaxx.shape)\n",
    "        \n",
    "        sigma_mu        = self.sigma_phi0_inv.dot(self.mu_phi0)\n",
    "        sigma_phi_inv   = self.sigma_phi0_inv + sum_gammaxx\n",
    "        self.p[\"phi_1\"] = solve(sigma_phi_inv, sigma_mu + sum_gammayx)\n",
    "#         print(\"phi_1\", self.p[\"phi_1\"])\n",
    "        \n",
    "        \n",
    "        # phi_2\n",
    "        sum_gammayx = (1-gamma).T.dot(Y * self.X)\n",
    "        sum_gammaxx = (1-gamma).T.dot((self.X * self.X))\n",
    "        \n",
    "#         print(\"sum_gammayx, sum_gammaxx SHAPES\", sum_gammayx.shape, sum_gammaxx.shape)\n",
    "        \n",
    "        sigma_mu        = self.sigma_phi0_inv.dot(self.mu_phi0)\n",
    "        sigma_phi_inv   = self.sigma_phi0_inv + sum_gammaxx\n",
    "        self.p[\"phi_2\"] = solve(sigma_phi_inv, sigma_mu + sum_gammayx)\n",
    "#         print(\"phi_2\", self.p[\"phi_2\"])\n",
    "        \n",
    "#         print(\"PHI LL DEBUG\")\n",
    "#         newlogl, ll = self.logl()\n",
    "#         self.debug_logl(self.cll, ll)\n",
    "#         self.assert_logl_increased(\"phi update\")\n",
    "\n",
    "\n",
    "        # ========== Variances sigma2 ==========\n",
    "        \n",
    "        # sigma2_1\n",
    "        phie = np.sum((self.p[\"phi_1\"] - self.mu_phi0) ** 2)  / self.lbd_phi0\n",
    "\n",
    "        phiX = self.p[\"phi_1\"].dot(self.X.T)\n",
    "        target_err = (self.Y - phiX)**2\n",
    "        err = gamma.dot(target_err)\n",
    "\n",
    "#         err  = (self.X.dot(self.p[\"phi_1\"]) - Y) ** 2\n",
    "#         print('sum gamma*err', np.sum(gamma * err))\n",
    "#         num = 2*self.beta_s20 + np.sum(gamma * err) + phie\n",
    "        num = 2*self.beta_s20 + err + phie\n",
    "        den = 2*self.alpha_s20 + 2.0 + np.sum(gamma) + self.pdata\n",
    "        self.p[\"sigma2_1\"] = num / den\n",
    "#         print('sigma2_1', self.p[\"sigma2_1\"])\n",
    "        if self.p[\"sigma2_1\"] < 0.0:\n",
    "            raise ValueError(\"sigma2_1 < 0.0\")\n",
    "        \n",
    "        \n",
    "#         # compare\n",
    "        print(\"phie/P\", phie/self.pdata, \"phie\", phie, \"err/sumGamma\", err/np.sum(gamma), \"err\", err)\n",
    "        \n",
    "        \n",
    "        # sigma2_2\n",
    "        phie = np.sum((self.p[\"phi_2\"] - self.mu_phi0) ** 2)  / self.lbd_phi0\n",
    "\n",
    "        phiX = self.p[\"phi_2\"].dot(self.X.T)\n",
    "        target_err = (self.Y - phiX)**2\n",
    "        err = (1-gamma).dot(target_err)\n",
    "\n",
    "#         err  = (self.X.dot(self.p[\"phi_2\"]) - Y) ** 2 # has to be phi*x - Y\n",
    "#         print('sum (1-gamma)*err', np.sum((1-gamma) * err))\n",
    "#         print('sum gamma*err', np.sum(gamma * err))\n",
    "#         num = 2*self.beta_s20 + np.sum((1-gamma) * err) + phie\n",
    "        num = 2*self.beta_s20 + err + phie\n",
    "        den = 2*self.alpha_s20 + 2.0 + np.sum(1-gamma) + self.pdata\n",
    "        self.p[\"sigma2_2\"] = num / den\n",
    "#         print('sigma2_2', self.p[\"sigma2_2\"])\n",
    "        if self.p[\"sigma2_2\"] < 0.0:\n",
    "            raise ValueError(\"sigma2_2 < 0.0\")\n",
    "        \n",
    "        \n",
    "        # compare\n",
    "        print(\"phie/P\", phie/self.pdata, \"phie\", phie, \"err/sum1-Gamma\", err/np.sum(1-gamma), \"err\", err)\n",
    "        \n",
    "        \n",
    "#         print(\"SIGMA LL DEBUG\")\n",
    "#         newlogl, ll = self.logl()\n",
    "#         self.debug_logl(self.cll, ll)\n",
    "        \n",
    "#         # if possible, plot samples, true model and estimated model\n",
    "#         if self.pdata == 1:\n",
    "#             plt.figure(figsize=(20,10))\n",
    "#             plt.scatter(self.X, self.Y, s=20, c='black', label=\"Training data\")\n",
    "#     #         plt.scatter(X_v, Y_v, s=20, c='orange', label=\"Validation data\")\n",
    "#             x = arange(min(self.X)-0.1, max(self.X)+0.1, 0.1)\n",
    "#     #         print_linear_model(x, true_model.get_p()[\"phi\"], \\\n",
    "#     #                 true_model.get_p()[\"sigma2\"], 'red', \"True model\")\n",
    "#     #         print_linear_model(x, model.get_p()[\"phi\"], \\\n",
    "#     #                 model.get_p()[\"sigma2\"], 'blue', \"Predicted model\")\n",
    "#             y = self.p[\"phi_1\"] * x\n",
    "#             color = 'red'\n",
    "#             plt.plot(x, y, color, label=\"component1\")\n",
    "#             plt.fill_between(x, y + 1.96 * sqrt(self.p[\"sigma2_1\"]), y - 1.96 * sqrt(self.p[\"sigma2_1\"]), alpha=0.25, facecolor=color, interpolate=True)\n",
    "            \n",
    "#             y = self.p[\"phi_2\"] * x\n",
    "#             color = 'blue'\n",
    "#             plt.plot(x, y, color, label=\"component2\")\n",
    "#             plt.fill_between(x, y + 1.96 * sqrt(self.p[\"sigma2_2\"]), y - 1.96 * sqrt(self.p[\"sigma2_2\"]), alpha=0.25, facecolor=color, interpolate=True)\n",
    "\n",
    "#             plt.legend(loc=1)\n",
    "#             plt.xlim(min(x), max(x))\n",
    "#             plt.xlabel(\"x\")\n",
    "#             plt.ylabel(\"y\")\n",
    "#             plt.show()\n",
    "#             input(\"Press Enter to continue...\")\n",
    "        \n",
    "        print(\"w\", self.p[\"w\"], \"phi_1\", self.p[\"phi_1\"], \"phi_2\", self.p[\"phi_2\"], \"s2_1\", self.p[\"sigma2_1\"], \"s2_2\", self.p[\"sigma2_2\"])\n",
    "        \n",
    "        self.assert_logl_increased(\"sigma2 update\")\n"
   ]
  },
  {
   "cell_type": "code",
   "execution_count": 277,
   "metadata": {
    "collapsed": false,
    "scrolled": false
   },
   "outputs": [
    {
     "name": "stdout",
     "output_type": "stream",
     "text": [
      "START w 0.3972199577337025\n",
      "START phi_1 [-0.14222154]\n",
      "START sigma2_1 0.19400851973631544\n",
      "START phi_2 [ 0.34240993]\n",
      "START sigma2_2 0.16831617629294393\n",
      "Generated 50 training data and 50 validation data from true model:\n",
      "w = 0.3972199577337025\n",
      "sigma2_1 = 0.19400851973631544\n",
      "gamma = [1 0 0 1 0 1 0 0 0 0 1 1 0 0 1 1 0 1 0 1 0 1 0 1 1 1 0 0 1 0 0 1 0 0 1 0 0\n",
      " 1 1 1 0 1 0 0 1 1 0 1 1 0]\n",
      "phi_2 = [ 0.34240993]\n",
      "phi_1 = [-0.14222154]\n",
      "sigma2_2 = 0.16831617629294393\n",
      "\n"
     ]
    }
   ],
   "source": [
    "# get hyperparameters for model\n",
    "hyperp = get_hyperp()\n",
    "# generate 50 training data and 20 validation data locations of dim=1\n",
    "ndata = 50\n",
    "ndata_v = 50\n",
    "pdata = 1\n",
    "X = generate_X(ndata, pdata)\n",
    "X_v = generate_X(ndata_v, pdata)\n",
    "\n",
    "true_model = EM_algo_MM(hyperp, ndata=ndata, pdata=pdata)\n",
    "Y, Z = generate_YZ(X, true_model)\n",
    "Y_v, Z_v = generate_YZ(X_v, true_model)\n",
    "print(\"Generated %d training data and %d validation data from true model:\" % \\\n",
    "    (ndata, ndata_v))\n",
    "true_model.print_p()\n",
    "print(\"\")"
   ]
  },
  {
   "cell_type": "code",
   "execution_count": 278,
   "metadata": {
    "collapsed": false,
    "scrolled": false
   },
   "outputs": [
    {
     "name": "stdout",
     "output_type": "stream",
     "text": [
      "START w 0.3713948502582311\n",
      "START phi_1 [-1.05449781]\n",
      "START sigma2_1 0.529950237875189\n",
      "START phi_2 [-0.28623553]\n",
      "START sigma2_2 0.19791253998191002\n",
      "phie/P 0.000286093511374 phie 0.000286093511374 err/sumGamma 0.376317088325 err 4.18648173948\n",
      "phie/P 0.102138443237 phie 0.102138443237 err/sum1-Gamma 0.158634655991 err 6.16694158715\n",
      "w 0.24305329839 phi_1 [ 0.0169143] phi_2 [ 0.31959106] s2_1 0.256447630699 s2_2 0.159403577854\n",
      "phie/P 0.0002570191728 phie 0.0002570191728 err/sumGamma 0.350472631998 err 3.99264356295\n",
      "phie/P 0.127199620541 phie 0.127199620541 err/sum1-Gamma 0.144716653382 err 5.5871960515\n",
      "w 0.248003135408 phi_1 [-0.01603182] phi_2 [ 0.35665056] s2_1 0.245689528695 s2_2 0.149481107212\n",
      "phie/P 0.00263868668664 phie 0.00263868668664 err/sumGamma 0.328872768207 err 3.84269741698\n",
      "phie/P 0.133353188408 phie 0.133353188408 err/sum1-Gamma 0.141077948058 err 5.40547917249\n",
      "w 0.253415740769 phi_1 [-0.05136815] phi_2 [ 0.36517556] s2_1 0.236802363565 s2_2 0.146911264931\n",
      "phie/P 0.00581451743151 phie 0.00581451743151 err/sumGamma 0.314276308399 err 3.71132352107\n",
      "phie/P 0.135841839215 phie 0.135841839215 err/sum1-Gamma 0.139811754869 err 5.33953533989\n",
      "w 0.25572426072 phi_1 [-0.07625298] phi_2 [ 0.36856728] s2_1 0.230445107475 s2_2 0.146029443728\n",
      "phie/P 0.00883847813222 phie 0.00883847813222 err/sumGamma 0.305293082463 err 3.60471019461\n",
      "phie/P 0.136964464719 phie 0.136964464719 err/sum1-Gamma 0.13929080704 err 5.31988142915\n",
      "w 0.255692146921 phi_1 [-0.09401318] phi_2 [ 0.3700871] s2_1 0.226285467989 s2_2 0.145662505681\n",
      "phie/P 0.0115244815706 phie 0.0115244815706 err/sumGamma 0.299927316351 err 3.51757966896\n",
      "phie/P 0.137408684875 phie 0.137408684875 err/sum1-Gamma 0.139084746462 err 5.32303652962\n",
      "w 0.254224204357 phi_1 [-0.10735214] phi_2 [ 0.37068677] s2_1 0.223595932461 s2_2 0.145507504855\n",
      "phie/P 0.013917689474 phie 0.013917689474 err/sumGamma 0.296751245461 err 3.44405984903\n",
      "phie/P 0.137488452012 phie 0.137488452012 err/sum1-Gamma 0.139035671976 err 5.33815203783\n",
      "w 0.251960772215 phi_1 [-0.11797326] phi_2 [ 0.37079435] s2_1 0.221815970878 s2_2 0.145457121108\n",
      "phie/P 0.0161044656751 phie 0.0161044656751 err/sumGamma 0.294866245579 err 3.37988876042\n",
      "phie/P 0.137371337567 phie 0.137371337567 err/sum1-Gamma 0.139069298024 err 5.35939042045\n",
      "w 0.249304577112 phi_1 [-0.12690337] phi_2 [ 0.3706364] s2_1 0.220582723793 s2_2 0.14546212122\n",
      "phie/P 0.0181561705523 phie 0.0181561705523 err/sumGamma 0.293732856119 err 3.32233870009\n",
      "phie/P 0.137150387529 phie 0.137150387529 err/sum1-Gamma 0.139146450246 err 5.383471896\n",
      "w 0.246495357619 phi_1 [-0.13474483] phi_2 [ 0.37033821] s2_1 0.2196762758 s2_2 0.145496833159\n",
      "phie/P 0.0201194196861 phie 0.0201194196861 err/sumGamma 0.293035670022 err 3.26975993343\n",
      "phie/P 0.136877530855 phie 0.136877530855 err/sum1-Gamma 0.139245641093 err 5.40854691342\n",
      "w 0.243670959364 phi_1 [-0.14184294] phi_2 [ 0.36996964] s2_1 0.218967985558 s2_2 0.14554720464\n",
      "phie/P 0.0220202533032 phie 0.0220202533032 err/sumGamma 0.29259347941 err 3.22117778987\n",
      "phie/P 0.136581697432 phie 0.136581697432 err/sum1-Gamma 0.139354934388 err 5.43358054294\n",
      "w 0.240908431142 phi_1 [-0.14839223] phi_2 [ 0.36956961] s2_1 0.218384188035 s2_2 0.145605398813\n",
      "phie/P 0.0238707323997 phie 0.0238707323997 err/sumGamma 0.292303257151 err 3.17601247597\n",
      "phie/P 0.136279003172 phie 0.136279003172 err/sum1-Gamma 0.139467659548 err 5.45800120905\n",
      "w 0.2382494574 phi_1 [-0.15450156] phi_2 [ 0.36915986] s2_1 0.217883119668 s2_2 0.145666994871\n",
      "phie/P 0.0256744993795 phie 0.0256744993795 err/sumGamma 0.292106536348 err 3.13390337724\n",
      "phie/P 0.135978462443 phie 0.135978462443 err/sum1-Gamma 0.13958006533 err 5.48150018559\n",
      "w 0.235715397515 phi_1 [-0.16023264] phi_2 [ 0.36875258] s2_1 0.217441022001 s2_2 0.145729466468\n",
      "phie/P 0.0274306786754 phie 0.0274306786754 err/sumGamma 0.291969811057 err 3.09460588294\n",
      "phie/P 0.135685154083 phie 0.135685154083 err/sum1-Gamma 0.139690026607 err 5.50391819554\n",
      "w 0.233315947323 phi_1 [-0.1656221] phi_2 [ 0.36835466] s2_1 0.217044081876 s2_2 0.145791344928\n",
      "phie/P 0.0291363545347 phie 0.0291363545347 err/sumGamma 0.291873394899 err 3.0579340007\n",
      "phie/P 0.135401954959 phie 0.135401954959 err/sum1-Gamma 0.139796333703 err 5.52518178018\n",
      "w 0.231054060891 phi_1 [-0.17069374] phi_2 [ 0.36797005] s2_1 0.216683896759 s2_2 0.14585175948\n",
      "phie/P 0.0307880283542 phie 0.0307880283542 err/sumGamma 0.291805229981 err 3.02373017271\n",
      "phie/P 0.135130481674 phie 0.135130481674 err/sum1-Gamma 0.13989830321 err 5.54526766598\n",
      "w 0.228928742344 phi_1 [-0.17546518] phi_2 [ 0.36760098] s2_1 0.216354990856 s2_2 0.145910185391\n",
      "phie/P 0.0323824082456 phie 0.0323824082456 err/sumGamma 0.291757514629 err 2.99185046055\n",
      "phie/P 0.134871602293 phie 0.134871602293 err/sum1-Gamma 0.139995564471 err 5.56418265861\n",
      "w 0.226936646749 phi_1 [-0.17995113] phi_2 [ 0.36724869] s2_1 0.216053487149 s2_2 0.145966305774\n",
      "phie/P 0.0339167887763 phie 0.0339167887763 err/sumGamma 0.29172489422 err 2.96215798383\n",
      "phie/P 0.134625718285 phie 0.134625718285 err/sum1-Gamma 0.140087940958 err 5.58195206304\n",
      "w 0.225073020819 phi_1 [-0.18416511] phi_2 [ 0.36691378] s2_1 0.215776412069 s2_2 0.146019934836\n",
      "phie/P 0.035389193057 phie 0.035389193057 err/sumGamma 0.29170349668 err 2.93452053028\n",
      "phie/P 0.134392924978 phie 0.134392924978 err/sum1-Gamma 0.140175382467 err 5.59861277497\n",
      "w 0.223332276558 phi_1 [-0.18812016] phi_2 [ 0.36659641] s2_1 0.215521336611 s2_2 0.146070974014\n",
      "phie/P 0.0367983852325 phie 0.0367983852325 err/sumGamma 0.291690413359 err 2.90881009877\n",
      "phie/P 0.134173107875 phie 0.134173107875 err/sum1-Gamma 0.140257924493 err 5.61420895721\n",
      "w 0.221708357087 phi_1 [-0.19182905] phi_2 [ 0.36629648] s2_1 0.21528619129 s2_2 0.146119385652\n",
      "phie/P 0.0381438178881 phie 0.0381438178881 err/sumGamma 0.291683409889 err 2.88490320938\n",
      "phie/P 0.133966004576 phie 0.133966004576 err/sum1-Gamma 0.140335662341 err 5.62878918612\n",
      "w 0.220194980533 phi_1 [-0.19530442] phi_2 [ 0.36601367] s2_1 0.215069168488 s2_2 0.146165176136\n",
      "phie/P 0.0394255511557 phie 0.0394255511557 err/sumGamma 0.291680754283 err 2.86268141227\n",
      "phie/P 0.133771247505 phie 0.133771247505 err/sum1-Gamma 0.140408733489 err 5.6424044746\n",
      "w 0.218785808484 phi_1 [-0.19855868] phi_2 [ 0.36574752] s2_1 0.214868667655 s2_2 0.146208384285\n",
      "phie/P 0.0406441634995 phie 0.0406441634995 err/sumGamma 0.2916811051 err 2.84203174561\n",
      "phie/P 0.13358839519 phie 0.13358839519 err/sum1-Gamma 0.140477304856 err 5.65510685234\n",
      "w 0.217474564841 phi_1 [-0.20160398] phi_2 [ 0.36549746] s2_1 0.214683261212 s2_2 0.14624907285\n",
      "phie/P 0.0418006644117 phie 0.0418006644117 err/sumGamma 0.291683431514 err 2.82284705364\n",
      "phie/P 0.133416956073 phie 0.133416956073 err/sum1-Gamma 0.14054156322 err 5.66694832574\n",
      "w 0.216255120033 phi_1 [-0.20445211] phi_2 [ 0.36526286] s2_1 0.214511670576 s2_2 0.146287322005\n",
      "phie/P 0.0428964138111 phie 0.0428964138111 err/sumGamma 0.291686951759 err 2.80502615124\n",
      "phie/P 0.133256407022 phie 0.133256407022 err/sum1-Gamma 0.140601707844 err 5.67798011278\n",
      "w 0.215121549948 phi_1 [-0.20711449] phi_2 [ 0.36504302] s2_1 0.214352747391 s2_2 0.146323224221\n",
      "phie/P 0.0439330500159 phie 0.0439330500159 err/sumGamma 0.291691083516 err 2.78847385282\n",
      "phie/P 0.133106207808 phie 0.133106207808 err/sum1-Gamma 0.140657944742 err 5.68825208586\n",
      "w 0.2140681758 phi_1 [-0.20960212] phi_2 [ 0.36483723] s2_1 0.214205457834 s2_2 0.146356880202\n",
      "phie/P 0.0449124266648 phie 0.0449124266648 err/sumGamma 0.291695403079 err 2.77310089316\n",
      "phie/P 0.13296581239 phie 0.13296581239 err/sum1-Gamma 0.140710482231 err 5.69781237585\n",
      "w 0.213089589466 phi_1 [-0.21192552] phi_2 [ 0.36464478] s2_1 0.214068869024 s2_2 0.146388395652\n",
      "phie/P 0.0458365582305 phie 0.0458365582305 err/sumGamma 0.291699611588 err 2.75882376792\n",
      "phie/P 0.132834677607 phie 0.132834677607 err/sum1-Gamma 0.140759527524 err 5.70670710238\n",
      "w 0.212180667696 phi_1 [-0.21409474] phi_2 [ 0.36446492] s2_1 0.213942137151 s2_2 0.146417878715\n",
      "phie/P 0.0467075734498 phie 0.0467075734498 err/sumGamma 0.291703507223 err 2.74556451798\n",
      "phie/P 0.132712269774 phie 0.132712269774 err/sum1-Gamma 0.140805284144 err 5.71498020301\n",
      "w 0.211336577876 phi_1 [-0.21611935] phi_2 [ 0.36429695] s2_1 0.213824497066 s2_2 0.146445437986\n",
      "phie/P 0.0475276758787 phie 0.0475276758787 err/sumGamma 0.291706962486 err 2.73325047711\n",
      "phie/P 0.132598069569 phie 0.132598069569 err/sum1-Gamma 0.140847950024 err 5.72267333926\n",
      "w 0.210552777439 phi_1 [-0.21800843] phi_2 [ 0.36414018] s2_1 0.213715253205 s2_2 0.146471180971\n",
      "phie/P 0.0482991107727 phie 0.0482991107727 err/sumGamma 0.29170990585 err 2.72181399796\n",
      "phie/P 0.132491575541 phie 0.132491575541 err/sum1-Gamma 0.140887716147 err 5.72982586181\n",
      "w 0.20982500863 phi_1 [-0.21977059] phi_2 [ 0.36399392] s2_1 0.21361377168 s2_2 0.146495212931\n",
      "phie/P 0.0490241375238 phie 0.0490241375238 err/sumGamma 0.291712307081 err 2.71119216783\n",
      "phie/P 0.132392306522 phie 0.132392306522 err/sum1-Gamma 0.140924765614 err 5.73647482023\n",
      "w 0.209149289926 phi_1 [-0.22141395] phi_2 [ 0.36385754] s2_1 0.213519473428 s2_2 0.146517636027\n",
      "phie/P 0.0497050069503 phie 0.0497050069503 err/sumGamma 0.291714165661 err 2.70132652247\n",
      "phie/P 0.132299803161 phie 0.132299803161 err/sum1-Gamma 0.140959273061 err 5.742655006\n",
      "w 0.20852190517 phi_1 [-0.2229462] phi_2 [ 0.3637304] s2_1 0.213431828265 s2_2 0.146538548716\n",
      "phie/P 0.0503439427927 phie 0.0503439427927 err/sumGamma 0.291715501735 err 2.69216276379\n",
      "phie/P 0.132213628783 phie 0.132213628783 err/sum1-Gamma 0.14099140434 err 5.74839901929\n",
      "w 0.207939391213 phi_1 [-0.22437456] phi_2 [ 0.36361192] s2_1 0.213350349744 s2_2 0.146558045343\n",
      "phie/P 0.0509431268415 phie 0.0509431268415 err/sumGamma 0.291716349155 err 2.68365048565\n",
      "phie/P 0.132133369714 phie 0.132133369714 err/sum1-Gamma 0.141021316401 err 5.75373735236\n",
      "w 0.207398524693 phi_1 [-0.22570584] phi_2 [ 0.36350154] s2_1 0.213274590684 s2_2 0.14657621588\n",
      "phie/P 0.0515046871806 phie 0.0515046871806 err/sumGamma 0.291716750194 err 2.67574291048\n",
      "phie/P 0.132058635208 phie 0.132058635208 err/sum1-Gamma 0.141049157341 err 5.75869848391\n",
      "w 0.206896308421 phi_1 [-0.22694644] phi_2 [ 0.36339873] s2_1 0.213204139293 s2_2 0.146593145804\n",
      "phie/P 0.0520306890907 phie 0.0520306890907 err/sumGamma 0.291716751597 err 2.66839663831\n",
      "phie/P 0.131989057072 phie 0.131989057072 err/sum1-Gamma 0.14107506656 err 5.76330897987\n",
      "w 0.206429957707 phi_1 [-0.22810237] phi_2 [ 0.36330298] s2_1 0.21313861578 s2_2 0.146608916051\n",
      "phie/P 0.0525231282135 phie 0.0525231282135 err/sumGamma 0.291716401697 err 2.66157140941\n",
      "phie/P 0.131924289071 phie 0.131924289071 err/sum1-Gamma 0.141099175005 err 5.7675935973\n",
      "w 0.205996886901 phi_1 [-0.22917925] phi_2 [ 0.36321383] s2_1 0.213077669388 s2_2 0.146623603049\n",
      "phie/P 0.0529839256229 phie 0.0529839256229 err/sumGamma 0.291715748353 err 2.65522988072\n",
      "phie/P 0.131864006173 phie 0.131864006173 err/sum1-Gamma 0.141121605471 err 5.77157538899\n",
      "w 0.205594696316 phi_1 [-0.23018237] phi_2 [ 0.36313084] s2_1 0.213020975791 s2_2 0.14663727881\n",
      "phie/P 0.0534149244986 phie 0.0534149244986 err/sumGamma 0.291714837531 err 2.64933741625\n",
      "phie/P 0.13180790369 phie 0.13180790369 err/sum1-Gamma 0.141142472949 err 5.77527580669\n",
      "w 0.205221159654 phi_1 [-0.23111669] phi_2 [ 0.36305358] s2_1 0.212968234788 s2_2 0.14665001105\n",
      "phie/P 0.0538178881341 phie 0.0538178881341 err/sumGamma 0.291713712375 err 2.64386189111\n",
      "phie/P 0.131755696357 phie 0.131755696357 err/sum1-Gamma 0.141161884989 err 5.77871480185\n",
      "w 0.204874212027 phi_1 [-0.23198683] phi_2 [ 0.36298167] s2_1 0.212919168258 s2_2 0.146661863343\n",
      "phie/P 0.0541944990501 phie 0.0541944990501 err/sumGamma 0.291712412638 err 2.6387735088\n",
      "phie/P 0.131707117361 phie 0.131707117361 err/sum1-Gamma 0.141179942085 err 5.78191092275\n",
      "w 0.204551938604 phi_1 [-0.23279712] phi_2 [ 0.36291475] s2_1 0.21287351834 s2_2 0.146672895293\n",
      "phie/P 0.0545463590138 phie 0.0545463590138 err/sumGamma 0.291710974403 err 2.63404463116\n",
      "phie/P 0.131661917372 phie 0.131661917372 err/sum1-Gamma 0.141196738052 err 5.78488140749\n",
      "w 0.204252563914 phi_1 [-0.23355162] phi_2 [ 0.36285247] s2_1 0.212831045799 s2_2 0.146683162716\n",
      "phie/P 0.0548749897933 phie 0.0548749897933 err/sumGamma 0.291709429984 err 2.6296496203\n",
      "phie/P 0.131619863561 phie 0.131619863561 err/sum1-Gamma 0.141212360418 err 5.78764227249\n",
      "w 0.203974441815 phi_1 [-0.23425411] phi_2 [ 0.36279452] s2_1 0.212791528553 s2_2 0.146692717829\n",
      "phie/P 0.0551818345032 phie 0.0551818345032 err/sumGamma 0.291707807984 err 2.62556469197\n",
      "phie/P 0.131580738651 phie 0.131580738651 err/sum1-Gamma 0.141226890789 err 5.79020839614\n",
      "w 0.203716046097 phi_1 [-0.23490814] phi_2 [ 0.36274059] s2_1 0.212754760351 s2_2 0.146701609441\n",
      "phie/P 0.0554682594153 phie 0.0554682594153 err/sumGamma 0.291706133439 err 2.62176777946\n",
      "phie/P 0.131544339979 phie 0.131544339979 err/sum1-Gamma 0.141240405215 err 5.79259359775\n",
      "w 0.203475961727 phi_1 [-0.235517] phi_2 [ 0.36269042] s2_1 0.212720549563 s2_2 0.146709883144\n",
      "phie/P 0.0557355561302 phie 0.0557355561302 err/sumGamma 0.291704428035 err 2.6182384076\n",
      "phie/P 0.131510478602 phie 0.131510478602 err/sum1-Gamma 0.141252974541 err 5.79481071162\n",
      "w 0.203252876693 phi_1 [-0.23608379] phi_2 [ 0.36264374] s2_1 0.212688718089 s2_2 0.146717581496\n",
      "phie/P 0.0559849440214 phie 0.0559849440214 err/sumGamma 0.291702710352 err 2.61495757601\n",
      "phie/P 0.131478978431 phie 0.131478978431 err/sum1-Gamma 0.141264664738 err 5.79687165652\n",
      "w 0.203045574421 phi_1 [-0.23661138] phi_2 [ 0.3626003] s2_1 0.212659100355 s2_2 0.146724744204\n",
      "phie/P 0.0562175728769 phie 0.0562175728769 err/sumGamma 0.291700996136 err 2.61190765094\n",
      "phie/P 0.131449675414 phie 0.131449675414 err/sum1-Gamma 0.141275537222 err 5.79878750059\n",
      "w 0.202852926744 phi_1 [-0.23710245] phi_2 [ 0.36255989] s2_1 0.212631542398 s2_2 0.146731408298\n",
      "phie/P 0.0564345256761 phie 0.0564345256761 err/sumGamma 0.291699298573 err 2.60907226525\n",
      "phie/P 0.131422416749 phie 0.131422416749 err/sum1-Gamma 0.141285649155 err 5.8005685219\n",
      "w 0.202673887371 phi_1 [-0.23755952] phi_2 [ 0.3625223] s2_1 0.212605901023 s2_2 0.1467376083\n",
      "phie/P 0.0566368214505 phie 0.0566368214505 err/sumGamma 0.291697628558 err 2.60643622579\n",
      "phie/P 0.131397060149 phie 0.131397060149 err/sum1-Gamma 0.141295053731 err 5.80222426494\n",
      "w 0.202507485848 phi_1 [-0.23798492] phi_2 [ 0.36248732] s2_1 0.212582043035 s2_2 0.14674337638\n",
      "phie/P 0.0568254181857 phie 0.0568254181857 err/sumGamma 0.291695994953 err 2.60398542765\n",
      "phie/P 0.131373473143 phie 0.131373473143 err/sum1-Gamma 0.141303800439 err 5.80376359315\n",
      "w 0.202352821957 phi_1 [-0.23838083] phi_2 [ 0.36245479] s2_1 0.212559844518 s2_2 0.146748742511\n",
      "phie/P 0.0570012157298 phie 0.0570012157298 err/sumGamma 0.291694404836 err 2.60170677487\n",
      "phie/P 0.131351532418 phie 0.131351532418 err/sum1-Gamma 0.141311935322 err 5.80519473779\n",
      "w 0.202209060536 phi_1 [-0.23874927] phi_2 [ 0.36242452] s2_1 0.212539190182 s2_2 0.146753734611\n",
      "phie/P 0.0571650586795 phie 0.0571650586795 err/sumGamma 0.291692863722 err 2.59958810702\n",
      "phie/P 0.131331123204 phie 0.131331123204 err/sum1-Gamma 0.141319501205 err 5.80652534338\n",
      "w 0.202075426684 phi_1 [-0.23909216] phi_2 [ 0.36239636] s2_1 0.212519972756 s2_2 0.146758378678\n",
      "phie/P 0.0573177392223 phie 0.0573177392223 err/sumGamma 0.291691375774 err 2.59761813123\n",
      "phie/P 0.13131213869 phie 0.13131213869 err/sum1-Gamma 0.141326537922 err 5.80776250984\n",
      "w 0.20195120133 phi_1 [-0.23941123] phi_2 [ 0.36237017] s2_1 0.212502092419 s2_2 0.14676269892\n",
      "phie/P 0.0574599999161 phie 0.0574599999161 err/sumGamma 0.291689943994 err 2.59578635931\n",
      "phie/P 0.131294479486 phie 0.131294479486 err/sum1-Gamma 0.141333082522 err 5.80891283166\n",
      "w 0.201835717125 phi_1 [-0.23970816] phi_2 [ 0.3623458] s2_1 0.212485456281 s2_2 0.146766717873\n",
      "phie/P 0.0575925363926 phie 0.0575925363926 err/sumGamma 0.291688570387 err 2.59408304952\n",
      "phie/P 0.131278053115 phie 0.131278053115 err/sum1-Gamma 0.141339169459 err 5.80998243428\n",
      "w 0.201728354655 phi_1 [-0.23998445] phi_2 [ 0.36232313] s2_1 0.212469977901 s2_2 0.146770456514\n",
      "phie/P 0.0577159999741 phie 0.0577159999741 err/sumGamma 0.291687256118 err 2.59249915259\n",
      "phie/P 0.131262773532 phie 0.131262773532 err/sum1-Gamma 0.141344830774 err 5.81097700771\n",
      "w 0.201628538926 phi_1 [-0.24024155] phi_2 [ 0.36230205] s2_1 0.212455576835 s2_2 0.146773934369\n",
      "phie/P 0.0578310001962 phie 0.0578310001962 err/sumGamma 0.291686001645 err 2.59102626185\n",
      "phie/P 0.131248560689 phie 0.131248560689 err/sum1-Gamma 0.141350096266 err 5.81190183791\n",
      "w 0.201535736123 phi_1 [-0.24048077] phi_2 [ 0.36228243] s2_1 0.212442178219 s2_2 0.146777169607\n",
      "phie/P 0.0579381072312 phie 0.0579381072312 err/sumGamma 0.291684806834 err 2.58965656696\n",
      "phie/P 0.131235340115 phie 0.131235340115 err/sum1-Gamma 0.141354993643 err 5.81276183573\n",
      "w 0.201449450602 phi_1 [-0.24070336] phi_2 [ 0.36226419] s2_1 0.212429712384 s2_2 0.146780179138\n",
      "phie/P 0.0580378542079 phie 0.0580378542079 err/sumGamma 0.29168367107 err 2.58838281101\n",
      "phie/P 0.131223042532 phie 0.131223042532 err/sum1-Gamma 0.141359548672 err 5.81356156381\n",
      "w 0.201369222115 phi_1 [-0.24091047] phi_2 [ 0.36224721] s2_1 0.212418114491 s2_2 0.146782978697\n",
      "phie/P 0.0581307394277 phie 0.0581307394277 err/sumGamma 0.291682593343 err 2.58719825086\n",
      "phie/P 0.131211603494 phie 0.131211603494 err/sum1-Gamma 0.141363785316 err 5.81430526156\n",
      "w 0.201294623239 phi_1 [-0.24110317] phi_2 [ 0.36223142] s2_1 0.2124073242 s2_2 0.146785582924\n",
      "phie/P 0.0582172284755 phie 0.0582172284755 err/sumGamma 0.291681572324 err 2.58609662031\n",
      "phie/P 0.131200963053 phie 0.131200963053 err/sum1-Gamma 0.141367725855 err 5.8149968683\n",
      "w 0.201225256993 phi_1 [-0.24128247] phi_2 [ 0.36221673] s2_1 0.212397285357 s2_2 0.146788005443\n",
      "phie/P 0.0582977562257 phie 0.0582977562257 err/sumGamma 0.29168060644 err 2.58507209599\n",
      "phie/P 0.131191065446 phie 0.131191065446 err/sum1-Gamma 0.141371391009 err 5.81564004469\n",
      "w 0.201160754639 phi_1 [-0.24144928] phi_2 [ 0.36220307] s2_1 0.212387945705 s2_2 0.146790258925\n",
      "phie/P 0.0583727287465 phie 0.0583727287465 err/sumGamma 0.291679693925 err 2.58411926576\n",
      "phie/P 0.131181858799 phie 0.131181858799 err/sum1-Gamma 0.141374800047 err 5.81623819264\n",
      "w 0.201100773642 phi_1 [-0.24160449] phi_2 [ 0.36219036] s2_1 0.212379256613 s2_2 0.146792355163\n",
      "phie/P 0.0584425251026 phie 0.0584425251026 err/sumGamma 0.291678832876 err 2.58323309934\n",
      "phie/P 0.131173294866 phie 0.131173294866 err/sum1-Gamma 0.141377970885 err 5.8167944738\n",
      "w 0.201044995777 phi_1 [-0.24174889] phi_2 [ 0.36217854] s2_1 0.212371172825 s2_2 0.146794305126\n",
      "phie/P 0.0585074990602 phie 0.0585074990602 err/sumGamma 0.291678021288 err 2.58240892111\n",
      "phie/P 0.131165328765 phie 0.131165328765 err/sum1-Gamma 0.141380920186 err 5.81731182667\n",
      "w 0.200993125387 phi_1 [-0.24188323] phi_2 [ 0.36216754] s2_1 0.212363652226 s2_2 0.14679611902\n",
      "phie/P 0.0585679806976 phie 0.0585679806976 err/sumGamma 0.291677257095 err 2.58164238493\n",
      "phie/P 0.13115791875 phie 0.13115791875 err/sum1-Gamma 0.141383663443 err 5.81779298247\n",
      "w 0.200944887754 phi_1 [-0.24200822] phi_2 [ 0.36215731] s2_1 0.212356655626 s2_2 0.146797806338\n",
      "phie/P 0.0586242779237 phie 0.0586242779237 err/sumGamma 0.291676538197 err 2.58092945068\n",
      "phie/P 0.131151025993 phie 0.131151025993 err/sum1-Gamma 0.141386215066 err 5.81824047992\n",
      "w 0.200900027605 phi_1 [-0.24212451] phi_2 [ 0.3621478] s2_1 0.212350146557 s2_2 0.146799375912\n",
      "phie/P 0.0586766779087 phie 0.0586766779087 err/sumGamma 0.291675862485 err 2.58026636255\n",
      "phie/P 0.131144614374 phie 0.131144614374 err/sum1-Gamma 0.141388588455 err 5.8186566789\n",
      "w 0.200858307712 phi_1 [-0.24223269] phi_2 [ 0.36213894] s2_1 0.212344091084 s2_2 0.146800835958\n",
      "phie/P 0.058725448431 phie 0.058725448431 err/sumGamma 0.291675227862 err 2.5796496289\n",
      "phie/P 0.131138650299 phie 0.131138650299 err/sum1-Gamma 0.141390796071 err 5.81904377312\n",
      "w 0.20081950761 phi_1 [-0.24233334] phi_2 [ 0.36213071] s2_1 0.212338457629 s2_2 0.146802194119\n",
      "phie/P 0.0587708391434 phie 0.0587708391434 err/sumGamma 0.291674632258 err 2.57907600354\n",
      "phie/P 0.13113310252 phie 0.13113310252 err/sum1-Gamma 0.141392849502 err 5.81940380197\n",
      "w 0.200783422393 phi_1 [-0.24242698] phi_2 [ 0.36212305] s2_1 0.21233321681 s2_2 0.146803457505\n",
      "phie/P 0.0588130827623 phie 0.0588130827623 err/sumGamma 0.291674073642 err 2.57854246837\n",
      "phie/P 0.13112794197 phie 0.13112794197 err/sum1-Gamma 0.141394759527 err 5.81973866138\n",
      "w 0.200749861612 phi_1 [-0.24251409] phi_2 [ 0.36211592] s2_1 0.212328341286 s2_2 0.146804632729\n",
      "phie/P 0.0588523961848 phie 0.0588523961848 err/sumGamma 0.291673550039 err 2.57804621721\n",
      "phie/P 0.131123141614 phie 0.131123141614 err/sum1-Gamma 0.141396536167 err 5.82005011402\n",
      "w 0.200718648238 phi_1 [-0.24259513] phi_2 [ 0.3621093] s2_1 0.212323805617 s2_2 0.146805725944\n",
      "phie/P 0.0588889815357 phie 0.0588889815357 err/sumGamma 0.291673059527 err 2.57758464093\n",
      "phie/P 0.131118676305 phie 0.131118676305 err/sum1-Gamma 0.141398188745 err 5.82033979873\n",
      "w 0.200689617716 phi_1 [-0.24267052] phi_2 [ 0.36210313] s2_1 0.212319586132 s2_2 0.146806742873\n",
      "phie/P 0.05892302715 phie 0.05892302715 err/sumGamma 0.291672600255 err 2.57715531343\n",
      "phie/P 0.13111452265 phie 0.13111452265 err/sum1-Gamma 0.141399725931 err 5.82060923924\n",
      "w 0.200662617071 phi_1 [-0.24274066] phi_2 [ 0.36209739] s2_1 0.212315660807 s2_2 0.146807688839\n",
      "phie/P 0.0589547084927 phie 0.0589547084927 err/sumGamma 0.291672170438 err 2.57675597881\n",
      "phie/P 0.131110658894 phie 0.131110658894 err/sum1-Gamma 0.141401155785 err 5.82085985231\n",
      "w 0.200637504094 phi_1 [-0.24280591] phi_2 [ 0.36209206] s2_1 0.212312009149 s2_2 0.146808568794\n",
      "phie/P 0.0589841890202 phie 0.0589841890202 err/sumGamma 0.291671768364 err 2.57638453933\n",
      "phie/P 0.131107064798 phie 0.131107064798 err/sum1-Gamma 0.141402485809 err 5.82109295531\n",
      "w 0.200614146574 phi_1 [-0.24286661] phi_2 [ 0.3620871] s2_1 0.212308612091 s2_2 0.146809387346\n",
      "phie/P 0.0590116209868 phie 0.0590116209868 err/sumGamma 0.291671392397 err 2.57603904433\n",
      "phie/P 0.131103721538 phie 0.131103721538 err/sum1-Gamma 0.141403722975 err 5.82130977316\n",
      "w 0.200592421591 phi_1 [-0.24292308] phi_2 [ 0.36208248] s2_1 0.212305451895 s2_2 0.146810148779\n",
      "phie/P 0.0590371461992 phie 0.0590371461992 err/sumGamma 0.291671040973 err 2.57571767978\n",
      "phie/P 0.131100611603 phie 0.131100611603 err/sum1-Gamma 0.14140487377 err 5.82151144494\n",
      "w 0.200572214861 phi_1 [-0.24297561] phi_2 [ 0.36207818] s2_1 0.212302512053 s2_2 0.146810857079\n",
      "phie/P 0.0590608967214 phie 0.0590608967214 err/sumGamma 0.291670712604 err 2.57541875878\n",
      "phie/P 0.131097718707 phie 0.131097718707 err/sum1-Gamma 0.141405944227 err 5.82169902983\n",
      "w 0.200553420124 phi_1 [-0.24302448] phi_2 [ 0.36207419] s2_1 0.21229977721 s2_2 0.146811515954\n",
      "phie/P 0.0590829955341 phie 0.0590829955341 err/sumGamma 0.291670405878 err 2.57514071253\n",
      "phie/P 0.1310950277 phie 0.1310950277 err/sum1-Gamma 0.141406939958 err 5.82187351283\n",
      "w 0.200535938577 phi_1 [-0.24306994] phi_2 [ 0.36207047] s2_1 0.212297233078 s2_2 0.146812128853\n",
      "phie/P 0.0591035571513 phie 0.0591035571513 err/sumGamma 0.291670119453 err 2.57488208209\n",
      "phie/P 0.13109252449 phie 0.13109252449 err/sum1-Gamma 0.141407866181 err 5.82203580991\n",
      "w 0.20051967835 phi_1 [-0.24311223] phi_2 [ 0.36206702] s2_1 0.212294866366 s2_2 0.146812698985\n",
      "phie/P 0.0591226881952 phie 0.0591226881952 err/sumGamma 0.29166985206 err 2.57464151065\n",
      "phie/P 0.131090195968 phie 0.131090195968 err/sum1-Gamma 0.14140872775 err 5.82218677288\n",
      "w 0.200504554015 phi_1 [-0.24315157] phi_2 [ 0.3620638] s2_1 0.212292664705 s2_2 0.146813229334\n",
      "phie/P 0.0591404879336 phie 0.0591404879336 err/sumGamma 0.291669602497 err 2.57441773634\n",
      "phie/P 0.131088029942 phie 0.131088029942 err/sum1-Gamma 0.141409529181 err 5.82232719394\n",
      "w 0.200490486133 phi_1 [-0.24318817] phi_2 [ 0.36206081] s2_1 0.21229061659 s2_2 0.146813722676\n",
      "phie/P 0.0591570487821 phie 0.0591570487821 err/sumGamma 0.291669369632 err 2.57420958558\n",
      "phie/P 0.131086015071 phie 0.131086015071 err/sum1-Gamma 0.141410274672 err 5.8224578098\n",
      "w 0.200477400834 phi_1 [-0.24322222] phi_2 [ 0.36205803] s2_1 0.212288711318 s2_2 0.146814181593\n",
      "phie/P 0.0591724567717 phie 0.0591724567717 err/sumGamma 0.291669152394 err 2.57401596689\n",
      "phie/P 0.131084140804 phie 0.131084140804 err/sum1-Gamma 0.141410968129 err 5.82257930562\n",
      "w 0.200465229421 phi_1 [-0.24325389] phi_2 [ 0.36205544] s2_1 0.21228693893 s2_2 0.146814608489\n",
      "phie/P 0.0591867919858 phie 0.0591867919858 err/sumGamma 0.291668949777 err 2.57383586515\n",
      "phie/P 0.131082397329 phie 0.131082397329 err/sum1-Gamma 0.141411613186 err 5.82269231863\n",
      "w 0.20045390801 phi_1 [-0.24328336] phi_2 [ 0.36205303] s2_1 0.21228529016 s2_2 0.146815005597\n",
      "phie/P 0.0592001289682 phie 0.0592001289682 err/sumGamma 0.291668760831 err 2.5736683362\n",
      "phie/P 0.131080775517 phie 0.131080775517 err/sum1-Gamma 0.141412213222 err 5.82279744146\n",
      "w 0.20044337719 phi_1 [-0.24331077] phi_2 [ 0.36205079] s2_1 0.21228375639 s2_2 0.146815374995\n",
      "phie/P 0.0592125371027 phie 0.0592125371027 err/sumGamma 0.291668584666 err 2.57351250191\n",
      "phie/P 0.131079266877 phie 0.131079266877 err/sum1-Gamma 0.141412771379 err 5.8228952253\n",
      "w 0.200433581711 phi_1 [-0.24333626] phi_2 [ 0.36204871] s2_1 0.2122823296 s2_2 0.146815718619\n",
      "phie/P 0.0592240809677 phie 0.0592240809677 err/sumGamma 0.291668420443 err 2.57336754554\n",
      "phie/P 0.131077863511 phie 0.131077863511 err/sum1-Gamma 0.141413290582 err 5.82298618279\n",
      "w 0.200424470187 phi_1 [-0.24335998] phi_2 [ 0.36204677] s2_1 0.212281002332 s2_2 0.146816038265\n",
      "phie/P 0.0592348206667 phie 0.0592348206667 err/sumGamma 0.291668267376 err 2.57323270744\n",
      "phie/P 0.131076558073 phie 0.131076558073 err/sum1-Gamma 0.14141377355 err 5.82307079072\n",
      "w 0.20041599483 phi_1 [-0.24338205] phi_2 [ 0.36204497] s2_1 0.212279767645 s2_2 0.146816335608\n",
      "phie/P 0.0592448121365 phie 0.0592448121365 err/sumGamma 0.291668124728 err 2.57310728105\n",
      "phie/P 0.131075343727 phie 0.131075343727 err/sum1-Gamma 0.141414222812 err 5.82314949255\n",
      "w 0.200408111195 phi_1 [-0.24340257] phi_2 [ 0.36204329] s2_1 0.212278619084 s2_2 0.146816612204\n",
      "phie/P 0.059254107434 phie 0.059254107434 err/sumGamma 0.291667991805 err 2.57299060919\n",
      "phie/P 0.131074214118 phie 0.131074214118 err/sum1-Gamma 0.14141464072 err 5.82322270075\n",
      "w 0.200400777945 phi_1 [-0.24342167] phi_2 [ 0.36204173] s2_1 0.212277550641 s2_2 0.1468168695\n",
      "phie/P 0.0592627550043 phie 0.0592627550043 err/sumGamma 0.291667867961 err 2.57288208061\n",
      "phie/P 0.131073163331 phie 0.131073163331 err/sum1-Gamma 0.141415029465 err 5.82329079893\n",
      "w 0.200393956634 phi_1 [-0.24343943] phi_2 [ 0.36204028] s2_1 0.212276556729 s2_2 0.146817108843\n",
      "phie/P 0.0592707999293 phie 0.0592707999293 err/sumGamma 0.291667752588 err 2.57278112673\n",
      "phie/P 0.131072185866 phie 0.131072185866 err/sum1-Gamma 0.14141539108 err 5.82335414393\n",
      "w 0.200387611507 phi_1 [-0.24345595] phi_2 [ 0.36203893] s2_1 0.21227563215 s2_2 0.146817331485\n",
      "phie/P 0.0592782841607 phie 0.0592782841607 err/sumGamma 0.291667645118 err 2.57268721875\n",
      "phie/P 0.131071276607 phie 0.131071276607 err/sum1-Gamma 0.14141572746 err 5.82341306762\n",
      "w 0.200381709304 phi_1 [-0.24347132] phi_2 [ 0.36203767] s2_1 0.212274772069 s2_2 0.146817538593\n",
      "phie/P 0.059285246736 phie 0.059285246736 err/sumGamma 0.291667545018 err 2.57259986475\n",
      "phie/P 0.131070430793 phie 0.131070430793 err/sum1-Gamma 0.141416040367 err 5.82346787871\n",
      "w 0.200376219095 phi_1 [-0.24348562] phi_2 [ 0.3620365] s2_1 0.212273971987 s2_2 0.14681773125\n",
      "phie/P 0.0592917239803 phie 0.0592917239803 err/sumGamma 0.291667451793 err 2.57251860722\n",
      "phie/P 0.131069643998 phie 0.131069643998 err/sum1-Gamma 0.141416331437 err 5.82351886432\n",
      "w 0.200371112108 phi_1 [-0.24349892] phi_2 [ 0.36203542] s2_1 0.212273227719 s2_2 0.146817910464\n",
      "phie/P 0.0592977496937 phie 0.0592977496937 err/sumGamma 0.291667364977 err 2.57244302057\n",
      "phie/P 0.131068912103 phie 0.131068912103 err/sum1-Gamma 0.141416602197 err 5.82356629153\n",
      "w 0.200366361585 phi_1 [-0.24351129] phi_2 [ 0.36203441] s2_1 0.212272535373 s2_2 0.146818077174\n",
      "phie/P 0.0593033553266 phie 0.0593033553266 err/sumGamma 0.291667284135 err 2.57237270896\n",
      "phie/P 0.131068231277 phie 0.131068231277 err/sum1-Gamma 0.141416854062 err 5.82361040874\n",
      "w 0.200361942635 phi_1 [-0.2435228] phi_2 [ 0.36203347] s2_1 0.212271891326 s2_2 0.146818232251\n",
      "phie/P 0.0593085701422 phie 0.0593085701422 err/sumGamma 0.291667208862 err 2.57230730416\n",
      "phie/P 0.131067597957 phie 0.131067597957 err/sum1-Gamma 0.141417088351 err 5.82365144703\n",
      "w 0.200357832108 phi_1 [-0.24353351] phi_2 [ 0.36203259] s2_1 0.21227129221 s2_2 0.146818376509\n",
      "phie/P 0.0593134213684 phie 0.0593134213684 err/sumGamma 0.29166713878 err 2.57224646369\n",
      "phie/P 0.131067008827 phie 0.131067008827 err/sum1-Gamma 0.141417306292 err 5.82368962133\n",
      "w 0.20035400847 phi_1 [-0.24354347] phi_2 [ 0.36203178] s2_1 0.21227073489 s2_2 0.1468185107\n",
      "phie/P 0.0593179343384 phie 0.0593179343384 err/sumGamma 0.291667073533 err 2.57218986896\n",
      "phie/P 0.131066460804 phie 0.131066460804 err/sum1-Gamma 0.141417509025 err 5.82372513154\n",
      "w 0.200350451693 phi_1 [-0.24355273] phi_2 [ 0.36203102] s2_1 0.212270216451 s2_2 0.146818635529\n",
      "phie/P 0.0593221326231 phie 0.0593221326231 err/sumGamma 0.291667012793 err 2.57213722363\n",
      "phie/P 0.131065951019 phie 0.131065951019 err/sum1-Gamma 0.141417697612 err 5.82375816363\n",
      "w 0.200347143147 phi_1 [-0.24356135] phi_2 [ 0.36203032] s2_1 0.212269734181 s2_2 0.146818751648\n",
      "phie/P 0.0593260381524 phie 0.0593260381524 err/sumGamma 0.29166695625 err 2.57208825206\n",
      "phie/P 0.131065476805 phie 0.131065476805 err/sum1-Gamma 0.141417873039 err 5.82378889056\n",
      "w 0.200344065503 phi_1 [-0.24356937] phi_2 [ 0.36202966] s2_1 0.212269285556 s2_2 0.146818859665\n",
      "phie/P 0.05932967133 phie 0.05932967133 err/sumGamma 0.291666903618 err 2.57204269784\n",
      "phie/P 0.131065035679 phie 0.131065035679 err/sum1-Gamma 0.141418036225 err 5.82381747324\n",
      "w 0.200341202643 phi_1 [-0.24357683] phi_2 [ 0.36202905] s2_1 0.212268868231 s2_2 0.146818960145\n",
      "phie/P 0.0593330511387 phie 0.0593330511387 err/sumGamma 0.291666854628 err 2.57200032246\n",
      "phie/P 0.131064625333 phie 0.131064625333 err/sum1-Gamma 0.141418188024 err 5.82384406131\n",
      "w 0.200338539574 phi_1 [-0.24358377] phi_2 [ 0.36202849] s2_1 0.21226848002 s2_2 0.146819053614\n",
      "phie/P 0.0593361952397 phie 0.0593361952397 err/sumGamma 0.29166680903 err 2.57196090409\n",
      "phie/P 0.131064243618 phie 0.131064243618 err/sum1-Gamma 0.141418329231 err 5.823868794\n",
      "w 0.200336062351 phi_1 [-0.24359022] phi_2 [ 0.36202796] s2_1 0.212268118893 s2_2 0.146819140562\n",
      "phie/P 0.0593391200642 phie 0.0593391200642 err/sumGamma 0.291666766591 err 2.57192423634\n",
      "phie/P 0.131063888537 phie 0.131063888537 err/sum1-Gamma 0.141418460585 err 5.82389180079\n",
      "w 0.200333758002 phi_1 [-0.24359622] phi_2 [ 0.36202747] s2_1 0.212267782962 s2_2 0.146819221443\n",
      "phie/P 0.0593418408989 phie 0.0593418408989 err/sumGamma 0.291666727094 err 2.57189012726\n",
      "phie/P 0.131063558232 phie 0.131063558232 err/sum1-Gamma 0.141418582774 err 5.82391320213\n",
      "w 0.20033161446 phi_1 [-0.24360181] phi_2 [ 0.36202701] s2_1 0.212267470467 s2_2 0.14681929668\n",
      "phie/P 0.0593443719656 phie 0.0593443719656 err/sumGamma 0.291666690336 err 2.57185839829\n",
      "phie/P 0.131063250973 phie 0.131063250973 err/sum1-Gamma 0.141418696436 err 5.82393311008\n",
      "w 0.200329620503 phi_1 [-0.243607] phi_2 [ 0.36202659] s2_1 0.212267179774 s2_2 0.146819366668\n",
      "phie/P 0.0593467264953 phie 0.0593467264953 err/sumGamma 0.291666656127 err 2.57182888333\n",
      "phie/P 0.131062965154 phie 0.131062965154 err/sum1-Gamma 0.141418802168 err 5.82395162884\n",
      "w 0.200327765689 phi_1 [-0.24361184] phi_2 [ 0.36202619] s2_1 0.212266909362 s2_2 0.146819431773\n",
      "phie/P 0.0593489167972 phie 0.0593489167972 err/sumGamma 0.291666624293 err 2.57180142787\n",
      "phie/P 0.131062699277 phie 0.131062699277 err/sum1-Gamma 0.141418900522 err 5.82396885538\n",
      "w 0.200326040307 phi_1 [-0.24361633] phi_2 [ 0.36202583] s2_1 0.212266657817 s2_2 0.146819492335\n",
      "phie/P 0.0593509543226 phie 0.0593509543226 err/sumGamma 0.291666594669 err 2.5717758882\n",
      "phie/P 0.131062451951 phie 0.131062451951 err/sum1-Gamma 0.141418992014 err 5.82398487986\n",
      "w 0.200324435325 phi_1 [-0.24362051] phi_2 [ 0.36202549] s2_1 0.212266423821 s2_2 0.146819548672\n",
      "phie/P 0.0593528497251 phie 0.0593528497251 err/sumGamma 0.291666567102 err 2.57175213062\n",
      "phie/P 0.131062221882 phie 0.131062221882 err/sum1-Gamma 0.141419077121 err 5.82399978618\n",
      "w 0.20032294234 phi_1 [-0.2436244] phi_2 [ 0.36202517] s2_1 0.212266206151 s2_2 0.146819601078\n",
      "phie/P 0.0593546129153 phie 0.0593546129153 err/sumGamma 0.291666541451 err 2.57173003078\n",
      "phie/P 0.131062007866 phie 0.131062007866 err/sum1-Gamma 0.141419156291 err 5.82401365237\n",
      "w 0.200321553535 phi_1 [-0.24362802] phi_2 [ 0.36202487] s2_1 0.212266003668 s2_2 0.146819649827\n",
      "phie/P 0.0593562531136 phie 0.0593562531136 err/sumGamma 0.291666517582 err 2.57170947299\n",
      "phie/P 0.131061808782 phie 0.131061808782 err/sum1-Gamma 0.141419229936 err 5.824026551\n",
      "w 0.200320261641 phi_1 [-0.24363139] phi_2 [ 0.3620246] s2_1 0.212265815312 s2_2 0.146819695175\n",
      "phie/P 0.0593577788973 phie 0.0593577788973 err/sumGamma 0.291666495373 err 2.57169034965\n",
      "phie/P 0.131061623589 phie 0.131061623589 err/sum1-Gamma 0.141419298442 err 5.8240385496\n",
      "w 0.200319059894 phi_1 [-0.24363452] phi_2 [ 0.36202434] s2_1 0.212265640097 s2_2 0.146819737359\n",
      "phie/P 0.0593591982458 phie 0.0593591982458 err/sumGamma 0.291666474708 err 2.57167256067\n",
      "phie/P 0.131061451318 phie 0.131061451318 err/sum1-Gamma 0.141419362169 err 5.82404971098\n",
      "w 0.200317942002 phi_1 [-0.24363743] phi_2 [ 0.3620241] s2_1 0.212265477107 s2_2 0.146819776599\n",
      "phie/P 0.0593605185826 phie 0.0593605185826 err/sumGamma 0.29166645548 err 2.57165601293\n",
      "phie/P 0.131061291067 phie 0.131061291067 err/sum1-Gamma 0.141419421449 err 5.82406009355\n",
      "w 0.200316902116 phi_1 [-0.24364014] phi_2 [ 0.36202388] s2_1 0.212265325489 s2_2 0.146819813102\n",
      "phie/P 0.0593617468131 phie 0.0593617468131 err/sumGamma 0.291666437589 err 2.57164061982\n",
      "phie/P 0.131061141996 phie 0.131061141996 err/sum1-Gamma 0.141419476593 err 5.82406975167\n",
      "w 0.20031593479 phi_1 [-0.24364266] phi_2 [ 0.36202368] s2_1 0.212265184449 s2_2 0.146819847058\n",
      "phie/P 0.0593628893617 phie 0.0593628893617 err/sumGamma 0.291666420944 err 2.57162630076\n",
      "phie/P 0.131061003327 phie 0.131061003327 err/sum1-Gamma 0.141419527889 err 5.82407873587\n",
      "w 0.200315034961 phi_1 [-0.24364501] phi_2 [ 0.36202348] s2_1 0.212265053249 s2_2 0.146819878644\n",
      "phie/P 0.0593639522046 phie 0.0593639522046 err/sumGamma 0.291666405457 err 2.57161298083\n",
      "phie/P 0.131060874334 phie 0.131060874334 err/sum1-Gamma 0.141419575606 err 5.8240870932\n",
      "w 0.20031419792 phi_1 [-0.24364719] phi_2 [ 0.36202331] s2_1 0.212264931204 s2_2 0.146819908027\n",
      "phie/P 0.0593649409013 phie 0.0593649409013 err/sumGamma 0.291666391048 err 2.57160059029\n",
      "phie/P 0.13106075434 phie 0.13106075434 err/sum1-Gamma 0.141419619994 err 5.8240948674\n",
      "w 0.200313419285 phi_1 [-0.24364922] phi_2 [ 0.36202314] s2_1 0.212264817673 s2_2 0.14681993536\n",
      "phie/P 0.0593658606239 phie 0.0593658606239 err/sumGamma 0.291666377642 err 2.5715890643\n",
      "phie/P 0.131060642719 phie 0.131060642719 err/sum1-Gamma 0.141419661285 err 5.82410209914\n",
      "w 0.20031269498 phi_1 [-0.2436511] phi_2 [ 0.36202299] s2_1 0.212264712064 s2_2 0.146819960785\n",
      "phie/P 0.0593667161834 phie 0.0593667161834 err/sumGamma 0.291666365169 err 2.57157834253\n",
      "phie/P 0.131060538886 phie 0.131060538886 err/sum1-Gamma 0.141419699694 err 5.82410882629\n",
      "w 0.200312021214 phi_1 [-0.24365286] phi_2 [ 0.36202284] s2_1 0.212264613823 s2_2 0.146819984437\n",
      "phie/P 0.0593675120557 phie 0.0593675120557 err/sumGamma 0.291666353565 err 2.57156836886\n",
      "phie/P 0.131060442298 phie 0.131060442298 err/sum1-Gamma 0.141419735424 err 5.82411508406\n",
      "w 0.200311394461 phi_1 [-0.24365449] phi_2 [ 0.36202271] s2_1 0.212264522436 s2_2 0.146820006438\n",
      "phie/P 0.0593682524042 phie 0.0593682524042 err/sumGamma 0.291666342769 err 2.5715590911\n",
      "phie/P 0.131060352449 phie 0.131060352449 err/sum1-Gamma 0.14141976866 err 5.82412090519\n",
      "w 0.200310811439 phi_1 [-0.24365601] phi_2 [ 0.36202259] s2_1 0.212264437426 s2_2 0.146820026904\n",
      "phie/P 0.0593689411022 phie 0.0593689411022 err/sumGamma 0.291666332725 err 2.57155046069\n",
      "phie/P 0.131060268869 phie 0.131060268869 err/sum1-Gamma 0.141419799578 err 5.82412632015\n",
      "w 0.200310269099 phi_1 [-0.24365743] phi_2 [ 0.36202247] s2_1 0.212264358346 s2_2 0.146820045942\n",
      "phie/P 0.0593695817528 phie 0.0593695817528 err/sumGamma 0.291666323381 err 2.57154243246\n",
      "phie/P 0.13106019112 phie 0.13106019112 err/sum1-Gamma 0.141419828338 err 5.82413135729\n",
      "w 0.2003097646 phi_1 [-0.24365874] phi_2 [ 0.36202236] s2_1 0.212264284785 s2_2 0.146820063652\n",
      "phie/P 0.0593701777076 phie 0.0593701777076 err/sumGamma 0.291666314688 err 2.57153496438\n",
      "phie/P 0.131060118797 phie 0.131060118797 err/sum1-Gamma 0.141419855092 err 5.82413604297\n",
      "w 0.200309295302 phi_1 [-0.24365996] phi_2 [ 0.36202226] s2_1 0.212264216355 s2_2 0.146820080127\n",
      "phie/P 0.0593707320848 phie 0.0593707320848 err/sumGamma 0.291666306601 err 2.57152801739\n",
      "phie/P 0.131060051519 phie 0.131060051519 err/sum1-Gamma 0.141419879979 err 5.8241404017\n",
      "w 0.200308858749 phi_1 [-0.2436611] phi_2 [ 0.36202217] s2_1 0.2122641527 s2_2 0.146820095451\n",
      "phie/P 0.0593712477848 phie 0.0593712477848 err/sumGamma 0.291666299077 err 2.57152155511\n",
      "phie/P 0.131059988936 phie 0.131059988936 err/sum1-Gamma 0.14141990313 err 5.82414445632\n",
      "w 0.200308452657 phi_1 [-0.24366216] phi_2 [ 0.36202208] s2_1 0.212264093487 s2_2 0.146820109707\n",
      "phie/P 0.0593717275057 phie 0.0593717275057 err/sumGamma 0.291666292078 err 2.57151554372\n",
      "phie/P 0.131059930719 phie 0.131059930719 err/sum1-Gamma 0.141419924665 err 5.82414822802\n",
      "w 0.2003080749 phi_1 [-0.24366314] phi_2 [ 0.362022] s2_1 0.212264038405 s2_2 0.146820122968\n",
      "phie/P 0.0593721737577 phie 0.0593721737577 err/sumGamma 0.291666285566 err 2.57150995177\n",
      "phie/P 0.131059876564 phie 0.131059876564 err/sum1-Gamma 0.141419944698 err 5.82415173656\n",
      "w 0.2003077235 phi_1 [-0.24366406] phi_2 [ 0.36202193] s2_1 0.212263987166 s2_2 0.146820135303\n",
      "phie/P 0.0593725888756 phie 0.0593725888756 err/sumGamma 0.291666279508 err 2.57150474999\n",
      "phie/P 0.131059826188 phie 0.131059826188 err/sum1-Gamma 0.141419963333 err 5.8241550003\n",
      "w 0.200307396619 phi_1 [-0.24366491] phi_2 [ 0.36202186] s2_1 0.212263939502 s2_2 0.146820146778\n",
      "phie/P 0.0593729750315 phie 0.0593729750315 err/sumGamma 0.291666273873 err 2.57149991116\n",
      "phie/P 0.131059779326 phie 0.131059779326 err/sum1-Gamma 0.141419980667 err 5.82415803631\n",
      "w 0.200307092546 phi_1 [-0.2436657] phi_2 [ 0.36202179] s2_1 0.212263895163 s2_2 0.146820157453\n",
      "phie/P 0.0593733342458 phie 0.0593733342458 err/sumGamma 0.29166626863 err 2.57149540995\n",
      "phie/P 0.131059735734 phie 0.131059735734 err/sum1-Gamma 0.141419996793 err 5.82416086049\n",
      "w 0.200306809689 phi_1 [-0.24366644] phi_2 [ 0.36202173] s2_1 0.212263853918 s2_2 0.146820167382\n",
      "phie/P 0.0593736683982 phie 0.0593736683982 err/sumGamma 0.291666263753 err 2.5714912228\n",
      "phie/P 0.131059695184 phie 0.131059695184 err/sum1-Gamma 0.141420011793 err 5.82416348762\n",
      "w 0.200306546568 phi_1 [-0.24366713] phi_2 [ 0.36202168] s2_1 0.212263815551 s2_2 0.146820176619\n",
      "phie/P 0.0593739792371 phie 0.0593739792371 err/sumGamma 0.291666259216 err 2.5714873278\n",
      "phie/P 0.131059657463 phie 0.131059657463 err/sum1-Gamma 0.141420025746 err 5.82416593145\n",
      "w 0.200306301805 phi_1 [-0.24366776] phi_2 [ 0.36202163] s2_1 0.212263779861 s2_2 0.146820185211\n",
      "phie/P 0.059374268389 phie 0.059374268389 err/sumGamma 0.291666254995 err 2.57148370456\n",
      "phie/P 0.131059622374 phie 0.131059622374 err/sum1-Gamma 0.141420038726 err 5.82416820476\n",
      "w 0.200306074121 phi_1 [-0.24366836] phi_2 [ 0.36202158] s2_1 0.212263746661 s2_2 0.146820193204\n",
      "phie/P 0.059374537367 phie 0.059374537367 err/sumGamma 0.291666251069 err 2.57148033413\n",
      "phie/P 0.131059589733 phie 0.131059589733 err/sum1-Gamma 0.1414200508 err 5.82417031945\n",
      "w 0.200305862323 phi_1 [-0.24366891] phi_2 [ 0.36202153] s2_1 0.212263715777 s2_2 0.146820200639\n",
      "phie/P 0.0593747875784 phie 0.0593747875784 err/sumGamma 0.291666247416 err 2.57147719887\n",
      "phie/P 0.13105955937 phie 0.13105955937 err/sum1-Gamma 0.141420062032 err 5.8241722866\n",
      "w 0.200305665303 phi_1 [-0.24366942] phi_2 [ 0.36202149] s2_1 0.212263687048 s2_2 0.146820207555\n",
      "phie/P 0.0593750203326 phie 0.0593750203326 err/sumGamma 0.291666244018 err 2.57147428236\n",
      "phie/P 0.131059531125 phie 0.131059531125 err/sum1-Gamma 0.141420072481 err 5.82417411649\n",
      "w 0.20030548203 phi_1 [-0.2436699] phi_2 [ 0.36202145] s2_1 0.212263660324 s2_2 0.146820213989\n",
      "phie/P 0.0593752368476 phie 0.0593752368476 err/sumGamma 0.291666240857 err 2.57147156934\n",
      "phie/P 0.131059504851 phie 0.131059504851 err/sum1-Gamma 0.1414200822 err 5.82417581871\n",
      "w 0.200305311544 phi_1 [-0.24367034] phi_2 [ 0.36202141] s2_1 0.212263635464 s2_2 0.146820219974\n",
      "phie/P 0.0593754382563 phie 0.0593754382563 err/sumGamma 0.291666237917 err 2.57146904562\n",
      "phie/P 0.13105948041 phie 0.13105948041 err/sum1-Gamma 0.141420091241 err 5.82417740216\n",
      "w 0.200305152954 phi_1 [-0.24367076] phi_2 [ 0.36202138] s2_1 0.212263612339 s2_2 0.146820225541\n",
      "phie/P 0.0593756256127 phie 0.0593756256127 err/sumGamma 0.291666235181 err 2.57146669799\n",
      "phie/P 0.131059457674 phie 0.131059457674 err/sum1-Gamma 0.141420099651 err 5.82417887512\n",
      "w 0.200305005429 phi_1 [-0.24367114] phi_2 [ 0.36202135] s2_1 0.212263590827 s2_2 0.14682023072\n",
      "phie/P 0.0593757998971 phie 0.0593757998971 err/sumGamma 0.291666232636 err 2.57146451416\n",
      "phie/P 0.131059436525 phie 0.131059436525 err/sum1-Gamma 0.141420107474 err 5.82418024532\n",
      "w 0.200304868197 phi_1 [-0.2436715] phi_2 [ 0.36202132] s2_1 0.212263570817 s2_2 0.146820235538\n",
      "phie/P 0.0593759620216 phie 0.0593759620216 err/sumGamma 0.291666230269 err 2.57146248269\n",
      "phie/P 0.131059416851 phie 0.131059416851 err/sum1-Gamma 0.141420114752 err 5.82418151991\n",
      "w 0.20030474054 phi_1 [-0.24367183] phi_2 [ 0.36202129] s2_1 0.212263552202 s2_2 0.146820240019\n",
      "phie/P 0.0593761128346 phie 0.0593761128346 err/sumGamma 0.291666228067 err 2.57146059297\n",
      "phie/P 0.13105939855 phie 0.13105939855 err/sum1-Gamma 0.141420121522 err 5.82418270557\n",
      "w 0.20030462179 phi_1 [-0.24367214] phi_2 [ 0.36202127] s2_1 0.212263534886 s2_2 0.146820244188\n",
      "phie/P 0.0593762531252 phie 0.0593762531252 err/sumGamma 0.291666226019 err 2.5714588351\n",
      "phie/P 0.131059381526 phie 0.131059381526 err/sum1-Gamma 0.141420127819 err 5.8241838085\n",
      "w 0.200304511326 phi_1 [-0.24367243] phi_2 [ 0.36202124] s2_1 0.212263518778 s2_2 0.146820248066\n",
      "phie/P 0.0593763836276 phie 0.0593763836276 err/sumGamma 0.291666224113 err 2.57145719988\n",
      "phie/P 0.13105936569 phie 0.13105936569 err/sum1-Gamma 0.141420133677 err 5.82418483448\n",
      "w 0.200304408569 phi_1 [-0.2436727] phi_2 [ 0.36202122] s2_1 0.212263503795 s2_2 0.146820251673\n",
      "phie/P 0.0593765050248 phie 0.0593765050248 err/sumGamma 0.29166622234 err 2.57145567876\n",
      "phie/P 0.131059350958 phie 0.131059350958 err/sum1-Gamma 0.141420139127 err 5.82418578887\n",
      "w 0.200304312982 phi_1 [-0.24367295] phi_2 [ 0.3620212] s2_1 0.212263489856 s2_2 0.146820255029\n",
      "phie/P 0.059376617952 phie 0.059376617952 err/sumGamma 0.291666220691 err 2.57145426376\n",
      "phie/P 0.131059337255 phie 0.131059337255 err/sum1-Gamma 0.141420144196 err 5.82418667667\n",
      "w 0.200304224064 phi_1 [-0.24367318] phi_2 [ 0.36202118] s2_1 0.21226347689 s2_2 0.14682025815\n",
      "phie/P 0.059376723 phie 0.059376723 err/sumGamma 0.291666219157 err 2.5714529475\n",
      "phie/P 0.131059324507 phie 0.131059324507 err/sum1-Gamma 0.141420148911 err 5.82418750253\n",
      "w 0.20030414135 phi_1 [-0.24367339] phi_2 [ 0.36202117] s2_1 0.212263464829 s2_2 0.146820261054\n",
      "phie/P 0.0593768207188 phie 0.0593768207188 err/sumGamma 0.29166621773 err 2.57145172307\n",
      "phie/P 0.131059312649 phie 0.131059312649 err/sum1-Gamma 0.141420153298 err 5.82418827077\n",
      "w 0.200304064408 phi_1 [-0.24367359] phi_2 [ 0.36202115] s2_1 0.212263453609 s2_2 0.146820263755\n",
      "phie/P 0.0593769116196 phie 0.0593769116196 err/sumGamma 0.291666216403 err 2.57145058408\n",
      "phie/P 0.131059301619 phie 0.131059301619 err/sum1-Gamma 0.141420157378 err 5.8241889854\n",
      "w 0.200303992833 phi_1 [-0.24367378] phi_2 [ 0.36202113] s2_1 0.212263443172 s2_2 0.146820266267\n",
      "phie/P 0.0593769961781 phie 0.0593769961781 err/sumGamma 0.291666215168 err 2.57144952455\n",
      "phie/P 0.131059291358 phie 0.131059291358 err/sum1-Gamma 0.141420161174 err 5.82418965017\n",
      "w 0.200303926253 phi_1 [-0.24367395] phi_2 [ 0.36202112] s2_1 0.212263433464 s2_2 0.146820268605\n",
      "phie/P 0.0593770748369 phie 0.0593770748369 err/sumGamma 0.291666214019 err 2.57144853895\n",
      "phie/P 0.131059281813 phie 0.131059281813 err/sum1-Gamma 0.141420164705 err 5.82419026856\n",
      "w 0.200303864318 phi_1 [-0.24367412] phi_2 [ 0.36202111] s2_1 0.212263424433 s2_2 0.146820270779\n",
      "phie/P 0.0593771480075 phie 0.0593771480075 err/sumGamma 0.291666212951 err 2.57144762212\n",
      "phie/P 0.131059272933 phie 0.131059272933 err/sum1-Gamma 0.141420167989 err 5.82419084381\n",
      "w 0.200303806705 phi_1 [-0.24367427] phi_2 [ 0.36202109] s2_1 0.212263416031 s2_2 0.146820272801\n",
      "phie/P 0.0593772160729 phie 0.0593772160729 err/sumGamma 0.291666211957 err 2.57144676926\n",
      "phie/P 0.131059264674 phie 0.131059264674 err/sum1-Gamma 0.141420171044 err 5.82419137891\n",
      "w 0.200303753111 phi_1 [-0.24367441] phi_2 [ 0.36202108] s2_1 0.212263408216 s2_2 0.146820274683\n",
      "phie/P 0.0593772793893 phie 0.0593772793893 err/sumGamma 0.291666211032 err 2.57144597591\n",
      "phie/P 0.131059256991 phie 0.131059256991 err/sum1-Gamma 0.141420173887 err 5.82419187668\n",
      "w 0.200303703257 phi_1 [-0.24367454] phi_2 [ 0.36202107] s2_1 0.212263400947 s2_2 0.146820276433\n",
      "phie/P 0.059377338288 phie 0.059377338288 err/sumGamma 0.291666210172 err 2.5714452379\n",
      "phie/P 0.131059249843 phie 0.131059249843 err/sum1-Gamma 0.14142017653 err 5.82419233972\n",
      "w 0.200303656881 phi_1 [-0.24367466] phi_2 [ 0.36202106] s2_1 0.212263394184 s2_2 0.146820278061\n",
      "phie/P 0.0593773930772 phie 0.0593773930772 err/sumGamma 0.291666209371 err 2.57144455139\n",
      "phie/P 0.131059243195 phie 0.131059243195 err/sum1-Gamma 0.14142017899 err 5.82419277046\n",
      "w 0.200303613741 phi_1 [-0.24367477] phi_2 [ 0.36202105] s2_1 0.212263387894 s2_2 0.146820279575\n",
      "phie/P 0.0593774440437 phie 0.0593774440437 err/sumGamma 0.291666208627 err 2.57144391278\n",
      "phie/P 0.13105923701 phie 0.13105923701 err/sum1-Gamma 0.141420181278 err 5.82419317114\n",
      "w 0.200303573611 phi_1 [-0.24367487] phi_2 [ 0.36202104] s2_1 0.212263382042 s2_2 0.146820280984\n",
      "phie/P 0.0593774914542 phie 0.0593774914542 err/sumGamma 0.291666207935 err 2.57144331873\n",
      "phie/P 0.131059231257 phie 0.131059231257 err/sum1-Gamma 0.141420183406 err 5.82419354386\n",
      "w 0.200303536281 phi_1 [-0.24367497] phi_2 [ 0.36202104] s2_1 0.212263376598 s2_2 0.146820282295\n",
      "phie/P 0.0593775355567 phie 0.0593775355567 err/sumGamma 0.291666207291 err 2.57144276613\n",
      "phie/P 0.131059225905 phie 0.131059225905 err/sum1-Gamma 0.141420185385 err 5.82419389058\n",
      "w 0.200303501556 phi_1 [-0.24367506] phi_2 [ 0.36202103] s2_1 0.212263371535 s2_2 0.146820283514\n",
      "phie/P 0.0593775765822 phie 0.0593775765822 err/sumGamma 0.291666206691 err 2.57144225208\n",
      "phie/P 0.131059220927 phie 0.131059220927 err/sum1-Gamma 0.141420187227 err 5.82419421311\n",
      "w 0.200303469253 phi_1 [-0.24367515] phi_2 [ 0.36202102] s2_1 0.212263366824 s2_2 0.146820284648\n",
      "phie/P 0.0593776147452 phie 0.0593776147452 err/sumGamma 0.291666206134 err 2.5714417739\n",
      "phie/P 0.131059216296 phie 0.131059216296 err/sum1-Gamma 0.14142018894 err 5.82419451313\n",
      "w 0.200303439204 phi_1 [-0.24367522] phi_2 [ 0.36202102] s2_1 0.212263362443 s2_2 0.146820285703\n",
      "phie/P 0.0593776502455 phie 0.0593776502455 err/sumGamma 0.291666205615 err 2.57144132908\n",
      "phie/P 0.131059211988 phie 0.131059211988 err/sum1-Gamma 0.141420190533 err 5.82419479222\n",
      "w 0.200303411252 phi_1 [-0.2436753] phi_2 [ 0.36202101] s2_1 0.212263358367 s2_2 0.146820286684\n",
      "phie/P 0.0593776832689 phie 0.0593776832689 err/sumGamma 0.291666205133 err 2.5714409153\n",
      "phie/P 0.131059207981 phie 0.131059207981 err/sum1-Gamma 0.141420192016 err 5.82419505183\n",
      "w 0.20030338525 phi_1 [-0.24367536] phi_2 [ 0.362021] s2_1 0.212263354575 s2_2 0.146820287597\n",
      "phie/P 0.0593777139882 phie 0.0593777139882 err/sumGamma 0.291666204685 err 2.57144053039\n",
      "phie/P 0.131059204253 phie 0.131059204253 err/sum1-Gamma 0.141420193395 err 5.82419529334\n",
      "w 0.200303361062 phi_1 [-0.24367543] phi_2 [ 0.362021] s2_1 0.212263351048 s2_2 0.146820288446\n",
      "phie/P 0.0593777425642 phie 0.0593777425642 err/sumGamma 0.291666204267 err 2.57144017233\n",
      "phie/P 0.131059200786 phie 0.131059200786 err/sum1-Gamma 0.141420194677 err 5.82419551799\n",
      "w 0.200303338562 phi_1 [-0.24367549] phi_2 [ 0.36202099] s2_1 0.212263347767 s2_2 0.146820289236\n",
      "phie/P 0.0593777691463 phie 0.0593777691463 err/sumGamma 0.291666203879 err 2.57143983926\n",
      "phie/P 0.13105919756 phie 0.13105919756 err/sum1-Gamma 0.141420195871 err 5.82419572697\n",
      "w 0.200303317632 phi_1 [-0.24367554] phi_2 [ 0.36202099] s2_1 0.212263344715 s2_2 0.14682028997\n",
      "phie/P 0.0593777938738 phie 0.0593777938738 err/sumGamma 0.291666203518 err 2.57143952943\n",
      "phie/P 0.131059194559 phie 0.131059194559 err/sum1-Gamma 0.141420196981 err 5.82419592137\n",
      "w 0.200303298162 phi_1 [-0.24367559] phi_2 [ 0.36202099] s2_1 0.212263341876 s2_2 0.146820290654\n",
      "phie/P 0.059377816876 phie 0.059377816876 err/sumGamma 0.291666203182 err 2.57143924121\n",
      "phie/P 0.131059191768 phie 0.131059191768 err/sum1-Gamma 0.141420198013 err 5.8241961022\n",
      "w 0.200303280051 phi_1 [-0.24367564] phi_2 [ 0.36202098] s2_1 0.212263339235 s2_2 0.14682029129\n",
      "phie/P 0.0593778382732 phie 0.0593778382732 err/sumGamma 0.291666202869 err 2.57143897311\n",
      "phie/P 0.131059189172 phie 0.131059189172 err/sum1-Gamma 0.141420198974 err 5.82419627042\n",
      "w 0.200303263203 phi_1 [-0.24367568] phi_2 [ 0.36202098] s2_1 0.212263336778 s2_2 0.146820291881\n",
      "phie/P 0.0593778581776 phie 0.0593778581776 err/sumGamma 0.291666202579 err 2.57143872371\n",
      "phie/P 0.131059186756 phie 0.131059186756 err/sum1-Gamma 0.141420199867 err 5.8241964269\n",
      "w 0.200303247531 phi_1 [-0.24367572] phi_2 [ 0.36202098] s2_1 0.212263334493 s2_2 0.146820292431\n",
      "phie/P 0.0593778766932 phie 0.0593778766932 err/sumGamma 0.291666202308 err 2.57143849171\n",
      "phie/P 0.13105918451 phie 0.13105918451 err/sum1-Gamma 0.141420200698 err 5.82419657246\n",
      "w 0.200303232952 phi_1 [-0.24367576] phi_2 [ 0.36202097] s2_1 0.212263332367 s2_2 0.146820292943\n",
      "phie/P 0.0593778939169 phie 0.0593778939169 err/sumGamma 0.291666202057 err 2.5714382759\n",
      "phie/P 0.13105918242 phie 0.13105918242 err/sum1-Gamma 0.141420201471 err 5.82419670786\n",
      "w 0.200303219391 phi_1 [-0.2436758] phi_2 [ 0.36202097] s2_1 0.21226333039 s2_2 0.146820293419\n",
      "phie/P 0.0593779099388 phie 0.0593779099388 err/sumGamma 0.291666201822 err 2.57143807514\n",
      "phie/P 0.131059180475 phie 0.131059180475 err/sum1-Gamma 0.141420202191 err 5.82419683382\n",
      "w 0.200303206776 phi_1 [-0.24367583] phi_2 [ 0.36202097] s2_1 0.21226332855 s2_2 0.146820293862\n",
      "phie/P 0.0593779248429 phie 0.0593779248429 err/sumGamma 0.291666201605 err 2.57143788839\n",
      "phie/P 0.131059178667 phie 0.131059178667 err/sum1-Gamma 0.14142020286 err 5.82419695099\n",
      "w 0.20030319504 phi_1 [-0.24367586] phi_2 [ 0.36202096] s2_1 0.212263326839 s2_2 0.146820294274\n",
      "phie/P 0.0593779387071 phie 0.0593779387071 err/sumGamma 0.291666201402 err 2.57143771468\n",
      "phie/P 0.131059176984 phie 0.131059176984 err/sum1-Gamma 0.141420203482 err 5.82419705998\n",
      "w 0.200303184124 phi_1 [-0.24367589] phi_2 [ 0.36202096] s2_1 0.212263325247 s2_2 0.146820294657\n",
      "phie/P 0.059377951604 phie 0.059377951604 err/sumGamma 0.291666201214 err 2.57143755308\n",
      "phie/P 0.131059175419 phie 0.131059175419 err/sum1-Gamma 0.141420204061 err 5.82419716137\n",
      "w 0.200303173969 phi_1 [-0.24367592] phi_2 [ 0.36202096] s2_1 0.212263323766 s2_2 0.146820295014\n",
      "phie/P 0.059377963601 phie 0.059377963601 err/sumGamma 0.291666201039 err 2.57143740276\n",
      "phie/P 0.131059173964 phie 0.131059173964 err/sum1-Gamma 0.141420204599 err 5.82419725569\n",
      "w 0.200303164523 phi_1 [-0.24367594] phi_2 [ 0.36202096] s2_1 0.212263322389 s2_2 0.146820295345\n",
      "phie/P 0.059377974761 phie 0.059377974761 err/sumGamma 0.291666200876 err 2.57143726293\n",
      "phie/P 0.131059172609 phie 0.131059172609 err/sum1-Gamma 0.1414202051 err 5.82419734342\n",
      "w 0.200303155736 phi_1 [-0.24367596] phi_2 [ 0.36202096] s2_1 0.212263321108 s2_2 0.146820295654\n",
      "phie/P 0.0593779851423 phie 0.0593779851423 err/sumGamma 0.291666200724 err 2.57143713285\n",
      "phie/P 0.13105917135 phie 0.13105917135 err/sum1-Gamma 0.141420205566 err 5.82419742504\n",
      "w 0.200303147562 phi_1 [-0.24367598] phi_2 [ 0.36202095] s2_1 0.212263319916 s2_2 0.146820295941\n",
      "phie/P 0.0593779947993 phie 0.0593779947993 err/sumGamma 0.291666200583 err 2.57143701185\n",
      "phie/P 0.131059170178 phie 0.131059170178 err/sum1-Gamma 0.141420206 err 5.82419750096\n",
      "w 0.200303139959 phi_1 [-0.243676] phi_2 [ 0.36202095] s2_1 0.212263318807 s2_2 0.146820296208\n",
      "phie/P 0.0593780037825 phie 0.0593780037825 err/sumGamma 0.291666200452 err 2.57143689929\n",
      "phie/P 0.131059169088 phie 0.131059169088 err/sum1-Gamma 0.141420206403 err 5.82419757158\n",
      "w 0.200303132885 phi_1 [-0.24367602] phi_2 [ 0.36202095] s2_1 0.212263317775 s2_2 0.146820296456\n",
      "phie/P 0.0593780121389 phie 0.0593780121389 err/sumGamma 0.29166620033 err 2.57143679458\n",
      "phie/P 0.131059168074 phie 0.131059168074 err/sum1-Gamma 0.141420206778 err 5.82419763727\n",
      "w 0.200303126306 phi_1 [-0.24367604] phi_2 [ 0.36202095] s2_1 0.212263316816 s2_2 0.146820296687\n",
      "phie/P 0.0593780199123 phie 0.0593780199123 err/sumGamma 0.291666200216 err 2.57143669719\n",
      "phie/P 0.13105916713 phie 0.13105916713 err/sum1-Gamma 0.141420207127 err 5.82419769838\n",
      "w 0.200303120185 phi_1 [-0.24367606] phi_2 [ 0.36202095] s2_1 0.212263315924 s2_2 0.146820296902\n",
      "phie/P 0.0593780271433 phie 0.0593780271433 err/sumGamma 0.291666200111 err 2.57143660658\n",
      "phie/P 0.131059166253 phie 0.131059166253 err/sum1-Gamma 0.141420207452 err 5.82419775523\n",
      "w 0.200303114492 phi_1 [-0.24367607] phi_2 [ 0.36202095] s2_1 0.212263315093 s2_2 0.146820297102\n",
      "phie/P 0.0593780338698 phie 0.0593780338698 err/sumGamma 0.291666200012 err 2.5714365223\n",
      "phie/P 0.131059165437 phie 0.131059165437 err/sum1-Gamma 0.141420207753 err 5.82419780811\n",
      "w 0.200303109195 phi_1 [-0.24367608] phi_2 [ 0.36202095] s2_1 0.212263314321 s2_2 0.146820297288\n",
      "phie/P 0.0593780401269 phie 0.0593780401269 err/sumGamma 0.291666199921 err 2.5714364439\n",
      "phie/P 0.131059164677 phie 0.131059164677 err/sum1-Gamma 0.141420208034 err 5.8241978573\n",
      "w 0.200303104269 phi_1 [-0.2436761] phi_2 [ 0.36202095] s2_1 0.212263313603 s2_2 0.146820297461\n",
      "phie/P 0.0593780459475 phie 0.0593780459475 err/sumGamma 0.291666199836 err 2.57143637097\n",
      "phie/P 0.131059163971 phie 0.131059163971 err/sum1-Gamma 0.141420208296 err 5.82419790306\n",
      "w 0.200303099686 phi_1 [-0.24367611] phi_2 [ 0.36202094] s2_1 0.212263312934 s2_2 0.146820297621\n",
      "phie/P 0.059378051362 phie 0.059378051362 err/sumGamma 0.291666199757 err 2.57143630312\n",
      "phie/P 0.131059163314 phie 0.131059163314 err/sum1-Gamma 0.141420208539 err 5.82419794563\n",
      "w 0.200303095423 phi_1 [-0.24367612] phi_2 [ 0.36202094] s2_1 0.212263312313 s2_2 0.146820297771\n",
      "phie/P 0.0593780563987 phie 0.0593780563987 err/sumGamma 0.291666199683 err 2.57143624001\n",
      "phie/P 0.131059162703 phie 0.131059162703 err/sum1-Gamma 0.141420208765 err 5.82419798522\n",
      "w 0.200303091457 phi_1 [-0.24367613] phi_2 [ 0.36202094] s2_1 0.212263311734 s2_2 0.14682029791\n",
      "phie/P 0.059378061084 phie 0.059378061084 err/sumGamma 0.291666199615 err 2.57143618131\n",
      "phie/P 0.131059162134 phie 0.131059162134 err/sum1-Gamma 0.141420208975 err 5.82419802206\n",
      "w 0.200303087768 phi_1 [-0.24367614] phi_2 [ 0.36202094] s2_1 0.212263311196 s2_2 0.14682029804\n",
      "phie/P 0.0593780654423 phie 0.0593780654423 err/sumGamma 0.291666199551 err 2.5714361267\n",
      "phie/P 0.131059161605 phie 0.131059161605 err/sum1-Gamma 0.141420209171 err 5.82419805632\n",
      "w 0.200303084336 phi_1 [-0.24367615] phi_2 [ 0.36202094] s2_1 0.212263310696 s2_2 0.14682029816\n",
      "phie/P 0.0593780694966 phie 0.0593780694966 err/sumGamma 0.291666199492 err 2.5714360759\n",
      "phie/P 0.131059161114 phie 0.131059161114 err/sum1-Gamma 0.141420209353 err 5.8241980882\n",
      "w 0.200303081144 phi_1 [-0.24367616] phi_2 [ 0.36202094] s2_1 0.21226331023 s2_2 0.146820298272\n",
      "phie/P 0.059378073268 phie 0.059378073268 err/sumGamma 0.291666199437 err 2.57143602864\n",
      "phie/P 0.131059160656 phie 0.131059160656 err/sum1-Gamma 0.141420209522 err 5.82419811784\n",
      "w 0.200303078174 phi_1 [-0.24367616] phi_2 [ 0.36202094] s2_1 0.212263309797 s2_2 0.146820298377\n",
      "phie/P 0.0593780767763 phie 0.0593780767763 err/sumGamma 0.291666199386 err 2.57143598469\n",
      "phie/P 0.13105916023 phie 0.13105916023 err/sum1-Gamma 0.141420209679 err 5.82419814542\n",
      "w 0.200303075412 phi_1 [-0.24367617] phi_2 [ 0.36202094] s2_1 0.212263309395 s2_2 0.146820298474\n",
      "phie/P 0.0593780800398 phie 0.0593780800398 err/sumGamma 0.291666199338 err 2.57143594379\n",
      "phie/P 0.131059159834 phie 0.131059159834 err/sum1-Gamma 0.141420209826 err 5.82419817108\n",
      "w 0.200303072842 phi_1 [-0.24367618] phi_2 [ 0.36202094] s2_1 0.21226330902 s2_2 0.146820298564\n",
      "phie/P 0.0593780830755 phie 0.0593780830755 err/sumGamma 0.291666199294 err 2.57143590576\n",
      "phie/P 0.131059159466 phie 0.131059159466 err/sum1-Gamma 0.141420209962 err 5.82419819495\n",
      "w 0.200303070452 phi_1 [-0.24367618] phi_2 [ 0.36202094] s2_1 0.212263308671 s2_2 0.146820298648\n",
      "phie/P 0.0593780858995 phie 0.0593780858995 err/sumGamma 0.291666199252 err 2.57143587037\n",
      "phie/P 0.131059159123 phie 0.131059159123 err/sum1-Gamma 0.141420210089 err 5.82419821715\n",
      "w 0.200303068229 phi_1 [-0.24367619] phi_2 [ 0.36202094] s2_1 0.212263308347 s2_2 0.146820298726\n",
      "phie/P 0.0593780885265 phie 0.0593780885265 err/sumGamma 0.291666199214 err 2.57143583746\n",
      "phie/P 0.131059158804 phie 0.131059158804 err/sum1-Gamma 0.141420210207 err 5.8241982378\n",
      "w 0.20030306616 phi_1 [-0.2436762] phi_2 [ 0.36202094] s2_1 0.212263308046 s2_2 0.146820298798\n",
      "phie/P 0.0593780909701 phie 0.0593780909701 err/sumGamma 0.291666199178 err 2.57143580684\n",
      "phie/P 0.131059158508 phie 0.131059158508 err/sum1-Gamma 0.141420210317 err 5.82419825701\n",
      "w 0.200303064236 phi_1 [-0.2436762] phi_2 [ 0.36202094] s2_1 0.212263307765 s2_2 0.146820298866\n",
      "phie/P 0.0593780932433 phie 0.0593780932433 err/sumGamma 0.291666199145 err 2.57143577836\n",
      "phie/P 0.131059158232 phie 0.131059158232 err/sum1-Gamma 0.141420210419 err 5.82419827488\n",
      "w 0.200303062446 phi_1 [-0.24367621] phi_2 [ 0.36202094] s2_1 0.212263307504 s2_2 0.146820298929\n",
      "phie/P 0.0593780953578 phie 0.0593780953578 err/sumGamma 0.291666199114 err 2.57143575186\n",
      "phie/P 0.131059157975 phie 0.131059157975 err/sum1-Gamma 0.141420210514 err 5.8241982915\n",
      "w 0.200303060781 phi_1 [-0.24367621] phi_2 [ 0.36202094] s2_1 0.212263307261 s2_2 0.146820298987\n",
      "phie/P 0.0593780973248 phie 0.0593780973248 err/sumGamma 0.291666199085 err 2.57143572721\n",
      "phie/P 0.131059157737 phie 0.131059157737 err/sum1-Gamma 0.141420210602 err 5.82419830697\n",
      "w 0.200303059233 phi_1 [-0.24367621] phi_2 [ 0.36202094] s2_1 0.212263307035 s2_2 0.146820299042\n",
      "phie/P 0.0593780991546 phie 0.0593780991546 err/sumGamma 0.291666199059 err 2.57143570429\n",
      "phie/P 0.131059157515 phie 0.131059157515 err/sum1-Gamma 0.141420210684 err 5.82419832135\n",
      "w 0.200303057792 phi_1 [-0.24367622] phi_2 [ 0.36202094] s2_1 0.212263306825 s2_2 0.146820299092\n",
      "phie/P 0.0593781008567 phie 0.0593781008567 err/sumGamma 0.291666199034 err 2.57143568296\n",
      "phie/P 0.131059157308 phie 0.131059157308 err/sum1-Gamma 0.14142021076 err 5.82419833473\n",
      "w 0.200303056452 phi_1 [-0.24367622] phi_2 [ 0.36202093] s2_1 0.21226330663 s2_2 0.146820299139\n",
      "phie/P 0.05937810244 phie 0.05937810244 err/sumGamma 0.291666199011 err 2.57143566312\n",
      "phie/P 0.131059157116 phie 0.131059157116 err/sum1-Gamma 0.141420210831 err 5.82419834718\n",
      "w 0.200303055205 phi_1 [-0.24367622] phi_2 [ 0.36202093] s2_1 0.212263306448 s2_2 0.146820299183\n",
      "phie/P 0.0593781039129 phie 0.0593781039129 err/sumGamma 0.291666198989 err 2.57143564467\n",
      "phie/P 0.131059156937 phie 0.131059156937 err/sum1-Gamma 0.141420210898 err 5.82419835876\n",
      "w 0.200303054045 phi_1 [-0.24367623] phi_2 [ 0.36202093] s2_1 0.212263306279 s2_2 0.146820299224\n",
      "phie/P 0.059378105283 phie 0.059378105283 err/sumGamma 0.291666198969 err 2.5714356275\n",
      "phie/P 0.131059156771 phie 0.131059156771 err/sum1-Gamma 0.141420210959 err 5.82419836953\n",
      "w 0.200303052967 phi_1 [-0.24367623] phi_2 [ 0.36202093] s2_1 0.212263306122 s2_2 0.146820299262\n",
      "phie/P 0.0593781065575 phie 0.0593781065575 err/sumGamma 0.291666198951 err 2.57143561153\n",
      "phie/P 0.131059156616 phie 0.131059156616 err/sum1-Gamma 0.141420211016 err 5.82419837955\n",
      "w 0.200303051963 phi_1 [-0.24367623] phi_2 [ 0.36202093] s2_1 0.212263305975 s2_2 0.146820299297\n",
      "phie/P 0.0593781077431 phie 0.0593781077431 err/sumGamma 0.291666198933 err 2.57143559667\n",
      "phie/P 0.131059156472 phie 0.131059156472 err/sum1-Gamma 0.141420211069 err 5.82419838887\n",
      "w 0.20030305103 phi_1 [-0.24367624] phi_2 [ 0.36202093] s2_1 0.212263305839 s2_2 0.14682029933\n",
      "phie/P 0.059378108846 phie 0.059378108846 err/sumGamma 0.291666198917 err 2.57143558286\n",
      "phie/P 0.131059156339 phie 0.131059156339 err/sum1-Gamma 0.141420211119 err 5.82419839754\n",
      "w 0.200303050161 phi_1 [-0.24367624] phi_2 [ 0.36202093] s2_1 0.212263305713 s2_2 0.14682029936\n",
      "phie/P 0.0593781098719 phie 0.0593781098719 err/sumGamma 0.291666198902 err 2.57143557\n",
      "phie/P 0.131059156214 phie 0.131059156214 err/sum1-Gamma 0.141420211165 err 5.82419840561\n",
      "w 0.200303049353 phi_1 [-0.24367624] phi_2 [ 0.36202093] s2_1 0.212263305595 s2_2 0.146820299388\n",
      "phie/P 0.0593781108262 phie 0.0593781108262 err/sumGamma 0.291666198888 err 2.57143555804\n",
      "phie/P 0.131059156098 phie 0.131059156098 err/sum1-Gamma 0.141420211208 err 5.82419841311\n",
      "w 0.200303048602 phi_1 [-0.24367624] phi_2 [ 0.36202093] s2_1 0.212263305485 s2_2 0.146820299415\n",
      "phie/P 0.059378111714 phie 0.059378111714 err/sumGamma 0.291666198875 err 2.57143554692\n",
      "phie/P 0.131059155991 phie 0.131059155991 err/sum1-Gamma 0.141420211248 err 5.82419842009\n",
      "w 0.200303047903 phi_1 [-0.24367624] phi_2 [ 0.36202093] s2_1 0.212263305383 s2_2 0.146820299439\n",
      "phie/P 0.0593781125398 phie 0.0593781125398 err/sumGamma 0.291666198863 err 2.57143553657\n",
      "phie/P 0.13105915589 phie 0.13105915589 err/sum1-Gamma 0.141420211285 err 5.82419842658\n",
      "w 0.200303047253 phi_1 [-0.24367625] phi_2 [ 0.36202093] s2_1 0.212263305289 s2_2 0.146820299462\n",
      "phie/P 0.0593781133079 phie 0.0593781133079 err/sumGamma 0.291666198852 err 2.57143552695\n",
      "phie/P 0.131059155797 phie 0.131059155797 err/sum1-Gamma 0.141420211319 err 5.82419843262\n",
      "w 0.200303046648 phi_1 [-0.24367625] phi_2 [ 0.36202093] s2_1 0.2122633052 s2_2 0.146820299483\n",
      "phie/P 0.0593781140225 phie 0.0593781140225 err/sumGamma 0.291666198842 err 2.57143551799\n",
      "phie/P 0.13105915571 phie 0.13105915571 err/sum1-Gamma 0.141420211351 err 5.82419843824\n",
      "w 0.200303046085 phi_1 [-0.24367625] phi_2 [ 0.36202093] s2_1 0.212263305118 s2_2 0.146820299503\n",
      "phie/P 0.0593781146873 phie 0.0593781146873 err/sumGamma 0.291666198832 err 2.57143550967\n",
      "phie/P 0.13105915563 phie 0.13105915563 err/sum1-Gamma 0.141420211381 err 5.82419844346\n",
      "w 0.200303045562 phi_1 [-0.24367625] phi_2 [ 0.36202093] s2_1 0.212263305042 s2_2 0.146820299521\n",
      "phie/P 0.0593781153056 phie 0.0593781153056 err/sumGamma 0.291666198823 err 2.57143550192\n",
      "phie/P 0.131059155555 phie 0.131059155555 err/sum1-Gamma 0.141420211409 err 5.82419844833\n",
      "w 0.200303045075 phi_1 [-0.24367625] phi_2 [ 0.36202093] s2_1 0.212263304971 s2_2 0.146820299539\n",
      "phie/P 0.0593781158808 phie 0.0593781158808 err/sumGamma 0.291666198814 err 2.57143549471\n",
      "phie/P 0.131059155485 phie 0.131059155485 err/sum1-Gamma 0.141420211435 err 5.82419845285\n",
      "w 0.200303044622 phi_1 [-0.24367625] phi_2 [ 0.36202093] s2_1 0.212263304905 s2_2 0.146820299554\n",
      "phie/P 0.0593781164159 phie 0.0593781164159 err/sumGamma 0.291666198807 err 2.57143548801\n",
      "phie/P 0.13105915542 phie 0.13105915542 err/sum1-Gamma 0.141420211459 err 5.82419845705\n",
      "w 0.200303044201 phi_1 [-0.24367625] phi_2 [ 0.36202093] s2_1 0.212263304843 s2_2 0.146820299569\n",
      "phie/P 0.0593781169136 phie 0.0593781169136 err/sumGamma 0.291666198799 err 2.57143548177\n",
      "phie/P 0.13105915536 phie 0.13105915536 err/sum1-Gamma 0.141420211481 err 5.82419846097\n",
      "w 0.200303043809 phi_1 [-0.24367625] phi_2 [ 0.36202093] s2_1 0.212263304786 s2_2 0.146820299583\n",
      "phie/P 0.0593781173767 phie 0.0593781173767 err/sumGamma 0.291666198793 err 2.57143547597\n",
      "phie/P 0.131059155303 phie 0.131059155303 err/sum1-Gamma 0.141420211502 err 5.82419846461\n",
      "w 0.200303043444 phi_1 [-0.24367626] phi_2 [ 0.36202093] s2_1 0.212263304733 s2_2 0.146820299596\n",
      "phie/P 0.0593781178074 phie 0.0593781178074 err/sumGamma 0.291666198786 err 2.57143547057\n",
      "phie/P 0.131059155251 phie 0.131059155251 err/sum1-Gamma 0.141420211521 err 5.82419846799\n",
      "w 0.200303043105 phi_1 [-0.24367626] phi_2 [ 0.36202093] s2_1 0.212263304684 s2_2 0.146820299608\n",
      "phie/P 0.059378118208 phie 0.059378118208 err/sumGamma 0.29166619878 err 2.57143546555\n",
      "phie/P 0.131059155203 phie 0.131059155203 err/sum1-Gamma 0.141420211539 err 5.82419847114\n",
      "w 0.20030304279 phi_1 [-0.24367626] phi_2 [ 0.36202093] s2_1 0.212263304638 s2_2 0.146820299619\n",
      "phie/P 0.0593781185807 phie 0.0593781185807 err/sumGamma 0.291666198775 err 2.57143546088\n",
      "phie/P 0.131059155157 phie 0.131059155157 err/sum1-Gamma 0.141420211556 err 5.82419847407\n",
      "w 0.200303042496 phi_1 [-0.24367626] phi_2 [ 0.36202093] s2_1 0.212263304595 s2_2 0.146820299629\n",
      "phie/P 0.0593781189274 phie 0.0593781189274 err/sumGamma 0.29166619877 err 2.57143545654\n",
      "phie/P 0.131059155115 phie 0.131059155115 err/sum1-Gamma 0.141420211572 err 5.8241984768\n",
      "w 0.200303042223 phi_1 [-0.24367626] phi_2 [ 0.36202093] s2_1 0.212263304555 s2_2 0.146820299639\n",
      "phie/P 0.0593781192499 phie 0.0593781192499 err/sumGamma 0.291666198765 err 2.5714354525\n",
      "phie/P 0.131059155076 phie 0.131059155076 err/sum1-Gamma 0.141420211586 err 5.82419847933\n",
      "w 0.200303041969 phi_1 [-0.24367626] phi_2 [ 0.36202093] s2_1 0.212263304518 s2_2 0.146820299648\n",
      "phie/P 0.0593781195499 phie 0.0593781195499 err/sumGamma 0.291666198761 err 2.57143544874\n",
      "phie/P 0.13105915504 phie 0.13105915504 err/sum1-Gamma 0.141420211599 err 5.82419848169\n",
      "w 0.200303041733 phi_1 [-0.24367626] phi_2 [ 0.36202093] s2_1 0.212263304484 s2_2 0.146820299656\n",
      "phie/P 0.059378119829 phie 0.059378119829 err/sumGamma 0.291666198757 err 2.57143544524\n",
      "phie/P 0.131059155006 phie 0.131059155006 err/sum1-Gamma 0.141420211612 err 5.82419848389\n",
      "w 0.200303041513 phi_1 [-0.24367626] phi_2 [ 0.36202093] s2_1 0.212263304452 s2_2 0.146820299664\n",
      "phie/P 0.0593781200886 phie 0.0593781200886 err/sumGamma 0.291666198753 err 2.57143544199\n",
      "phie/P 0.131059154974 phie 0.131059154974 err/sum1-Gamma 0.141420211624 err 5.82419848593\n",
      "w 0.200303041309 phi_1 [-0.24367626] phi_2 [ 0.36202093] s2_1 0.212263304422 s2_2 0.146820299671\n",
      "phie/P 0.0593781203301 phie 0.0593781203301 err/sumGamma 0.291666198749 err 2.57143543896\n",
      "phie/P 0.131059154945 phie 0.131059154945 err/sum1-Gamma 0.141420211634 err 5.82419848783\n",
      "w 0.200303041119 phi_1 [-0.24367626] phi_2 [ 0.36202093] s2_1 0.212263304394 s2_2 0.146820299677\n",
      "phie/P 0.0593781205547 phie 0.0593781205547 err/sumGamma 0.291666198746 err 2.57143543615\n",
      "phie/P 0.131059154918 phie 0.131059154918 err/sum1-Gamma 0.141420211645 err 5.82419848959\n",
      "w 0.200303040942 phi_1 [-0.24367626] phi_2 [ 0.36202093] s2_1 0.212263304368 s2_2 0.146820299684\n",
      "phie/P 0.0593781207637 phie 0.0593781207637 err/sumGamma 0.291666198743 err 2.57143543353\n",
      "phie/P 0.131059154892 phie 0.131059154892 err/sum1-Gamma 0.141420211654 err 5.82419849123\n",
      "w 0.200303040778 phi_1 [-0.24367626] phi_2 [ 0.36202093] s2_1 0.212263304344 s2_2 0.146820299689\n",
      "phie/P 0.0593781209581 phie 0.0593781209581 err/sumGamma 0.29166619874 err 2.57143543109\n",
      "phie/P 0.131059154869 phie 0.131059154869 err/sum1-Gamma 0.141420211663 err 5.82419849276\n",
      "w 0.200303040624 phi_1 [-0.24367626] phi_2 [ 0.36202093] s2_1 0.212263304322 s2_2 0.146820299695\n",
      "phie/P 0.0593781211389 phie 0.0593781211389 err/sumGamma 0.291666198738 err 2.57143542883\n",
      "phie/P 0.131059154847 phie 0.131059154847 err/sum1-Gamma 0.141420211671 err 5.82419849418\n",
      "w 0.200303040482 phi_1 [-0.24367626] phi_2 [ 0.36202093] s2_1 0.212263304301 s2_2 0.1468202997\n",
      "phie/P 0.0593781213071 phie 0.0593781213071 err/sumGamma 0.291666198735 err 2.57143542672\n",
      "phie/P 0.131059154827 phie 0.131059154827 err/sum1-Gamma 0.141420211678 err 5.82419849551\n",
      "w 0.20030304035 phi_1 [-0.24367626] phi_2 [ 0.36202093] s2_1 0.212263304282 s2_2 0.146820299704\n",
      "phie/P 0.0593781214636 phie 0.0593781214636 err/sumGamma 0.291666198733 err 2.57143542476\n",
      "phie/P 0.131059154808 phie 0.131059154808 err/sum1-Gamma 0.141420211685 err 5.82419849674\n",
      "w 0.200303040226 phi_1 [-0.24367626] phi_2 [ 0.36202093] s2_1 0.212263304264 s2_2 0.146820299709\n",
      "phie/P 0.0593781216091 phie 0.0593781216091 err/sumGamma 0.291666198731 err 2.57143542293\n",
      "phie/P 0.13105915479 phie 0.13105915479 err/sum1-Gamma 0.141420211692 err 5.82419849788\n",
      "w 0.200303040112 phi_1 [-0.24367626] phi_2 [ 0.36202093] s2_1 0.212263304247 s2_2 0.146820299713\n",
      "phie/P 0.0593781217445 phie 0.0593781217445 err/sumGamma 0.291666198729 err 2.57143542124\n",
      "phie/P 0.131059154773 phie 0.131059154773 err/sum1-Gamma 0.141420211698 err 5.82419849895\n",
      "w 0.200303040005 phi_1 [-0.24367626] phi_2 [ 0.36202093] s2_1 0.212263304232 s2_2 0.146820299717\n",
      "phie/P 0.0593781218705 phie 0.0593781218705 err/sumGamma 0.291666198727 err 2.57143541966\n",
      "phie/P 0.131059154758 phie 0.131059154758 err/sum1-Gamma 0.141420211704 err 5.82419849994\n",
      "w 0.200303039906 phi_1 [-0.24367626] phi_2 [ 0.36202093] s2_1 0.212263304217 s2_2 0.14682029972\n",
      "phie/P 0.0593781219877 phie 0.0593781219877 err/sumGamma 0.291666198725 err 2.57143541819\n",
      "phie/P 0.131059154744 phie 0.131059154744 err/sum1-Gamma 0.141420211709 err 5.82419850086\n",
      "w 0.200303039814 phi_1 [-0.24367626] phi_2 [ 0.36202093] s2_1 0.212263304204 s2_2 0.146820299723\n",
      "phie/P 0.0593781220966 phie 0.0593781220966 err/sumGamma 0.291666198724 err 2.57143541683\n",
      "phie/P 0.131059154731 phie 0.131059154731 err/sum1-Gamma 0.141420211714 err 5.82419850171\n",
      "w 0.200303039728 phi_1 [-0.24367626] phi_2 [ 0.36202093] s2_1 0.212263304191 s2_2 0.146820299726\n",
      "phie/P 0.059378122198 phie 0.059378122198 err/sumGamma 0.291666198722 err 2.57143541556\n",
      "phie/P 0.131059154718 phie 0.131059154718 err/sum1-Gamma 0.141420211718 err 5.82419850251\n",
      "w 0.200303039648 phi_1 [-0.24367627] phi_2 [ 0.36202093] s2_1 0.21226330418 s2_2 0.146820299729\n",
      "phie/P 0.0593781222923 phie 0.0593781222923 err/sumGamma 0.291666198721 err 2.57143541437\n",
      "phie/P 0.131059154707 phie 0.131059154707 err/sum1-Gamma 0.141420211723 err 5.82419850325\n",
      "w 0.200303039574 phi_1 [-0.24367627] phi_2 [ 0.36202093] s2_1 0.212263304169 s2_2 0.146820299732\n",
      "phie/P 0.0593781223801 phie 0.0593781223801 err/sumGamma 0.29166619872 err 2.57143541328\n",
      "phie/P 0.131059154696 phie 0.131059154696 err/sum1-Gamma 0.141420211727 err 5.82419850394\n",
      "w 0.200303039505 phi_1 [-0.24367627] phi_2 [ 0.36202093] s2_1 0.212263304159 s2_2 0.146820299734\n",
      "phie/P 0.0593781224617 phie 0.0593781224617 err/sumGamma 0.291666198718 err 2.57143541225\n",
      "phie/P 0.131059154686 phie 0.131059154686 err/sum1-Gamma 0.14142021173 err 5.82419850458\n",
      "w 0.200303039441 phi_1 [-0.24367627] phi_2 [ 0.36202093] s2_1 0.212263304149 s2_2 0.146820299736\n",
      "phie/P 0.0593781225376 phie 0.0593781225376 err/sumGamma 0.291666198717 err 2.5714354113\n",
      "phie/P 0.131059154677 phie 0.131059154677 err/sum1-Gamma 0.141420211734 err 5.82419850518\n",
      "w 0.200303039381 phi_1 [-0.24367627] phi_2 [ 0.36202093] s2_1 0.212263304141 s2_2 0.146820299738\n",
      "phie/P 0.0593781226082 phie 0.0593781226082 err/sumGamma 0.291666198716 err 2.57143541042\n",
      "phie/P 0.131059154669 phie 0.131059154669 err/sum1-Gamma 0.141420211737 err 5.82419850574\n",
      "w 0.200303039325 phi_1 [-0.24367627] phi_2 [ 0.36202093] s2_1 0.212263304133 s2_2 0.14682029974\n",
      "phie/P 0.0593781226739 phie 0.0593781226739 err/sumGamma 0.291666198715 err 2.57143540959\n",
      "phie/P 0.131059154661 phie 0.131059154661 err/sum1-Gamma 0.14142021174 err 5.82419850625\n",
      "w 0.200303039273 phi_1 [-0.24367627] phi_2 [ 0.36202093] s2_1 0.212263304125 s2_2 0.146820299742\n",
      "phie/P 0.059378122735 phie 0.059378122735 err/sumGamma 0.291666198714 err 2.57143540883\n",
      "phie/P 0.131059154653 phie 0.131059154653 err/sum1-Gamma 0.141420211742 err 5.82419850673\n",
      "w 0.200303039225 phi_1 [-0.24367627] phi_2 [ 0.36202093] s2_1 0.212263304118 s2_2 0.146820299744\n",
      "phie/P 0.0593781227919 phie 0.0593781227919 err/sumGamma 0.291666198714 err 2.57143540812\n",
      "phie/P 0.131059154646 phie 0.131059154646 err/sum1-Gamma 0.141420211745 err 5.82419850718\n",
      "w 0.200303039181 phi_1 [-0.24367627] phi_2 [ 0.36202093] s2_1 0.212263304111 s2_2 0.146820299745\n",
      "phie/P 0.0593781228447 phie 0.0593781228447 err/sumGamma 0.291666198713 err 2.57143540745\n",
      "phie/P 0.13105915464 phie 0.13105915464 err/sum1-Gamma 0.141420211747 err 5.82419850759\n",
      "w 0.200303039139 phi_1 [-0.24367627] phi_2 [ 0.36202093] s2_1 0.212263304105 s2_2 0.146820299747\n",
      "phie/P 0.0593781228939 phie 0.0593781228939 err/sumGamma 0.291666198712 err 2.57143540684\n",
      "phie/P 0.131059154634 phie 0.131059154634 err/sum1-Gamma 0.14142021175 err 5.82419850798\n",
      "w 0.2003030391 phi_1 [-0.24367627] phi_2 [ 0.36202093] s2_1 0.2122633041 s2_2 0.146820299748\n",
      "phie/P 0.0593781229397 phie 0.0593781229397 err/sumGamma 0.291666198711 err 2.57143540626\n",
      "phie/P 0.131059154628 phie 0.131059154628 err/sum1-Gamma 0.141420211752 err 5.82419850834\n",
      "w 0.200303039064 phi_1 [-0.24367627] phi_2 [ 0.36202093] s2_1 0.212263304094 s2_2 0.14682029975\n",
      "phie/P 0.0593781229822 phie 0.0593781229822 err/sumGamma 0.291666198711 err 2.57143540573\n",
      "phie/P 0.131059154623 phie 0.131059154623 err/sum1-Gamma 0.141420211754 err 5.82419850868\n",
      "w 0.200303039031 phi_1 [-0.24367627] phi_2 [ 0.36202093] s2_1 0.21226330409 s2_2 0.146820299751\n",
      "phie/P 0.0593781230218 phie 0.0593781230218 err/sumGamma 0.29166619871 err 2.57143540523\n",
      "phie/P 0.131059154618 phie 0.131059154618 err/sum1-Gamma 0.141420211755 err 5.82419850899\n",
      "w 0.200303039 phi_1 [-0.24367627] phi_2 [ 0.36202093] s2_1 0.212263304085 s2_2 0.146820299752\n",
      "phie/P 0.0593781230587 phie 0.0593781230587 err/sumGamma 0.29166619871 err 2.57143540477\n",
      "phie/P 0.131059154614 phie 0.131059154614 err/sum1-Gamma 0.141420211757 err 5.82419850928\n",
      "w 0.200303038971 phi_1 [-0.24367627] phi_2 [ 0.36202093] s2_1 0.212263304081 s2_2 0.146820299753\n",
      "phie/P 0.0593781230929 phie 0.0593781230929 err/sumGamma 0.291666198709 err 2.57143540434\n",
      "phie/P 0.13105915461 phie 0.13105915461 err/sum1-Gamma 0.141420211759 err 5.82419850955\n",
      "w 0.200303038944 phi_1 [-0.24367627] phi_2 [ 0.36202093] s2_1 0.212263304077 s2_2 0.146820299754\n",
      "phie/P 0.0593781231248 phie 0.0593781231248 err/sumGamma 0.291666198709 err 2.57143540394\n",
      "phie/P 0.131059154606 phie 0.131059154606 err/sum1-Gamma 0.14142021176 err 5.8241985098\n",
      "w 0.200303038918 phi_1 [-0.24367627] phi_2 [ 0.36202093] s2_1 0.212263304073 s2_2 0.146820299755\n",
      "phie/P 0.0593781231544 phie 0.0593781231544 err/sumGamma 0.291666198708 err 2.57143540357\n",
      "phie/P 0.131059154602 phie 0.131059154602 err/sum1-Gamma 0.141420211761 err 5.82419851003\n",
      "w 0.200303038895 phi_1 [-0.24367627] phi_2 [ 0.36202093] s2_1 0.21226330407 s2_2 0.146820299756\n",
      "phie/P 0.059378123182 phie 0.059378123182 err/sumGamma 0.291666198708 err 2.57143540323\n",
      "phie/P 0.131059154599 phie 0.131059154599 err/sum1-Gamma 0.141420211763 err 5.82419851025\n",
      "w 0.200303038873 phi_1 [-0.24367627] phi_2 [ 0.36202093] s2_1 0.212263304067 s2_2 0.146820299756\n",
      "phie/P 0.0593781232077 phie 0.0593781232077 err/sumGamma 0.291666198707 err 2.57143540291\n",
      "phie/P 0.131059154596 phie 0.131059154596 err/sum1-Gamma 0.141420211764 err 5.82419851045\n",
      "w 0.200303038853 phi_1 [-0.24367627] phi_2 [ 0.36202093] s2_1 0.212263304064 s2_2 0.146820299757\n",
      "phie/P 0.0593781232315 phie 0.0593781232315 err/sumGamma 0.291666198707 err 2.57143540261\n",
      "phie/P 0.131059154593 phie 0.131059154593 err/sum1-Gamma 0.141420211765 err 5.82419851064\n",
      "w 0.200303038834 phi_1 [-0.24367627] phi_2 [ 0.36202093] s2_1 0.212263304061 s2_2 0.146820299758\n",
      "phie/P 0.0593781232537 phie 0.0593781232537 err/sumGamma 0.291666198707 err 2.57143540233\n",
      "phie/P 0.13105915459 phie 0.13105915459 err/sum1-Gamma 0.141420211766 err 5.82419851081\n",
      "w 0.200303038817 phi_1 [-0.24367627] phi_2 [ 0.36202093] s2_1 0.212263304058 s2_2 0.146820299758\n",
      "phie/P 0.0593781232744 phie 0.0593781232744 err/sumGamma 0.291666198706 err 2.57143540207\n",
      "phie/P 0.131059154588 phie 0.131059154588 err/sum1-Gamma 0.141420211767 err 5.82419851097\n",
      "w 0.200303038801 phi_1 [-0.24367627] phi_2 [ 0.36202093] s2_1 0.212263304056 s2_2 0.146820299759\n",
      "phie/P 0.0593781232936 phie 0.0593781232936 err/sumGamma 0.291666198706 err 2.57143540183\n",
      "phie/P 0.131059154585 phie 0.131059154585 err/sum1-Gamma 0.141420211768 err 5.82419851112\n",
      "w 0.200303038786 phi_1 [-0.24367627] phi_2 [ 0.36202093] s2_1 0.212263304054 s2_2 0.146820299759\n",
      "phie/P 0.0593781233115 phie 0.0593781233115 err/sumGamma 0.291666198706 err 2.5714354016\n",
      "phie/P 0.131059154583 phie 0.131059154583 err/sum1-Gamma 0.141420211768 err 5.82419851126\n",
      "w 0.200303038771 phi_1 [-0.24367627] phi_2 [ 0.36202093] s2_1 0.212263304052 s2_2 0.14682029976\n",
      "phie/P 0.0593781233281 phie 0.0593781233281 err/sumGamma 0.291666198706 err 2.5714354014\n",
      "phie/P 0.131059154581 phie 0.131059154581 err/sum1-Gamma 0.141420211769 err 5.82419851139\n",
      "w 0.200303038758 phi_1 [-0.24367627] phi_2 [ 0.36202093] s2_1 0.21226330405 s2_2 0.14682029976\n",
      "phie/P 0.0593781233436 phie 0.0593781233436 err/sumGamma 0.291666198705 err 2.5714354012\n",
      "phie/P 0.131059154579 phie 0.131059154579 err/sum1-Gamma 0.14142021177 err 5.82419851152\n",
      "w 0.200303038746 phi_1 [-0.24367627] phi_2 [ 0.36202093] s2_1 0.212263304048 s2_2 0.146820299761\n",
      "phie/P 0.0593781233579 phie 0.0593781233579 err/sumGamma 0.291666198705 err 2.57143540102\n",
      "phie/P 0.131059154578 phie 0.131059154578 err/sum1-Gamma 0.14142021177 err 5.82419851163\n",
      "w 0.200303038735 phi_1 [-0.24367627] phi_2 [ 0.36202093] s2_1 0.212263304046 s2_2 0.146820299761\n",
      "phie/P 0.0593781233713 phie 0.0593781233713 err/sumGamma 0.291666198705 err 2.57143540085\n",
      "phie/P 0.131059154576 phie 0.131059154576 err/sum1-Gamma 0.141420211771 err 5.82419851173\n",
      "w 0.200303038724 phi_1 [-0.24367627] phi_2 [ 0.36202093] s2_1 0.212263304045 s2_2 0.146820299761\n",
      "phie/P 0.0593781233838 phie 0.0593781233838 err/sumGamma 0.291666198705 err 2.5714354007\n",
      "phie/P 0.131059154575 phie 0.131059154575 err/sum1-Gamma 0.141420211772 err 5.82419851183\n",
      "w 0.200303038715 phi_1 [-0.24367627] phi_2 [ 0.36202093] s2_1 0.212263304043 s2_2 0.146820299762\n",
      "phie/P 0.0593781233953 phie 0.0593781233953 err/sumGamma 0.291666198705 err 2.57143540055\n",
      "phie/P 0.131059154573 phie 0.131059154573 err/sum1-Gamma 0.141420211772 err 5.82419851192\n",
      "w 0.200303038705 phi_1 [-0.24367627] phi_2 [ 0.36202093] s2_1 0.212263304042 s2_2 0.146820299762\n",
      "phie/P 0.0593781234061 phie 0.0593781234061 err/sumGamma 0.291666198705 err 2.57143540042\n",
      "phie/P 0.131059154572 phie 0.131059154572 err/sum1-Gamma 0.141420211773 err 5.82419851201\n",
      "w 0.200303038697 phi_1 [-0.24367627] phi_2 [ 0.36202093] s2_1 0.212263304041 s2_2 0.146820299762\n",
      "phie/P 0.0593781234161 phie 0.0593781234161 err/sumGamma 0.291666198704 err 2.57143540029\n",
      "phie/P 0.131059154571 phie 0.131059154571 err/sum1-Gamma 0.141420211773 err 5.82419851209\n",
      "w 0.200303038689 phi_1 [-0.24367627] phi_2 [ 0.36202093] s2_1 0.21226330404 s2_2 0.146820299763\n",
      "phie/P 0.0593781234255 phie 0.0593781234255 err/sumGamma 0.291666198704 err 2.57143540018\n",
      "phie/P 0.131059154569 phie 0.131059154569 err/sum1-Gamma 0.141420211773 err 5.82419851216\n",
      "w 0.200303038682 phi_1 [-0.24367627] phi_2 [ 0.36202093] s2_1 0.212263304039 s2_2 0.146820299763\n",
      "phie/P 0.0593781234341 phie 0.0593781234341 err/sumGamma 0.291666198704 err 2.57143540007\n",
      "phie/P 0.131059154568 phie 0.131059154568 err/sum1-Gamma 0.141420211774 err 5.82419851223\n",
      "w 0.200303038675 phi_1 [-0.24367627] phi_2 [ 0.36202093] s2_1 0.212263304038 s2_2 0.146820299763\n",
      "phie/P 0.0593781234422 phie 0.0593781234422 err/sumGamma 0.291666198704 err 2.57143539997\n",
      "phie/P 0.131059154567 phie 0.131059154567 err/sum1-Gamma 0.141420211774 err 5.82419851229\n",
      "w 0.200303038669 phi_1 [-0.24367627] phi_2 [ 0.36202093] s2_1 0.212263304037 s2_2 0.146820299763\n",
      "phie/P 0.0593781234497 phie 0.0593781234497 err/sumGamma 0.291666198704 err 2.57143539987\n",
      "phie/P 0.131059154567 phie 0.131059154567 err/sum1-Gamma 0.141420211775 err 5.82419851235\n",
      "w 0.200303038663 phi_1 [-0.24367627] phi_2 [ 0.36202093] s2_1 0.212263304036 s2_2 0.146820299764\n",
      "phie/P 0.0593781234567 phie 0.0593781234567 err/sumGamma 0.291666198704 err 2.57143539979\n",
      "phie/P 0.131059154566 phie 0.131059154566 err/sum1-Gamma 0.141420211775 err 5.82419851241\n",
      "w 0.200303038657 phi_1 [-0.24367627] phi_2 [ 0.36202093] s2_1 0.212263304035 s2_2 0.146820299764\n",
      "phie/P 0.0593781234632 phie 0.0593781234632 err/sumGamma 0.291666198704 err 2.5714353997\n",
      "phie/P 0.131059154565 phie 0.131059154565 err/sum1-Gamma 0.141420211775 err 5.82419851246\n",
      "w 0.200303038652 phi_1 [-0.24367627] phi_2 [ 0.36202093] s2_1 0.212263304034 s2_2 0.146820299764\n",
      "phie/P 0.0593781234692 phie 0.0593781234692 err/sumGamma 0.291666198704 err 2.57143539963\n",
      "phie/P 0.131059154564 phie 0.131059154564 err/sum1-Gamma 0.141420211775 err 5.8241985125\n",
      "w 0.200303038647 phi_1 [-0.24367627] phi_2 [ 0.36202093] s2_1 0.212263304034 s2_2 0.146820299764\n",
      "phie/P 0.0593781234748 phie 0.0593781234748 err/sumGamma 0.291666198704 err 2.57143539956\n",
      "phie/P 0.131059154563 phie 0.131059154563 err/sum1-Gamma 0.141420211776 err 5.82419851255\n",
      "w 0.200303038643 phi_1 [-0.24367627] phi_2 [ 0.36202093] s2_1 0.212263304033 s2_2 0.146820299764\n",
      "phie/P 0.05937812348 phie 0.05937812348 err/sumGamma 0.291666198703 err 2.57143539949\n",
      "phie/P 0.131059154563 phie 0.131059154563 err/sum1-Gamma 0.141420211776 err 5.82419851259\n",
      "w 0.200303038639 phi_1 [-0.24367627] phi_2 [ 0.36202093] s2_1 0.212263304032 s2_2 0.146820299765\n",
      "phie/P 0.0593781234849 phie 0.0593781234849 err/sumGamma 0.291666198703 err 2.57143539943\n",
      "phie/P 0.131059154562 phie 0.131059154562 err/sum1-Gamma 0.141420211776 err 5.82419851263\n",
      "w 0.200303038635 phi_1 [-0.24367627] phi_2 [ 0.36202093] s2_1 0.212263304032 s2_2 0.146820299765\n",
      "phie/P 0.0593781234894 phie 0.0593781234894 err/sumGamma 0.291666198703 err 2.57143539938\n",
      "phie/P 0.131059154562 phie 0.131059154562 err/sum1-Gamma 0.141420211776 err 5.82419851266\n",
      "w 0.200303038631 phi_1 [-0.24367627] phi_2 [ 0.36202093] s2_1 0.212263304031 s2_2 0.146820299765\n",
      "phie/P 0.0593781234936 phie 0.0593781234936 err/sumGamma 0.291666198703 err 2.57143539932\n",
      "phie/P 0.131059154561 phie 0.131059154561 err/sum1-Gamma 0.141420211776 err 5.8241985127\n",
      "w 0.200303038628 phi_1 [-0.24367627] phi_2 [ 0.36202093] s2_1 0.212263304031 s2_2 0.146820299765\n",
      "phie/P 0.0593781234975 phie 0.0593781234975 err/sumGamma 0.291666198703 err 2.57143539927\n",
      "phie/P 0.131059154561 phie 0.131059154561 err/sum1-Gamma 0.141420211777 err 5.82419851273\n",
      "w 0.200303038625 phi_1 [-0.24367627] phi_2 [ 0.36202093] s2_1 0.21226330403 s2_2 0.146820299765\n",
      "phie/P 0.0593781235012 phie 0.0593781235012 err/sumGamma 0.291666198703 err 2.57143539923\n",
      "phie/P 0.13105915456 phie 0.13105915456 err/sum1-Gamma 0.141420211777 err 5.82419851276\n",
      "w 0.200303038622 phi_1 [-0.24367627] phi_2 [ 0.36202093] s2_1 0.21226330403 s2_2 0.146820299765\n",
      "phie/P 0.0593781235046 phie 0.0593781235046 err/sumGamma 0.291666198703 err 2.57143539919\n",
      "phie/P 0.13105915456 phie 0.13105915456 err/sum1-Gamma 0.141420211777 err 5.82419851278\n",
      "w 0.200303038619 phi_1 [-0.24367627] phi_2 [ 0.36202093] s2_1 0.21226330403 s2_2 0.146820299765\n",
      "phie/P 0.0593781235077 phie 0.0593781235077 err/sumGamma 0.291666198703 err 2.57143539915\n",
      "phie/P 0.131059154559 phie 0.131059154559 err/sum1-Gamma 0.141420211777 err 5.82419851281\n",
      "w 0.200303038617 phi_1 [-0.24367627] phi_2 [ 0.36202093] s2_1 0.212263304029 s2_2 0.146820299765\n",
      "phie/P 0.0593781235107 phie 0.0593781235107 err/sumGamma 0.291666198703 err 2.57143539911\n",
      "phie/P 0.131059154559 phie 0.131059154559 err/sum1-Gamma 0.141420211777 err 5.82419851283\n",
      "w 0.200303038615 phi_1 [-0.24367627] phi_2 [ 0.36202093] s2_1 0.212263304029 s2_2 0.146820299765\n",
      "phie/P 0.0593781235134 phie 0.0593781235134 err/sumGamma 0.291666198703 err 2.57143539908\n",
      "phie/P 0.131059154559 phie 0.131059154559 err/sum1-Gamma 0.141420211777 err 5.82419851285\n",
      "w 0.200303038612 phi_1 [-0.24367627] phi_2 [ 0.36202093] s2_1 0.212263304029 s2_2 0.146820299765\n",
      "phie/P 0.0593781235159 phie 0.0593781235159 err/sumGamma 0.291666198703 err 2.57143539904\n",
      "phie/P 0.131059154558 phie 0.131059154558 err/sum1-Gamma 0.141420211777 err 5.82419851287\n",
      "w 0.20030303861 phi_1 [-0.24367627] phi_2 [ 0.36202093] s2_1 0.212263304028 s2_2 0.146820299765\n",
      "phie/P 0.0593781235183 phie 0.0593781235183 err/sumGamma 0.291666198703 err 2.57143539901\n",
      "phie/P 0.131059154558 phie 0.131059154558 err/sum1-Gamma 0.141420211778 err 5.82419851289\n",
      "w 0.200303038609 phi_1 [-0.24367627] phi_2 [ 0.36202093] s2_1 0.212263304028 s2_2 0.146820299766\n",
      "phie/P 0.0593781235205 phie 0.0593781235205 err/sumGamma 0.291666198703 err 2.57143539899\n",
      "phie/P 0.131059154558 phie 0.131059154558 err/sum1-Gamma 0.141420211778 err 5.82419851291\n",
      "w 0.200303038607 phi_1 [-0.24367627] phi_2 [ 0.36202093] s2_1 0.212263304028 s2_2 0.146820299766\n",
      "phie/P 0.0593781235225 phie 0.0593781235225 err/sumGamma 0.291666198703 err 2.57143539896\n",
      "phie/P 0.131059154558 phie 0.131059154558 err/sum1-Gamma 0.141420211778 err 5.82419851292\n",
      "w 0.200303038605 phi_1 [-0.24367627] phi_2 [ 0.36202093] s2_1 0.212263304028 s2_2 0.146820299766\n",
      "phie/P 0.0593781235244 phie 0.0593781235244 err/sumGamma 0.291666198703 err 2.57143539894\n",
      "phie/P 0.131059154557 phie 0.131059154557 err/sum1-Gamma 0.141420211778 err 5.82419851294\n",
      "w 0.200303038604 phi_1 [-0.24367627] phi_2 [ 0.36202093] s2_1 0.212263304027 s2_2 0.146820299766\n",
      "phie/P 0.0593781235262 phie 0.0593781235262 err/sumGamma 0.291666198703 err 2.57143539891\n",
      "phie/P 0.131059154557 phie 0.131059154557 err/sum1-Gamma 0.141420211778 err 5.82419851295\n",
      "w 0.200303038602 phi_1 [-0.24367627] phi_2 [ 0.36202093] s2_1 0.212263304027 s2_2 0.146820299766\n",
      "phie/P 0.0593781235278 phie 0.0593781235278 err/sumGamma 0.291666198703 err 2.57143539889\n",
      "phie/P 0.131059154557 phie 0.131059154557 err/sum1-Gamma 0.141420211778 err 5.82419851296\n",
      "w 0.200303038601 phi_1 [-0.24367627] phi_2 [ 0.36202093] s2_1 0.212263304027 s2_2 0.146820299766\n",
      "phie/P 0.0593781235293 phie 0.0593781235293 err/sumGamma 0.291666198703 err 2.57143539888\n",
      "phie/P 0.131059154557 phie 0.131059154557 err/sum1-Gamma 0.141420211778 err 5.82419851298\n",
      "w 0.2003030386 phi_1 [-0.24367627] phi_2 [ 0.36202093] s2_1 0.212263304027 s2_2 0.146820299766\n",
      "phie/P 0.0593781235308 phie 0.0593781235308 err/sumGamma 0.291666198703 err 2.57143539886\n",
      "phie/P 0.131059154557 phie 0.131059154557 err/sum1-Gamma 0.141420211778 err 5.82419851299\n",
      "w 0.200303038599 phi_1 [-0.24367627] phi_2 [ 0.36202093] s2_1 0.212263304027 s2_2 0.146820299766\n",
      "phie/P 0.0593781235321 phie 0.0593781235321 err/sumGamma 0.291666198703 err 2.57143539884\n",
      "phie/P 0.131059154557 phie 0.131059154557 err/sum1-Gamma 0.141420211778 err 5.824198513\n",
      "w 0.200303038598 phi_1 [-0.24367627] phi_2 [ 0.36202093] s2_1 0.212263304026 s2_2 0.146820299766\n",
      "Model fit (logl -41.24) after 312 iterations (alim reached)\n",
      "\n",
      "MAP estimate of true model parameters:\n",
      "w = 0.200303038598\n",
      "sigma2_1 = 0.212263304026\n",
      "gamma = [  1.03677372e-01   7.77707617e-02   1.67470626e-01   1.63142095e-01\n",
      "   5.25203563e-03   3.16756590e-01   2.61841917e-01   1.64943843e-01\n",
      "   2.60013881e-01   1.61361644e-01   1.56997575e-01   1.82060827e-01\n",
      "   2.94830543e-03   1.75752017e-01   1.63626088e-01   9.99168810e-01\n",
      "   1.82686367e-01   3.75827215e-02   3.64574611e-01   3.36155026e-02\n",
      "   2.65825407e-01   1.25180556e-01   2.44391574e-02   1.36295783e-01\n",
      "   1.27150727e-05   4.74041875e-02   1.20700333e-01   1.68255550e-01\n",
      "   2.51465698e-01   2.29374303e-01   1.25518265e-01   1.49651522e-01\n",
      "   7.17177950e-01   8.68245836e-02   1.41111380e-01   2.58639385e-01\n",
      "   1.42431873e-01   1.40909421e-02   4.09984407e-01   1.59194042e-01\n",
      "   1.94792995e-01   2.73064594e-03   1.24738342e-03   1.16009642e-01\n",
      "   1.74524420e-01   1.17121759e-01   3.59385606e-01   5.28226396e-03\n",
      "   7.18548923e-02   2.18592849e-01]\n",
      "phi_2 = [ 0.36202093]\n",
      "phi_1 = [-0.24367627]\n",
      "sigma2_2 = 0.146820299766\n",
      "\n"
     ]
    }
   ],
   "source": [
    "# generate a model for estimating the parameters of the\n",
    "# true model based on the observations (X, Y) we just made\n",
    "model = EM_algo_MM(hyperp, X, Y)\n",
    "i, logl, r = model.EM_fit()\n",
    "print(\"Model fit (logl %.2f) after %d iterations (%s reached)\" % \\\n",
    "        (logl, i, r))\n",
    "print(\"\")\n",
    "print(\"MAP estimate of true model parameters:\")\n",
    "model.print_p()\n",
    "print(\"\")"
   ]
  },
  {
   "cell_type": "markdown",
   "metadata": {},
   "source": [
    "## Main"
   ]
  },
  {
   "cell_type": "code",
   "execution_count": 52,
   "metadata": {
    "collapsed": false
   },
   "outputs": [
    {
     "name": "stdout",
     "output_type": "stream",
     "text": [
      "Starting program\n",
      "\n",
      "Generated 50 training data and 50 validation data from true model:\n",
      "phi    : (0.06)\n",
      "sigma2 : 0.307\n",
      "\n",
      "Model fit (logl -26.01) after 2 iterations (alim reached)\n",
      "\n",
      "MAP estimate of true model parameters:\n",
      "phi    : (0.21)\n",
      "sigma2 : 0.172\n",
      "\n",
      "Crossvalidated logl: -42.17\n"
     ]
    },
    {
     "name": "stderr",
     "output_type": "stream",
     "text": [
      "/Users/kuuranne/miniconda3/envs/python3/lib/python3.5/site-packages/ipykernel/__main__.py:17: FutureWarning: comparison to `None` will result in an elementwise object comparison in the future.\n",
      "/Users/kuuranne/miniconda3/envs/python3/lib/python3.5/site-packages/ipykernel/__main__.py:30: FutureWarning: comparison to `None` will result in an elementwise object comparison in the future.\n"
     ]
    },
    {
     "data": {
      "image/png": "[encoded data removed]",
      "text/plain": [
       "<matplotlib.figure.Figure at 0x1116ab390>"
      ]
     },
     "metadata": {},
     "output_type": "display_data"
    }
   ],
   "source": [
    "# Aalto University, School of Science\n",
    "# T-61.5140 Machine Learning: Advanced probabilistic Methods\n",
    "# Author: antti.kangasraasio@aalto.fi, 2016\n",
    "\n",
    "import matplotlib.pyplot as plt\n",
    "from numpy import arange, min, max, sqrt, mean, std\n",
    "from scipy.spatial.distance import cosine\n",
    "import numpy as np\n",
    "\n",
    "def main():\n",
    "    \"\"\"\n",
    "        Executed when program is run.\n",
    "    \"\"\"\n",
    "    print(\"Starting program\")\n",
    "    print(\"\")\n",
    "    test_LM_model()\n",
    "\n",
    "\n",
    "def test_LM_model():\n",
    "    \"\"\"\n",
    "        Example that demonstrates how to call the model.\n",
    "    \"\"\"\n",
    "    # get hyperparameters for model\n",
    "    hyperp = get_hyperp()\n",
    "    # generate 50 training data and 20 validation data locations of dim=1\n",
    "    ndata = 50\n",
    "    ndata_v = 50\n",
    "    pdata = 1\n",
    "    X = generate_X(ndata, pdata)\n",
    "    X_v = generate_X(ndata_v, pdata)\n",
    "    # intialize true model randomly and draw observations from it\n",
    "    true_model = EM_algo_LM(hyperp, ndata=ndata, pdata=pdata)\n",
    "    Y, Z = generate_YZ(X, true_model)\n",
    "    Y_v, Z_v = generate_YZ(X_v, true_model)\n",
    "    print(\"Generated %d training data and %d validation data from true model:\" % \\\n",
    "            (ndata, ndata_v))\n",
    "    true_model.print_p()\n",
    "    print(\"\")\n",
    "\n",
    "    # generate a model for estimating the parameters of the\n",
    "    # true model based on the observations (X, Y) we just made\n",
    "    model = EM_algo_LM(hyperp, X, Y)\n",
    "    i, logl, r = model.EM_fit()\n",
    "    print(\"Model fit (logl %.2f) after %d iterations (%s reached)\" % \\\n",
    "            (logl, i, r))\n",
    "    print(\"\")\n",
    "    print(\"MAP estimate of true model parameters:\")\n",
    "    model.print_p()\n",
    "    print(\"\")\n",
    "\n",
    "    # crossvalidate the estimated model with the validation data\n",
    "    fit_params = model.get_p()\n",
    "    model_v = EM_algo_LM(hyperp, X_v, Y_v)\n",
    "    model_v.set_p(fit_params)\n",
    "    logl, ll = model_v.logl()\n",
    "    print(\"Crossvalidated logl: %.2f\" % (logl))\n",
    "\n",
    "    # if possible, plot samples, true model and estimated model\n",
    "    if pdata != 1:\n",
    "        return\n",
    "    plt.figure(figsize=(20,10))\n",
    "    plt.scatter(X, Y, s=20, c='black', label=\"Training data\")\n",
    "    plt.scatter(X_v, Y_v, s=20, c='orange', label=\"Validation data\")\n",
    "    x = arange(min(X)-0.1, max(X)+0.1, 0.1)\n",
    "    print_linear_model(x, true_model.get_p()[\"phi\"], \\\n",
    "            true_model.get_p()[\"sigma2\"], 'red', \"True model\")\n",
    "    print_linear_model(x, model.get_p()[\"phi\"], \\\n",
    "            model.get_p()[\"sigma2\"], 'blue', \"Predicted model\")\n",
    "    plt.legend(loc=1)\n",
    "    plt.xlim(min(x), max(x))\n",
    "    plt.xlabel(\"x\")\n",
    "    plt.ylabel(\"y\")\n",
    "    plt.show()\n",
    "    \n",
    "\n",
    "\n",
    "def print_linear_model(x, phi, sigma2, color, label):\n",
    "    \"\"\"\n",
    "        Print linear model mean and 95% confidence interval.\n",
    "    \"\"\"\n",
    "    y = phi * x\n",
    "    plt.plot(x, y, color, label=label)\n",
    "    plt.fill_between(x, y + 1.96 * sqrt(sigma2), y - 1.96 * sqrt(sigma2), \\\n",
    "            alpha=0.25, facecolor=color, interpolate=True)\n",
    "\n",
    "\n",
    "if __name__ == \"__main__\":\n",
    "    main()\n",
    "\n"
   ]
  },
  {
   "cell_type": "code",
   "execution_count": 286,
   "metadata": {
    "collapsed": false
   },
   "outputs": [],
   "source": [
    "X = generate_X(10, 2)"
   ]
  },
  {
   "cell_type": "code",
   "execution_count": 287,
   "metadata": {
    "collapsed": false
   },
   "outputs": [
    {
     "data": {
      "text/plain": [
       "(10, 2)"
      ]
     },
     "execution_count": 287,
     "metadata": {},
     "output_type": "execute_result"
    }
   ],
   "source": [
    "X.shape"
   ]
  },
  {
   "cell_type": "code",
   "execution_count": 288,
   "metadata": {
    "collapsed": false
   },
   "outputs": [
    {
     "data": {
      "text/plain": [
       "array([[-0.91954461,  0.2400352 ],\n",
       "       [ 2.33650195,  1.81126434],\n",
       "       [-0.08133542,  0.06118832],\n",
       "       [-1.33545433, -0.86719239],\n",
       "       [ 1.66719011, -0.57531528],\n",
       "       [-0.30577782,  0.06323988],\n",
       "       [ 0.99608716, -0.33705257],\n",
       "       [-0.65754579, -0.1670884 ],\n",
       "       [ 1.05556896,  0.3179948 ],\n",
       "       [ 1.17714858,  1.69832692]])"
      ]
     },
     "execution_count": 288,
     "metadata": {},
     "output_type": "execute_result"
    }
   ],
   "source": [
    "X"
   ]
  },
  {
   "cell_type": "code",
   "execution_count": 289,
   "metadata": {
    "collapsed": false
   },
   "outputs": [
    {
     "data": {
      "text/plain": [
       "array([ 1.05556896,  0.3179948 ])"
      ]
     },
     "execution_count": 289,
     "metadata": {},
     "output_type": "execute_result"
    }
   ],
   "source": [
    "X[8,:]"
   ]
  },
  {
   "cell_type": "code",
   "execution_count": 290,
   "metadata": {
    "collapsed": false
   },
   "outputs": [
    {
     "data": {
      "text/plain": [
       "array([[ 0.26139576,  0.38761334],\n",
       "       [ 0.0260286 ,  0.07736059],\n",
       "       [ 0.39762487,  0.39819616],\n",
       "       [ 0.16354654,  0.2739116 ],\n",
       "       [ 0.09939038,  0.33809364],\n",
       "       [ 0.38072096,  0.39814534],\n",
       "       [ 0.24291751,  0.37691305],\n",
       "       [ 0.32138299,  0.39341203],\n",
       "       [ 0.2285383 ,  0.37927305],\n",
       "       [ 0.19953255,  0.09431682]])"
      ]
     },
     "execution_count": 290,
     "metadata": {},
     "output_type": "execute_result"
    }
   ],
   "source": [
    "norm.pdf(X, 0, 1)"
   ]
  },
  {
   "cell_type": "code",
   "execution_count": 642,
   "metadata": {
    "collapsed": false
   },
   "outputs": [
    {
     "name": "stdout",
     "output_type": "stream",
     "text": [
      "Press Enter to continue...\n"
     ]
    },
    {
     "data": {
      "text/plain": [
       "''"
      ]
     },
     "execution_count": 642,
     "metadata": {},
     "output_type": "execute_result"
    }
   ],
   "source": [
    "input(\"Press Enter to continue...\")"
   ]
  },
  {
   "cell_type": "code",
   "execution_count": 291,
   "metadata": {
    "collapsed": false
   },
   "outputs": [],
   "source": [
    "p_1 = np.array([0.3, 0.2])\n",
    "p_2 = np.array([0.2, 0.8])\n",
    "asd = p_1 / (p_1 + p_2)"
   ]
  },
  {
   "cell_type": "code",
   "execution_count": 292,
   "metadata": {
    "collapsed": false
   },
   "outputs": [
    {
     "data": {
      "text/plain": [
       "array([ 0.6,  0.2])"
      ]
     },
     "execution_count": 292,
     "metadata": {},
     "output_type": "execute_result"
    }
   ],
   "source": [
    "asd"
   ]
  },
  {
   "cell_type": "code",
   "execution_count": 293,
   "metadata": {
    "collapsed": false
   },
   "outputs": [
    {
     "data": {
      "text/plain": [
       "0.6"
      ]
     },
     "execution_count": 293,
     "metadata": {},
     "output_type": "execute_result"
    }
   ],
   "source": [
    "0.3 / (0.3+0.2)"
   ]
  },
  {
   "cell_type": "code",
   "execution_count": 294,
   "metadata": {
    "collapsed": false
   },
   "outputs": [
    {
     "data": {
      "text/plain": [
       "0.2"
      ]
     },
     "execution_count": 294,
     "metadata": {},
     "output_type": "execute_result"
    }
   ],
   "source": [
    "0.2 / (0.2+0.8)"
   ]
  },
  {
   "cell_type": "code",
   "execution_count": 295,
   "metadata": {
    "collapsed": false
   },
   "outputs": [
    {
     "data": {
      "text/plain": [
       "array([[ 14.892341  ,   6.29490444],\n",
       "       [  6.29490444,   7.55600699]])"
      ]
     },
     "execution_count": 295,
     "metadata": {},
     "output_type": "execute_result"
    }
   ],
   "source": [
    "X.T.dot(X)"
   ]
  },
  {
   "cell_type": "code",
   "execution_count": 296,
   "metadata": {
    "collapsed": false
   },
   "outputs": [
    {
     "data": {
      "text/plain": [
       "array([ 0.06,  0.16])"
      ]
     },
     "execution_count": 296,
     "metadata": {},
     "output_type": "execute_result"
    }
   ],
   "source": [
    "np.multiply(p_1, p_2)"
   ]
  },
  {
   "cell_type": "code",
   "execution_count": 297,
   "metadata": {
    "collapsed": false
   },
   "outputs": [],
   "source": [
    "true_model = EM_algo_LM(get_hyperp(), ndata=10, pdata=2)\n",
    "Y, Z = generate_YZ(X, true_model)"
   ]
  },
  {
   "cell_type": "code",
   "execution_count": 298,
   "metadata": {
    "collapsed": false
   },
   "outputs": [
    {
     "data": {
      "text/plain": [
       "(10,)"
      ]
     },
     "execution_count": 298,
     "metadata": {},
     "output_type": "execute_result"
    }
   ],
   "source": [
    "Y.shape"
   ]
  },
  {
   "cell_type": "code",
   "execution_count": 299,
   "metadata": {
    "collapsed": false
   },
   "outputs": [
    {
     "data": {
      "text/plain": [
       "(10, 2)"
      ]
     },
     "execution_count": 299,
     "metadata": {},
     "output_type": "execute_result"
    }
   ],
   "source": [
    "X.shape"
   ]
  },
  {
   "cell_type": "code",
   "execution_count": 300,
   "metadata": {
    "collapsed": false
   },
   "outputs": [
    {
     "data": {
      "text/plain": [
       "array([ 1.,  1.,  1.,  1.,  1.,  1.,  1.,  1.,  1.,  1.])"
      ]
     },
     "execution_count": 300,
     "metadata": {},
     "output_type": "execute_result"
    }
   ],
   "source": [
    "Z"
   ]
  },
  {
   "cell_type": "code",
   "execution_count": 301,
   "metadata": {
    "collapsed": false
   },
   "outputs": [
    {
     "data": {
      "text/plain": [
       "array([-6.63206963, -0.67963419])"
      ]
     },
     "execution_count": 301,
     "metadata": {},
     "output_type": "execute_result"
    }
   ],
   "source": [
    "X.T.dot(Y)"
   ]
  },
  {
   "cell_type": "code",
   "execution_count": 302,
   "metadata": {
    "collapsed": false
   },
   "outputs": [],
   "source": [
    "?np.dot"
   ]
  },
  {
   "cell_type": "code",
   "execution_count": 303,
   "metadata": {
    "collapsed": false
   },
   "outputs": [
    {
     "data": {
      "text/plain": [
       "array([[ 14.892341  ,   6.29490444],\n",
       "       [  6.29490444,   7.55600699]])"
      ]
     },
     "execution_count": 303,
     "metadata": {},
     "output_type": "execute_result"
    }
   ],
   "source": [
    "X.T.dot(X)"
   ]
  },
  {
   "cell_type": "code",
   "execution_count": 304,
   "metadata": {
    "collapsed": false
   },
   "outputs": [
    {
     "data": {
      "text/plain": [
       "array([[ 14.892341  ,   0.        ],\n",
       "       [  0.        ,   7.55600699]])"
      ]
     },
     "execution_count": 304,
     "metadata": {},
     "output_type": "execute_result"
    }
   ],
   "source": [
    "eye(2) * np.sum(np.multiply(X, X),axis=0,keepdims=True)"
   ]
  },
  {
   "cell_type": "code",
   "execution_count": 305,
   "metadata": {
    "collapsed": false
   },
   "outputs": [
    {
     "data": {
      "text/plain": [
       "array([[ 14.892341  ,   6.29490444],\n",
       "       [  6.29490444,   7.55600699]])"
      ]
     },
     "execution_count": 305,
     "metadata": {},
     "output_type": "execute_result"
    }
   ],
   "source": [
    "X.T.dot(X)"
   ]
  },
  {
   "cell_type": "code",
   "execution_count": 306,
   "metadata": {
    "collapsed": false
   },
   "outputs": [
    {
     "data": {
      "text/plain": [
       "array([-7.7802166 , -2.42228584])"
      ]
     },
     "execution_count": 306,
     "metadata": {},
     "output_type": "execute_result"
    }
   ],
   "source": [
    "np.dot(Y, np.multiply(X, X))"
   ]
  },
  {
   "cell_type": "code",
   "execution_count": 307,
   "metadata": {
    "collapsed": true
   },
   "outputs": [],
   "source": [
    "total = np.array([0.0, 0.0])\n",
    "for t in range(10):\n",
    "    total += Y[t] * X[t] * X[t]"
   ]
  },
  {
   "cell_type": "code",
   "execution_count": 308,
   "metadata": {
    "collapsed": false
   },
   "outputs": [
    {
     "data": {
      "text/plain": [
       "array([-7.7802166 , -2.42228584])"
      ]
     },
     "execution_count": 308,
     "metadata": {},
     "output_type": "execute_result"
    }
   ],
   "source": [
    "total"
   ]
  },
  {
   "cell_type": "code",
   "execution_count": 341,
   "metadata": {
    "collapsed": false
   },
   "outputs": [
    {
     "data": {
      "text/plain": [
       "False"
      ]
     },
     "execution_count": 341,
     "metadata": {},
     "output_type": "execute_result"
    }
   ],
   "source": [
    "np.array(list(map(lambda x: x > 0, total))).any()"
   ]
  },
  {
   "cell_type": "code",
   "execution_count": 337,
   "metadata": {
    "collapsed": false
   },
   "outputs": [
    {
     "data": {
      "text/plain": [
       "[False, False]"
      ]
     },
     "execution_count": 337,
     "metadata": {},
     "output_type": "execute_result"
    }
   ],
   "source": [
    "tsup"
   ]
  },
  {
   "cell_type": "code",
   "execution_count": 309,
   "metadata": {
    "collapsed": false
   },
   "outputs": [],
   "source": [
    "asd1=Y * Y"
   ]
  },
  {
   "cell_type": "code",
   "execution_count": 310,
   "metadata": {
    "collapsed": false
   },
   "outputs": [
    {
     "data": {
      "text/plain": [
       "(10,)"
      ]
     },
     "execution_count": 310,
     "metadata": {},
     "output_type": "execute_result"
    }
   ],
   "source": [
    "asd1.shape"
   ]
  },
  {
   "cell_type": "code",
   "execution_count": 311,
   "metadata": {
    "collapsed": false
   },
   "outputs": [
    {
     "data": {
      "text/plain": [
       "array([ 5.16658487, -0.61477888])"
      ]
     },
     "execution_count": 311,
     "metadata": {},
     "output_type": "execute_result"
    }
   ],
   "source": [
    "np.dot(asd1, X)"
   ]
  },
  {
   "cell_type": "code",
   "execution_count": 312,
   "metadata": {
    "collapsed": true
   },
   "outputs": [],
   "source": [
    "total2 = np.array([0.0, 0.0])\n",
    "for t in range(10):\n",
    "    total2 += Y[t] * X[t] * Y[t]"
   ]
  },
  {
   "cell_type": "code",
   "execution_count": 313,
   "metadata": {
    "collapsed": false
   },
   "outputs": [
    {
     "data": {
      "text/plain": [
       "array([ 5.16658487, -0.61477888])"
      ]
     },
     "execution_count": 313,
     "metadata": {},
     "output_type": "execute_result"
    }
   ],
   "source": [
    "total2"
   ]
  },
  {
   "cell_type": "code",
   "execution_count": 314,
   "metadata": {
    "collapsed": false
   },
   "outputs": [
    {
     "data": {
      "text/plain": [
       "array([[ 14.892341  ,   6.29490444],\n",
       "       [  6.29490444,   7.55600699]])"
      ]
     },
     "execution_count": 314,
     "metadata": {},
     "output_type": "execute_result"
    }
   ],
   "source": [
    "X.T.dot(X)"
   ]
  },
  {
   "cell_type": "code",
   "execution_count": 315,
   "metadata": {
    "collapsed": true
   },
   "outputs": [],
   "source": [
    "ga = [0.1, 0.3, 0.4, 0.5, 0.4, 0.5, 0.4, 0.5, 0.4, 0.5]"
   ]
  },
  {
   "cell_type": "code",
   "execution_count": 316,
   "metadata": {
    "collapsed": false
   },
   "outputs": [],
   "source": [
    "T=10\n",
    "foo=np.tile(ga, (T,1))"
   ]
  },
  {
   "cell_type": "code",
   "execution_count": 317,
   "metadata": {
    "collapsed": false
   },
   "outputs": [
    {
     "data": {
      "text/plain": [
       "(10, 10)"
      ]
     },
     "execution_count": 317,
     "metadata": {},
     "output_type": "execute_result"
    }
   ],
   "source": [
    "foo.shape"
   ]
  },
  {
   "cell_type": "code",
   "execution_count": 318,
   "metadata": {
    "collapsed": false
   },
   "outputs": [
    {
     "data": {
      "text/plain": [
       "array([[ 0.1,  0.3,  0.4,  0.5,  0.4,  0.5,  0.4,  0.5,  0.4,  0.5],\n",
       "       [ 0.1,  0.3,  0.4,  0.5,  0.4,  0.5,  0.4,  0.5,  0.4,  0.5],\n",
       "       [ 0.1,  0.3,  0.4,  0.5,  0.4,  0.5,  0.4,  0.5,  0.4,  0.5],\n",
       "       [ 0.1,  0.3,  0.4,  0.5,  0.4,  0.5,  0.4,  0.5,  0.4,  0.5],\n",
       "       [ 0.1,  0.3,  0.4,  0.5,  0.4,  0.5,  0.4,  0.5,  0.4,  0.5],\n",
       "       [ 0.1,  0.3,  0.4,  0.5,  0.4,  0.5,  0.4,  0.5,  0.4,  0.5],\n",
       "       [ 0.1,  0.3,  0.4,  0.5,  0.4,  0.5,  0.4,  0.5,  0.4,  0.5],\n",
       "       [ 0.1,  0.3,  0.4,  0.5,  0.4,  0.5,  0.4,  0.5,  0.4,  0.5],\n",
       "       [ 0.1,  0.3,  0.4,  0.5,  0.4,  0.5,  0.4,  0.5,  0.4,  0.5],\n",
       "       [ 0.1,  0.3,  0.4,  0.5,  0.4,  0.5,  0.4,  0.5,  0.4,  0.5]])"
      ]
     },
     "execution_count": 318,
     "metadata": {},
     "output_type": "execute_result"
    }
   ],
   "source": [
    "foo"
   ]
  },
  {
   "cell_type": "code",
   "execution_count": 319,
   "metadata": {
    "collapsed": false
   },
   "outputs": [
    {
     "data": {
      "text/plain": [
       "0.40000000000000002"
      ]
     },
     "execution_count": 319,
     "metadata": {},
     "output_type": "execute_result"
    }
   ],
   "source": [
    "np.mean(foo)"
   ]
  },
  {
   "cell_type": "code",
   "execution_count": 320,
   "metadata": {
    "collapsed": false
   },
   "outputs": [
    {
     "data": {
      "text/plain": [
       "True"
      ]
     },
     "execution_count": 320,
     "metadata": {},
     "output_type": "execute_result"
    }
   ],
   "source": [
    "foo.all()"
   ]
  },
  {
   "cell_type": "code",
   "execution_count": 73,
   "metadata": {
    "collapsed": false
   },
   "outputs": [
    {
     "data": {
      "text/plain": [
       "-0.4970363599779147"
      ]
     },
     "execution_count": 73,
     "metadata": {},
     "output_type": "execute_result"
    }
   ],
   "source": [
    "normal(0, 1)"
   ]
  },
  {
   "cell_type": "code",
   "execution_count": null,
   "metadata": {
    "collapsed": true
   },
   "outputs": [],
   "source": []
  }
 ],
 "metadata": {
  "kernelspec": {
   "display_name": "Python 3",
   "language": "python",
   "name": "python3"
  },
  "language_info": {
   "codemirror_mode": {
    "name": "ipython",
    "version": 3
   },
   "file_extension": ".py",
   "mimetype": "text/x-python",
   "name": "python",
   "nbconvert_exporter": "python",
   "pygments_lexer": "ipython3",
   "version": "3.5.1"
  },
  "toc": {
   "toc_cell": false,
   "toc_number_sections": true,
   "toc_threshold": 6,
   "toc_window_display": true
  },
  "toc_position": {
   "left": "1195.078125px",
   "right": "20px",
   "top": "120px",
   "width": "186px"
  }
 },
 "nbformat": 4,
 "nbformat_minor": 0
}
