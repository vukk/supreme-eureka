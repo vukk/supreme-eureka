{
 "cells": [
  {
   "cell_type": "markdown",
   "metadata": {},
   "source": [
    "## Config"
   ]
  },
  {
   "cell_type": "code",
   "execution_count": 1,
   "metadata": {
    "collapsed": false
   },
   "outputs": [],
   "source": [
    "import matplotlib.pyplot as plt"
   ]
  },
  {
   "cell_type": "code",
   "execution_count": 2,
   "metadata": {
    "collapsed": false
   },
   "outputs": [],
   "source": [
    "%matplotlib inline"
   ]
  },
  {
   "cell_type": "code",
   "execution_count": 10,
   "metadata": {
    "collapsed": true
   },
   "outputs": [],
   "source": [
    "from numpy import outer, eye, ones, zeros, diag, log, sqrt, exp, pi\n",
    "from numpy.linalg import inv, solve\n",
    "from numpy.random import multivariate_normal as mvnormal, normal, gamma, beta, binomial\n",
    "from scipy.special import gammaln\n",
    "from scipy.stats import norm\n",
    "\n",
    "import numpy as np\n",
    "\n",
    "import matplotlib.pyplot as plt\n",
    "from numpy import arange, min, max, sqrt, mean, std\n",
    "from scipy.spatial.distance import cosine\n",
    "import numpy as np"
   ]
  },
  {
   "cell_type": "markdown",
   "metadata": {},
   "source": [
    "## EM-algorithm"
   ]
  },
  {
   "cell_type": "code",
   "execution_count": 11,
   "metadata": {
    "code_folding": [
     6
    ],
    "collapsed": true
   },
   "outputs": [],
   "source": [
    "# Aalto University, School of Science\n",
    "# T-61.5140 Machine Learning: Advanced probabilistic Methods\n",
    "# Author: antti.kangasraasio@aalto.fi, 2016\n",
    "\n",
    "import copy\n",
    "\n",
    "class EM_algo():\n",
    "    \"\"\"\n",
    "        A superclass for different EM-fitted models.\n",
    "    \"\"\"\n",
    "\n",
    "    def __init__(self, hyperparams, X=None, Y=None, ndata=0, pdata=0):\n",
    "        \"\"\"\n",
    "            Initialize model based either on given data (X, Y) or\n",
    "            on given data dimensionality (ndata, pdata).\n",
    "        \"\"\"\n",
    "        if not X is None and not Y is None:\n",
    "            self.X = X\n",
    "            self.Y = Y\n",
    "            self.ndata = len(self.X)\n",
    "            self.pdata = len(self.X[0])\n",
    "        if ndata and pdata:\n",
    "            self.X = None\n",
    "            self.Y = None\n",
    "            self.ndata = ndata\n",
    "            self.pdata = pdata\n",
    "        self.h = hyperparams\n",
    "        self.p = dict() # model parameters\n",
    "        self.reset()\n",
    "        if not X is None and not Y is None:\n",
    "            self.current_logl, self.cll = self.logl()\n",
    "\n",
    "\n",
    "    def reset(self):\n",
    "        \"\"\"\n",
    "            Reset priors and draw parameter estimates from prior.\n",
    "        \"\"\"\n",
    "        raise NotImplementedError(\"Subclass implements\")\n",
    "\n",
    "\n",
    "    def draw(self, item):\n",
    "        \"\"\"\n",
    "            Draw a data sample from the current predictive distribution.\n",
    "            Returns the drawn y and z-values.\n",
    "        \"\"\"\n",
    "        raise NotImplementedError(\"Subclass implements\")\n",
    "\n",
    "\n",
    "    def logl(self):\n",
    "        \"\"\"\n",
    "            Calculates the full log likelihood for this model.\n",
    "            Returns the logl (and the values of each term for debugging purposes)\n",
    "        \"\"\"\n",
    "        raise NotImplementedError(\"Subclass implements\")\n",
    "\n",
    "\n",
    "    def EM_iter(self):\n",
    "        \"\"\"\n",
    "            Executes a single round of EM updates for this model.\n",
    "        \"\"\"\n",
    "        raise NotImplementedError(\"Subclass implements\")\n",
    "\n",
    "\n",
    "    def EM_fit(self, alim=1e-10, maxit=1e4):\n",
    "        \"\"\"\n",
    "            Calls the EM_iter repeatedly until the log likelihood\n",
    "            of the model increases less than 'alim' in absolute\n",
    "            value or after 'maxit' iterations have been done.\n",
    "\n",
    "            Returns the number of EM-iterations, final log likelihood\n",
    "            value and a string that explains the end condition.\n",
    "        \"\"\"\n",
    "        logl, ll = self.logl()\n",
    "        for i in range(int(maxit)):\n",
    "            self.EM_iter()\n",
    "            logl2, ll2 = self.logl()\n",
    "            adiff = abs(logl2 - logl)\n",
    "            if adiff < alim:\n",
    "                return i+1, logl2, \"alim\"\n",
    "            logl = logl2\n",
    "        return maxit, logl2, \"maxit\"\n",
    "\n",
    "\n",
    "    def assert_logl_increased(self, event):\n",
    "        \"\"\"\n",
    "            Checks that the log likelihood increased since model\n",
    "            initialization or the time this function was last called.\n",
    "        \"\"\"\n",
    "        newlogl, ll = self.logl()\n",
    "        if self.current_logl - newlogl > 1e-3:\n",
    "            self.debug_logl(self.cll, ll)\n",
    "            raise ValueError(\"logl decreased after %s\" % (event))\n",
    "        self.current_logl, self.cll = newlogl, ll\n",
    "\n",
    "\n",
    "    def get_p(self):\n",
    "        \"\"\"\n",
    "            Returns a copy of the model parameters.\n",
    "        \"\"\"\n",
    "        return copy.deepcopy(self.p)\n",
    "\n",
    "\n",
    "    def set_p(self, p):\n",
    "        \"\"\"\n",
    "            Sets the model parameters.\n",
    "        \"\"\"\n",
    "        self.p = p.copy()\n",
    "\n",
    "\n",
    "    def print_p(self):\n",
    "        \"\"\"\n",
    "            Prints the model parameters, one at each line.\n",
    "        \"\"\"\n",
    "        for k, v in self.p.items():\n",
    "            print(\"%s = %s\" % (k, v))\n",
    "\n",
    "\n",
    "    def pretty_vector(self, x):\n",
    "        \"\"\"\n",
    "            Returns a formatted version of a vector.\n",
    "        \"\"\"\n",
    "        s = [\"(\"]\n",
    "        s.extend([\"%.2f, \" % (xi) for xi in x[:-1]])\n",
    "        s.append(\"%.2f)\" % (x[-1]))\n",
    "        return \"\".join(s)\n",
    "\n",
    "\n",
    "    def debug_logl(self, ll1, ll2):\n",
    "        \"\"\"\n",
    "            Prints an analysis of the per-term change in\n",
    "            log likelihood from ll1 to ll2.\n",
    "        \"\"\"\n",
    "        print(\"Logl      before     after\")\n",
    "        for v1, v2, i in zip(ll1, ll2, range(len(ll1))):\n",
    "            if v1 > v2:\n",
    "                d = \">\"\n",
    "            elif v2 > v1:\n",
    "                d = \"<\"\n",
    "            else:\n",
    "                d = \"=\"\n",
    "            print(\"Term %02d: %7.3f %s %7.3f\" % (i, v1, d, v2))\n",
    "        print(\"Total    %7.3f   %7.3f\" % (sum(ll1), sum(ll2)))\n",
    "\n"
   ]
  },
  {
   "cell_type": "markdown",
   "metadata": {},
   "source": [
    "## Linear model"
   ]
  },
  {
   "cell_type": "code",
   "execution_count": 12,
   "metadata": {
    "collapsed": true
   },
   "outputs": [],
   "source": [
    "# Aalto University, School of Science\n",
    "# T-61.5140 Machine Learning: Advanced probabilistic Methods\n",
    "# Author: antti.kangasraasio@aalto.fi, 2016\n",
    "\n",
    "from numpy import outer, eye, ones, zeros, log, sqrt, exp, pi\n",
    "from numpy.linalg import inv, solve\n",
    "from numpy.random import multivariate_normal as mvnormal, normal, gamma, beta, binomial\n",
    "from scipy.special import gammaln\n",
    "\n",
    "class EM_algo_LM(EM_algo):\n",
    "    \"\"\"\n",
    "        A linear gaussian model.\n",
    "    \"\"\"\n",
    "\n",
    "    def reset(self):\n",
    "        \"\"\"\n",
    "            Reset priors and draw parameter estimates from prior.\n",
    "        \"\"\"\n",
    "        # priors\n",
    "        self.lbd_phi0       = self.h[\"lbd_phi0\"]\n",
    "        self.alpha_s20      = self.h[\"alpha_s20\"]\n",
    "        self.beta_s20       = self.h[\"beta_s20\"]\n",
    "        self.sigma_phi0     = eye(self.pdata) * self.h[\"lbd_phi0\"]\n",
    "        self.sigma_phi0_inv = eye(self.pdata) / self.h[\"lbd_phi0\"]\n",
    "        self.mu_phi0        = ones(self.pdata) * self.h[\"mu_phi0\"]\n",
    "\n",
    "        # initial parameter estimates drawn from prior\n",
    "        self.p           = dict()\n",
    "        self.p[\"sigma2\"] = 1.0 / gamma(self.alpha_s20, 1.0 / self.beta_s20) # inverse gamma\n",
    "        self.p[\"phi\"]    = mvnormal(self.mu_phi0, self.p[\"sigma2\"] * self.sigma_phi0)\n",
    "\n",
    "\n",
    "    def draw(self, item):\n",
    "        \"\"\"\n",
    "            Draw a data sample from the current predictive distribution.\n",
    "            Returns the y-value (and a constant z-value for compatibility)\n",
    "        \"\"\"\n",
    "        mean = float(item.dot(self.p[\"phi\"]))\n",
    "        std  = sqrt(self.p[\"sigma2\"])\n",
    "        return normal(mean, std), 1\n",
    "\n",
    "\n",
    "    def logl(self):\n",
    "        \"\"\"\n",
    "            Calculates the full log likelihood for this model.\n",
    "            Returns the logl (and the values of each term for debugging purposes)\n",
    "        \"\"\"\n",
    "        ll    = zeros(8)\n",
    "        phie  = self.p[\"phi\"] - self.mu_phi0\n",
    "        err   = (self.X.dot(self.p[\"phi\"]) - self.Y) ** 2\n",
    "        # p(y)\n",
    "        ll[0] = - 0.5 * log(2 * pi * self.p[\"sigma2\"]) * self.ndata\n",
    "        ll[1] = sum(- 0.5 * err / self.p[\"sigma2\"])\n",
    "        # p(phi)\n",
    "        ll[2] = - 0.5 * log(2 * pi * self.lbd_phi0 * self.p[\"sigma2\"]) * self.pdata\n",
    "        ll[3] = - 0.5 * phie.T.dot(phie) / (self.lbd_phi0 * self.p[\"sigma2\"])\n",
    "        # p(sigma2)\n",
    "        ll[4] = self.alpha_s20 * log(self.beta_s20)\n",
    "        ll[5] = - gammaln(self.alpha_s20)\n",
    "        ll[6] = - (self.alpha_s20 + 1.0) * log(self.p[\"sigma2\"])\n",
    "        ll[7] = - self.beta_s20 / self.p[\"sigma2\"]\n",
    "        return sum(ll), ll\n",
    "\n",
    "\n",
    "    def EM_iter(self):\n",
    "        \"\"\"\n",
    "            Executes a single round of EM updates for this model.\n",
    "\n",
    "            Has checks to make sure that updates increase logl and\n",
    "            that parameter values stay in sensible limits.\n",
    "        \"\"\"\n",
    "        # phi\n",
    "        sumxx         = self.X.T.dot(self.X)\n",
    "        sumxy         = self.X.T.dot(self.Y)\n",
    "        sigma_mu      = self.sigma_phi0_inv.dot(self.mu_phi0)\n",
    "        sigma_phi_inv = self.sigma_phi0_inv + sumxx\n",
    "        self.p[\"phi\"] = solve(sigma_phi_inv, sigma_mu + sumxy)\n",
    "        self.assert_logl_increased(\"phi update\")\n",
    "\n",
    "        # sigma2\n",
    "        phie = (self.p[\"phi\"] - self.mu_phi0) ** 2\n",
    "        err  = (self.X.dot(self.p[\"phi\"]) - self.Y) ** 2\n",
    "        num  = self.beta_s20 + 0.5 * sum(err) + 0.5 * sum(phie) / self.lbd_phi0\n",
    "        den  = self.alpha_s20 + 1.0 + 0.5 * (self.ndata + self.pdata)\n",
    "        self.p[\"sigma2\"] = num / den\n",
    "        if self.p[\"sigma2\"] < 0.0:\n",
    "            raise ValueError(\"sigma2 < 0.0\")\n",
    "        self.assert_logl_increased(\"sigma2 update\")\n",
    "\n",
    "\n",
    "    def print_p(self):\n",
    "        \"\"\"\n",
    "            Prints the model parameters, one at each line.\n",
    "        \"\"\"\n",
    "        print(\"phi    : %s\" % (self.pretty_vector(self.p[\"phi\"])))\n",
    "        print(\"sigma2 : %.3f\" % (self.p[\"sigma2\"]))\n",
    "\n"
   ]
  },
  {
   "cell_type": "markdown",
   "metadata": {},
   "source": [
    "## Generator"
   ]
  },
  {
   "cell_type": "code",
   "execution_count": 13,
   "metadata": {
    "collapsed": true
   },
   "outputs": [],
   "source": [
    "# Aalto University, School of Science\n",
    "# T-61.5140 Machine Learning: Advanced probabilistic Methods\n",
    "# Author: antti.kangasraasio@aalto.fi, 2016\n",
    "\n",
    "from numpy import zeros\n",
    "from numpy.random import randn\n",
    "\n",
    "\n",
    "def generate_X(ndata, pdata):\n",
    "    \"\"\"\n",
    "        Return a matrix of normally distributed random values.\n",
    "    \"\"\"\n",
    "    X = randn(ndata, pdata)\n",
    "    return X\n",
    "\n",
    "\n",
    "def generate_YZ(X, distribution):\n",
    "    \"\"\"\n",
    "        Draw observations Y and latent variable values Z from a distribution.\n",
    "    \"\"\"\n",
    "    ndata = len(X)\n",
    "    Y = zeros(ndata)\n",
    "    Z = zeros(ndata)\n",
    "    for i in range(ndata):\n",
    "        Y[i], Z[i] = distribution.draw(X[i])\n",
    "    return Y, Z\n",
    "\n",
    "\n",
    "def get_hyperp():\n",
    "    \"\"\"\n",
    "        Return model hyperparameters.\n",
    "    \"\"\"\n",
    "    return {\n",
    "            \"alpha_s20\": 5.0,\n",
    "            \"beta_s20\" : 1.0,\n",
    "            \"lbd_phi0\" : 1.0,\n",
    "            \"mu_phi0\"  : 0.0,\n",
    "            \"alpha_w0\" : 3.0,\n",
    "            \"beta_w0\"  : 3.0,\n",
    "            }\n"
   ]
  },
  {
   "cell_type": "markdown",
   "metadata": {},
   "source": [
    "## Mixture model"
   ]
  },
  {
   "cell_type": "markdown",
   "metadata": {},
   "source": [
    "Note that for responsibilities \n",
    "$$\\gamma_1 =  \\frac{ w_S \\mathcal{N}(y_t \\ | \\ x_t \\phi_{1_S}, \\sigma_{1_S}^2)}{ w_S \\mathcal{N}(y_t \\ | \\ x_t \\phi_{1_S} , \\sigma_{1_S}^2) \\; + \\; (1 - w_S) \\mathcal{N}(y_t \\ | \\ x_t \\phi_{2_S}, \\sigma_{2_S}^2)} $$\n",
    "$$\\gamma_2 =  \\frac{ (1 - w_S) \\mathcal{N}(y_t \\ | \\ x_t \\phi_{2_S}, \\sigma_{2_S}^2)}{ w_S \\mathcal{N}(y_t \\ | \\ x_t \\phi_{1_S} , \\sigma_{1_S}^2) \\; + \\; (1 - w_S) \\mathcal{N}(y_t \\ | \\ x_t \\phi_{2_S}, \\sigma_{2_S}^2)} $$\n",
    "\n",
    "If we only need to know whether $\\gamma_1 > \\gamma_2$, then we need to only compute\n",
    "\n",
    "$$ w_S \\mathcal{N}(y_t \\ | \\ x_t \\phi_{1_S}, \\sigma_{1_S}^2) > (1 - w_S) \\mathcal{N}(y_t \\ | \\ x_t \\phi_{2_S}, \\sigma_{2_S}^2)$$"
   ]
  },
  {
   "cell_type": "code",
   "execution_count": 60,
   "metadata": {
    "collapsed": false
   },
   "outputs": [],
   "source": [
    "from numpy import outer, eye, ones, zeros, diag, log, sqrt, exp, pi\n",
    "from numpy.linalg import inv, solve\n",
    "from numpy.random import multivariate_normal as mvnormal, normal, gamma, beta, binomial\n",
    "from scipy.special import gammaln\n",
    "from scipy.stats import norm, multivariate_normal\n",
    "import numpy as np\n",
    "\n",
    "class EM_algo_MM(EM_algo):\n",
    "    \"\"\"\n",
    "        A mixture of two linear models.\n",
    "    \"\"\"\n",
    "\n",
    "    def reset(self):\n",
    "        \"\"\"\n",
    "            Reset priors and draw parameter estimates from prior.\n",
    "        \"\"\"\n",
    "        # priors\n",
    "        self.alpha_w0       = self.h[\"alpha_w0\"]\n",
    "        self.beta_w0        = self.h[\"beta_w0\"]\n",
    "\n",
    "        # Same priors for phi1 and phi2, s2_1, s2_2, don't bother to copy vars twice\n",
    "        # i.e. alpha_s2_1_0 = alpha_s2_2_0 = alpha_s20\n",
    "        self.lbd_phi0       = self.h[\"lbd_phi0\"]\n",
    "        self.alpha_s20      = self.h[\"alpha_s20\"]\n",
    "        self.beta_s20       = self.h[\"beta_s20\"]\n",
    "        self.sigma_phi0     = eye(self.pdata) * self.h[\"lbd_phi0\"]\n",
    "        self.sigma_phi0_inv = eye(self.pdata) / self.h[\"lbd_phi0\"]\n",
    "        self.mu_phi0        = ones(self.pdata) * self.h[\"mu_phi0\"]\n",
    "        \n",
    "        # Precalculations:\n",
    "        self.w_gamma_ln_multiplier  = gammaln(self.alpha_w0 + self.beta_w0)\n",
    "        self.w_gamma_ln_multiplier -= gammaln(self.alpha_w0)\n",
    "        self.w_gamma_ln_multiplier -= gammaln(self.beta_w0)\n",
    "        \n",
    "        \n",
    "        # initial parameter estimates drawn from prior\n",
    "        self.p             = dict()\n",
    "        # Weights\n",
    "        self.p[\"w\"]        = beta(self.alpha_w0, self.beta_w0)\n",
    "        # Responsibilities (TODO: do we need this here?)\n",
    "        self.p[\"gamma\"]    = binomial(1, self.p[\"w\"], self.ndata)\n",
    "        # Component 1\n",
    "        self.p[\"sigma2_1\"] = 1.0 / gamma(self.alpha_s20, 1.0 / self.beta_s20) # inverse gamma\n",
    "        self.p[\"phi_1\"]    = mvnormal(self.mu_phi0, self.p[\"sigma2_1\"] * self.sigma_phi0)\n",
    "        # Component 2\n",
    "        self.p[\"sigma2_2\"] = 1.0 / gamma(self.alpha_s20, 1.0 / self.beta_s20) # inverse gamma\n",
    "        self.p[\"phi_2\"]    = mvnormal(self.mu_phi0, self.p[\"sigma2_2\"] * self.sigma_phi0)\n",
    "        \n",
    "        print(\"START w\", self.p[\"w\"])\n",
    "        print(\"START phi_1\", self.p[\"phi_1\"])\n",
    "        print(\"START sigma2_1\", self.p[\"sigma2_1\"])\n",
    "        print(\"START phi_2\", self.p[\"phi_2\"])\n",
    "        print(\"START sigma2_2\", self.p[\"sigma2_2\"])\n",
    "\n",
    "\n",
    "    def draw(self, item):\n",
    "        \"\"\"\n",
    "            Draw a data sample from the current predictive distribution.\n",
    "            Returns the y-value and z-value\n",
    "        \"\"\"\n",
    "        mean1 = float(item.dot(self.p[\"phi_1\"]))\n",
    "        std1  = sqrt(self.p[\"sigma2_1\"])\n",
    "        mean2 = float(item.dot(self.p[\"phi_2\"]))\n",
    "        std2  = sqrt(self.p[\"sigma2_2\"])\n",
    "        \n",
    "#         print(\"mean1\", mean1, \"std1\", std1, \"mean2\", mean2, \"std2\", std2)\n",
    "        \n",
    "#         print(\"X shape\", X.shape)\n",
    "        \n",
    "        # Responsibilites for item (item is a data point)\n",
    "#         print(\"prob1\", multivariate_normal.pdf(item, mean=mean1, cov=std1))\n",
    "#         print(\"prob2\", multivariate_normal.pdf(item, mean=mean2, cov=std2))\n",
    "#         propto_gamma1 =      self.p[\"w\"]  * multivariate_normal.pdf(item, mean=mean1, cov=std1)\n",
    "#         propto_gamma2 = (1 - self.p[\"w\"]) * multivariate_normal.pdf(item, mean=mean2, cov=std2)\n",
    "        propto_gamma1 =      self.p[\"w\"]  * norm.pdf(item.dot(self.p[\"phi_1\"]), mean1, std1)\n",
    "        propto_gamma2 = (1 - self.p[\"w\"]) * norm.pdf(item.dot(self.p[\"phi_2\"]), mean2, std2) # IS THIS CORRECT??? item dot phi\n",
    "#         print(\"propto_gamma1\", propto_gamma1)\n",
    "#         print(\"propto_gamma2\", propto_gamma2)\n",
    "        \n",
    "        if (propto_gamma1 > propto_gamma2):\n",
    "#             return mvnormal(mean1, std1), 1\n",
    "            return normal(mean1, std1), 1\n",
    "        else:\n",
    "#             return mvnormal(mean2, std2), 2\n",
    "            return normal(mean2, std2), 2\n",
    "\n",
    "\n",
    "    def logl(self):\n",
    "        \"\"\"\n",
    "            Calculates the full log likelihood for this model.\n",
    "            Returns the logl (and the values of each term for debugging purposes)\n",
    "        \"\"\"\n",
    "        ll         = zeros(20)\n",
    "        phi_1_diff = self.p[\"phi_1\"] - self.mu_phi0\n",
    "        phi_2_diff = self.p[\"phi_2\"] - self.mu_phi0\n",
    "        phi_1_err  = phi_1_diff.T.dot(phi_1_diff)\n",
    "        phi_2_err  = phi_2_diff.T.dot(phi_2_diff)\n",
    "        err_1      = (self.X.dot(self.p[\"phi_1\"]) - Y) ** 2\n",
    "        err_2      = (self.X.dot(self.p[\"phi_2\"]) - Y) ** 2\n",
    "        \n",
    "        \n",
    "        # Responsibilities\n",
    "#         mean1 = float(item.dot(self.p[\"phi_1\"]))\n",
    "#         std1  = sqrt(self.p[\"sigma2_1\"])\n",
    "#         mean2 = float(item.dot(self.p[\"phi_2\"]))\n",
    "#         std2  = sqrt(self.p[\"sigma2_2\"])\n",
    "#         # data is 1 dimensional, and norm.pdf works on a vector returning probability for each separately\n",
    "#         propto_gamma1 = self.p[\"w\"] * norm.pdf(self.X, mean1, std1)\n",
    "#         propto_gamma2 = (1 - self.p[\"w\"]) * norm.pdf(self.X, mean2, std2)\n",
    "#         # elementwise, works because numpy\n",
    "#         gamma = propto_gamma1 / (propto_gamma1 + propto_gamma2)\n",
    "        gamma = self.p[\"gamma\"]\n",
    "        \n",
    "        ### posterior factorizes p(y,z,w,phi,sigma) = p(y)p(z)p(w)p(phi)p(sigma)\n",
    "        \n",
    "        ### p(y)\n",
    "#         ll[0] = self.p[\"w\"]       * (-0.5 * log(2 * pi * self.p[\"sigma2_1\"]) * self.ndata)\n",
    "#         ll[1] = self.p[\"w\"]       * np.sum(- 0.5 * err_1 / self.p[\"sigma2_1\"])\n",
    "#         ll[2] = (1 - self.p[\"w\"]) * (-0.5 * log(2 * pi * self.p[\"sigma2_2\"]) * self.ndata)\n",
    "#         ll[3] = (1 - self.p[\"w\"]) * np.sum(- 0.5 * err_2 / self.p[\"sigma2_2\"])\n",
    "\n",
    "#         ll[0] = gamma.dot(-0.5 * log(2 * pi * self.p[\"sigma2_1\"]) -0.5 * err_1 / self.p[\"sigma2_1\"])\n",
    "#         ll[1] = 0\n",
    "#         ll[2] = (1 - gamma).dot(-0.5 * log(2 * pi * self.p[\"sigma2_2\"]) -0.5 * err_2 / self.p[\"sigma2_2\"])\n",
    "#         ll[3] = 0\n",
    "\n",
    "        ll[0] = -0.5 * log(2 * pi * self.p[\"sigma2_1\"]) * np.sum(gamma)\n",
    "        ll[1] = gamma.dot(-0.5 * err_1 / self.p[\"sigma2_1\"])\n",
    "        ll[2] = -0.5 * log(2 * pi * self.p[\"sigma2_2\"]) * np.sum(1 - gamma)\n",
    "        ll[3] = (1 - gamma).dot(-0.5 * err_2 / self.p[\"sigma2_2\"])\n",
    " \n",
    "        \n",
    "        ### p(z)\n",
    "        ll[4] = np.sum((gamma * log(self.p[\"w\"])) + ((1 - gamma) * log(1 - self.p[\"w\"])))\n",
    "#         ll[4] = 0\n",
    "        \n",
    "        ### p(w)\n",
    "        ll[5] = self.w_gamma_ln_multiplier\n",
    "        ll[6] = (self.alpha_w0 - 1) * self.p[\"w\"]\n",
    "        ll[7] = (self.beta_w0  - 1) * (1 - self.p[\"w\"])\n",
    "        \n",
    "        ### p(phi)\n",
    "        # phi_1\n",
    "        ll[8]  = - 0.5 * log(2 * pi * self.lbd_phi0 * self.p[\"sigma2_1\"]) * self.pdata\n",
    "        ll[9]  = - 0.5 * phi_1_err / (self.lbd_phi0 * self.p[\"sigma2_1\"])\n",
    "        # phi_2\n",
    "        ll[10] = - 0.5 * log(2 * pi * self.lbd_phi0 * self.p[\"sigma2_2\"]) * self.pdata\n",
    "        ll[11] = - 0.5 * phi_2_err / (self.lbd_phi0 * self.p[\"sigma2_2\"])\n",
    "        \n",
    "        ### p(sigma2)\n",
    "        # sigma2_1\n",
    "        ll[12] = self.alpha_s20 * log(self.beta_s20)\n",
    "        ll[13] = - gammaln(self.alpha_s20)\n",
    "        ll[14] = - (self.alpha_s20 + 1.0) * log(self.p[\"sigma2_1\"])\n",
    "        ll[15] = - self.beta_s20 / self.p[\"sigma2_1\"]\n",
    "        # sigma2_2\n",
    "        ll[16] = self.alpha_s20 * log(self.beta_s20)\n",
    "        ll[17] = - gammaln(self.alpha_s20)\n",
    "        ll[18] = - (self.alpha_s20 + 1.0) * log(self.p[\"sigma2_2\"])\n",
    "        ll[19] = - self.beta_s20 / self.p[\"sigma2_2\"]\n",
    "        \n",
    "        return np.sum(ll), ll\n",
    "\n",
    "\n",
    "    def EM_iter(self):\n",
    "        \"\"\"\n",
    "            Executes a single round of EM updates for this model.\n",
    "\n",
    "            Has checks to make sure that updates increase logl and\n",
    "            that parameter values stay in sensible limits.\n",
    "        \"\"\"\n",
    "        \n",
    "        Y = self.Y.view()\n",
    "        # set Y view shape\n",
    "        Y.shape = (self.ndata, 1)\n",
    "        \n",
    "        # TODO REMOVE\n",
    "        # if possible, plot samples, true model and estimated model\n",
    "        if self.pdata == 1:\n",
    "            plt.figure(figsize=(20,10))\n",
    "            plt.scatter(self.X, self.Y, s=20, c='black', label=\"Training data\")\n",
    "    #         plt.scatter(X_v, Y_v, s=20, c='orange', label=\"Validation data\")\n",
    "            x = arange(min(self.X)-0.1, max(self.X)+0.1, 0.1)\n",
    "    #         print_linear_model(x, true_model.get_p()[\"phi\"], \\\n",
    "    #                 true_model.get_p()[\"sigma2\"], 'red', \"True model\")\n",
    "    #         print_linear_model(x, model.get_p()[\"phi\"], \\\n",
    "    #                 model.get_p()[\"sigma2\"], 'blue', \"Predicted model\")\n",
    "            y = self.p[\"phi_1\"] * x\n",
    "            color = 'red'\n",
    "            plt.plot(x, y, color, label=\"component1\")\n",
    "            plt.fill_between(x, y + 1.96 * sqrt(self.p[\"sigma2_1\"]), y - 1.96 * sqrt(self.p[\"sigma2_1\"]), alpha=0.25, facecolor=color, interpolate=True)\n",
    "            \n",
    "            y = self.p[\"phi_2\"] * x\n",
    "            color = 'blue'\n",
    "            plt.plot(x, y, color, label=\"component2\")\n",
    "            plt.fill_between(x, y + 1.96 * sqrt(self.p[\"sigma2_2\"]), y - 1.96 * sqrt(self.p[\"sigma2_2\"]), alpha=0.25, facecolor=color, interpolate=True)\n",
    "\n",
    "            plt.legend(loc=1)\n",
    "            plt.xlim(min(x), max(x))\n",
    "            plt.xlabel(\"x\")\n",
    "            plt.ylabel(\"y\")\n",
    "            plt.show()\n",
    "            input(\"Press Enter to continue...\")\n",
    "\n",
    "        # ==================== E-STEP ====================\n",
    "\n",
    "        # ========== Responsibilities gamma ==========\n",
    "        mean1 = np.mean(self.X.dot(self.p[\"phi_1\"]))\n",
    "        std1  = sqrt(self.p[\"sigma2_1\"])\n",
    "        mean2 = np.mean(self.X.dot(self.p[\"phi_2\"]))\n",
    "        std2  = sqrt(self.p[\"sigma2_2\"])\n",
    "        print(\"mean1\", mean1, \"std1\", std1, \"mean2\", mean2, \"std2\", std2)\n",
    "        \n",
    "        # data is 1 dimensional, and norm.pdf works on a vector returning probability for each separately\n",
    "#         propto_gamma1 =      self.p[\"w\"]  * norm.pdf(self.X.dot(self.p[\"phi_1\"]), mean1, std1)\n",
    "#         propto_gamma2 = (1 - self.p[\"w\"]) * norm.pdf(self.X.dot(self.p[\"phi_2\"]), mean2, std2)\n",
    "        propto_gamma1 =      self.p[\"w\"]  * norm.pdf(self.Y, self.X.dot(self.p[\"phi_1\"]), std1)\n",
    "        propto_gamma2 = (1 - self.p[\"w\"]) * norm.pdf(self.Y, self.X.dot(self.p[\"phi_2\"]), std2)\n",
    "        \n",
    "        # elementwise, works because numpy\n",
    "        gamma = propto_gamma1 / (propto_gamma1 + propto_gamma2)\n",
    "        self.p[\"gamma\"] = gamma\n",
    "        sum_gamma = np.sum(gamma)\n",
    "        print(\"sum gamma\", sum_gamma, \"sum gamma+(1-gamma)\", np.sum(gamma+(1-gamma)))\n",
    "        \n",
    "\n",
    "        # ==================== M-STEP ====================\n",
    "\n",
    "        # ========== Weights w ==========\n",
    "        num = sum_gamma + self.alpha_w0 - 1\n",
    "        den = self.ndata + self.alpha_w0 + self.beta_w0 - 2\n",
    "        print(\"w num\", num, \"den\", den)\n",
    "        self.p[\"w\"] = num / den\n",
    "        print(\"w\", self.p[\"w\"])\n",
    "        \n",
    "        print(\"W LL DEBUG\")\n",
    "        newlogl, ll = self.logl()\n",
    "        self.debug_logl(self.cll, ll)\n",
    "#         self.assert_logl_increased(\"w update\")\n",
    "        \n",
    "        \n",
    "        # ========== Variables phi ==========\n",
    "        \n",
    "        # phi_1\n",
    "        \n",
    "#         sum_gammaxx   = sum(np.multiply(gamma, np.multiply(self.X, self.X)))\n",
    "#         sum_gammaxy   = sum(np.multiply(gamma, np.multiply(self.X, self.Y)))\n",
    "#         sum_gammaxx   = np.dot(gamma, np.multiply(self.X, self.X))\n",
    "\n",
    "#         print(\"Y SHAPE\", Y.shape)\n",
    "#         print(\"X SHAPE\", self.X.shape)\n",
    "#         tsup = Y * self.X\n",
    "#         print(\"tsup SHAPE\", tsup.shape)\n",
    "        \n",
    "#         print(\"gamma shape\", gamma.shape)\n",
    "#         print(\"gamma.T shape\", gamma.T.shape)\n",
    "\n",
    "        sum_gammayx = gamma.T.dot(Y * self.X)\n",
    "        sum_gammaxx = gamma.T.dot((self.X * self.X))\n",
    "        \n",
    "#         print(\"sum_gammayx, sum_gammaxx SHAPES\", sum_gammayx.shape, sum_gammaxx.shape)\n",
    "        \n",
    "        sigma_mu        = self.sigma_phi0_inv.dot(self.mu_phi0)\n",
    "        sigma_phi_inv   = self.sigma_phi0_inv + sum_gammaxx\n",
    "        self.p[\"phi_1\"] = solve(sigma_phi_inv, sigma_mu + sum_gammayx)\n",
    "        print(\"phi_1\", self.p[\"phi_1\"])\n",
    "        \n",
    "        \n",
    "        # phi_2\n",
    "        sum_gammayx = (1-gamma).T.dot(Y * self.X)\n",
    "        sum_gammaxx = (1-gamma).T.dot((self.X * self.X))\n",
    "        \n",
    "#         print(\"sum_gammayx, sum_gammaxx SHAPES\", sum_gammayx.shape, sum_gammaxx.shape)\n",
    "        \n",
    "        sigma_mu        = self.sigma_phi0_inv.dot(self.mu_phi0)\n",
    "        sigma_phi_inv   = self.sigma_phi0_inv + sum_gammaxx\n",
    "        self.p[\"phi_2\"] = solve(sigma_phi_inv, sigma_mu + sum_gammayx)\n",
    "        print(\"phi_2\", self.p[\"phi_2\"])\n",
    "        \n",
    "        print(\"PHI LL DEBUG\")\n",
    "        newlogl, ll = self.logl()\n",
    "        self.debug_logl(self.cll, ll)\n",
    "#         self.assert_logl_increased(\"phi update\")\n",
    "\n",
    "\n",
    "        # ========== Variances sigma2 ==========\n",
    "        \n",
    "        # sigma2_1\n",
    "        phie = np.sum((self.p[\"phi_1\"] - self.mu_phi0) ** 2)  / self.lbd_phi0\n",
    "        print('phie', phie)\n",
    "        err  = (Y - self.X.dot(self.p[\"phi_1\"])) ** 2\n",
    "        print('sum gamma*err', np.sum(gamma * err))\n",
    "        num = 2*self.beta_s20 + np.sum(gamma * err) + phie\n",
    "        den = 2*self.alpha_s20 + 2.0 + np.sum(gamma) + self.pdata\n",
    "        self.p[\"sigma2_1\"] = num / den\n",
    "        print('sigma2_1', self.p[\"sigma2_1\"])\n",
    "        if self.p[\"sigma2_1\"] < 0.0:\n",
    "            raise ValueError(\"sigma2_1 < 0.0\")\n",
    "        \n",
    "        # sigma2_2\n",
    "        phie = np.sum((self.p[\"phi_2\"] - self.mu_phi0) ** 2)  / self.lbd_phi0\n",
    "        print('phie', phie)\n",
    "        err  = (Y - self.X.dot(self.p[\"phi_2\"])) ** 2\n",
    "        print('sum (1-gamma)*err', np.sum((1-gamma) * err))\n",
    "#         print('sum gamma*err', np.sum(gamma * err))\n",
    "        num = 2*self.beta_s20 + np.sum((1-gamma) * err) + phie\n",
    "        den = 2*self.alpha_s20 + 2.0 + np.sum(1-gamma) + self.pdata\n",
    "        self.p[\"sigma2_2\"] = num / den\n",
    "        print('sigma2_2', self.p[\"sigma2_2\"])\n",
    "        if self.p[\"sigma2_2\"] < 0.0:\n",
    "            raise ValueError(\"sigma2_2 < 0.0\")\n",
    "        \n",
    "        print(\"SIGMA LL DEBUG\")\n",
    "        newlogl, ll = self.logl()\n",
    "        self.debug_logl(self.cll, ll)\n",
    "        \n",
    "        # if possible, plot samples, true model and estimated model\n",
    "        if self.pdata == 1:\n",
    "            plt.figure(figsize=(20,10))\n",
    "            plt.scatter(self.X, self.Y, s=20, c='black', label=\"Training data\")\n",
    "    #         plt.scatter(X_v, Y_v, s=20, c='orange', label=\"Validation data\")\n",
    "            x = arange(min(self.X)-0.1, max(self.X)+0.1, 0.1)\n",
    "    #         print_linear_model(x, true_model.get_p()[\"phi\"], \\\n",
    "    #                 true_model.get_p()[\"sigma2\"], 'red', \"True model\")\n",
    "    #         print_linear_model(x, model.get_p()[\"phi\"], \\\n",
    "    #                 model.get_p()[\"sigma2\"], 'blue', \"Predicted model\")\n",
    "            y = self.p[\"phi_1\"] * x\n",
    "            color = 'red'\n",
    "            plt.plot(x, y, color, label=\"component1\")\n",
    "            plt.fill_between(x, y + 1.96 * sqrt(self.p[\"sigma2_1\"]), y - 1.96 * sqrt(self.p[\"sigma2_1\"]), alpha=0.25, facecolor=color, interpolate=True)\n",
    "            \n",
    "            y = self.p[\"phi_2\"] * x\n",
    "            color = 'blue'\n",
    "            plt.plot(x, y, color, label=\"component2\")\n",
    "            plt.fill_between(x, y + 1.96 * sqrt(self.p[\"sigma2_2\"]), y - 1.96 * sqrt(self.p[\"sigma2_2\"]), alpha=0.25, facecolor=color, interpolate=True)\n",
    "\n",
    "            plt.legend(loc=1)\n",
    "            plt.xlim(min(x), max(x))\n",
    "            plt.xlabel(\"x\")\n",
    "            plt.ylabel(\"y\")\n",
    "            plt.show()\n",
    "            input(\"Press Enter to continue...\")\n",
    "        \n",
    "        self.assert_logl_increased(\"sigma2 update\")\n"
   ]
  },
  {
   "cell_type": "code",
   "execution_count": 61,
   "metadata": {
    "collapsed": false
   },
   "outputs": [
    {
     "name": "stdout",
     "output_type": "stream",
     "text": [
      "START w 0.37592919331116076\n",
      "START phi_1 [-0.56743819]\n",
      "START sigma2_1 0.29868671334772023\n",
      "START phi_2 [ 0.08343536]\n",
      "START sigma2_2 0.18034113836796606\n",
      "Generated 50 training data and 50 validation data from true model:\n",
      "w = 0.37592919331116076\n",
      "sigma2_1 = 0.29868671334772023\n",
      "gamma = [0 1 0 1 0 0 1 0 1 0 1 1 0 0 0 1 0 1 0 0 1 0 0 0 1 0 0 1 0 1 0 0 0 1 1 1 1\n",
      " 0 0 1 1 1 1 1 1 0 1 0 1 0]\n",
      "phi_2 = [ 0.08343536]\n",
      "phi_1 = [-0.56743819]\n",
      "sigma2_2 = 0.18034113836796606\n",
      "\n"
     ]
    }
   ],
   "source": [
    "# get hyperparameters for model\n",
    "hyperp = get_hyperp()\n",
    "# generate 50 training data and 20 validation data locations of dim=1\n",
    "ndata = 50\n",
    "ndata_v = 50\n",
    "pdata = 1\n",
    "X = generate_X(ndata, pdata)\n",
    "X_v = generate_X(ndata_v, pdata)\n",
    "\n",
    "true_model = EM_algo_MM(hyperp, ndata=ndata, pdata=pdata)\n",
    "Y, Z = generate_YZ(X, true_model)\n",
    "Y_v, Z_v = generate_YZ(X_v, true_model)\n",
    "print(\"Generated %d training data and %d validation data from true model:\" % \\\n",
    "    (ndata, ndata_v))\n",
    "true_model.print_p()\n",
    "print(\"\")"
   ]
  },
  {
   "cell_type": "code",
   "execution_count": null,
   "metadata": {
    "collapsed": false
   },
   "outputs": [
    {
     "name": "stdout",
     "output_type": "stream",
     "text": [
      "START w 0.2150171346185789\n",
      "START phi_1 [ 0.37235774]\n",
      "START sigma2_1 0.23661816856853746\n",
      "START phi_2 [ 0.14983351]\n",
      "START sigma2_2 0.27986017625824844\n"
     ]
    },
    {
     "data": {
      "image/png": "[encoded data removed]",
      "text/plain": [
       "<matplotlib.figure.Figure at 0x116dc9710>"
      ]
     },
     "metadata": {},
     "output_type": "display_data"
    },
    {
     "name": "stdout",
     "output_type": "stream",
     "text": [
      "Press Enter to continue...\n",
      "mean1 -0.0492150534472 std1 0.4864341359 mean2 -0.0198037088417 std2 0.529018124697\n",
      "sum gamma 9.79063870275 sum gamma+(1-gamma) 50.0\n",
      "w num 11.7906387028 den 54.0\n",
      "w 0.218345161162\n",
      "W LL DEBUG\n",
      "Logl      before     after\n",
      "Term 00:  -2.776 <  -1.941\n",
      "Term 01:  -6.055 <  -3.928\n",
      "Term 02: -10.159 > -11.347\n",
      "Term 03: -16.055 > -16.993\n",
      "Term 04: -30.234 < -24.803\n",
      "Term 05:   3.401 =   3.401\n",
      "Term 06:   0.430 <   0.437\n",
      "Term 07:   1.570 >   1.563\n",
      "Term 08:  -0.198 =  -0.198\n",
      "Term 09:  -0.293 =  -0.293\n",
      "Term 10:  -0.282 =  -0.282\n",
      "Term 11:  -0.040 =  -0.040\n",
      "Term 12:   0.000 =   0.000\n",
      "Term 13:  -3.178 =  -3.178\n",
      "Term 14:   8.648 =   8.648\n",
      "Term 15:  -4.226 =  -4.226\n",
      "Term 16:   0.000 =   0.000\n",
      "Term 17:  -3.178 =  -3.178\n",
      "Term 18:   7.641 =   7.641\n",
      "Term 19:  -3.573 =  -3.573\n",
      "Total    -58.558   -52.293\n",
      "phi_1 [ 0.17114416]\n",
      "phi_2 [-0.02471815]\n",
      "PHI LL DEBUG\n",
      "Logl      before     after\n",
      "Term 00:  -2.776 <  -1.941\n",
      "Term 01:  -6.055 <  -3.394\n",
      "Term 02: -10.159 > -11.347\n",
      "Term 03: -16.055 < -14.644\n",
      "Term 04: -30.234 < -24.803\n",
      "Term 05:   3.401 =   3.401\n",
      "Term 06:   0.430 <   0.437\n",
      "Term 07:   1.570 >   1.563\n",
      "Term 08:  -0.198 =  -0.198\n",
      "Term 09:  -0.293 <  -0.062\n",
      "Term 10:  -0.282 =  -0.282\n",
      "Term 11:  -0.040 <  -0.001\n",
      "Term 12:   0.000 =   0.000\n",
      "Term 13:  -3.178 =  -3.178\n",
      "Term 14:   8.648 =   8.648\n",
      "Term 15:  -4.226 =  -4.226\n",
      "Term 16:   0.000 =   0.000\n",
      "Term 17:  -3.178 =  -3.178\n",
      "Term 18:   7.641 =   7.641\n",
      "Term 19:  -3.573 =  -3.573\n",
      "Total    -58.558   -49.140\n",
      "phie 0.0292903228217\n",
      "sum gamma*err 110.638560608\n",
      "sigma2_1 4.94360216929\n",
      "phie 0.00061098696058\n",
      "sum (1-gamma)*err 408.496244059\n",
      "sigma2_2 7.71474877799\n",
      "SIGMA LL DEBUG\n",
      "Logl      before     after\n",
      "Term 00:  -2.776 > -16.820\n",
      "Term 01:  -6.055 <  -0.162\n",
      "Term 02: -10.159 > -78.026\n",
      "Term 03: -16.055 <  -0.531\n",
      "Term 04: -30.234 < -24.803\n",
      "Term 05:   3.401 =   3.401\n",
      "Term 06:   0.430 <   0.437\n",
      "Term 07:   1.570 >   1.563\n",
      "Term 08:  -0.198 >  -1.718\n",
      "Term 09:  -0.293 <  -0.003\n",
      "Term 10:  -0.282 >  -1.941\n",
      "Term 11:  -0.040 <  -0.000\n",
      "Term 12:   0.000 =   0.000\n",
      "Term 13:  -3.178 =  -3.178\n",
      "Term 14:   8.648 >  -9.589\n",
      "Term 15:  -4.226 <  -0.202\n",
      "Term 16:   0.000 =   0.000\n",
      "Term 17:  -3.178 =  -3.178\n",
      "Term 18:   7.641 > -12.259\n",
      "Term 19:  -3.573 <  -0.130\n",
      "Total    -58.558   -147.139\n"
     ]
    },
    {
     "data": {
      "image/png": "[encoded data removed]",
      "text/plain": [
       "<matplotlib.figure.Figure at 0x1153c8c50>"
      ]
     },
     "metadata": {},
     "output_type": "display_data"
    }
   ],
   "source": [
    "# generate a model for estimating the parameters of the\n",
    "# true model based on the observations (X, Y) we just made\n",
    "model = EM_algo_MM(hyperp, X, Y)\n",
    "i, logl, r = model.EM_fit()\n",
    "print(\"Model fit (logl %.2f) after %d iterations (%s reached)\" % \\\n",
    "        (logl, i, r))\n",
    "print(\"\")\n",
    "print(\"MAP estimate of true model parameters:\")\n",
    "model.print_p()\n",
    "print(\"\")"
   ]
  },
  {
   "cell_type": "markdown",
   "metadata": {},
   "source": [
    "## Main"
   ]
  },
  {
   "cell_type": "code",
   "execution_count": 52,
   "metadata": {
    "collapsed": false
   },
   "outputs": [
    {
     "name": "stdout",
     "output_type": "stream",
     "text": [
      "Starting program\n",
      "\n",
      "Generated 50 training data and 50 validation data from true model:\n",
      "phi    : (0.06)\n",
      "sigma2 : 0.307\n",
      "\n",
      "Model fit (logl -26.01) after 2 iterations (alim reached)\n",
      "\n",
      "MAP estimate of true model parameters:\n",
      "phi    : (0.21)\n",
      "sigma2 : 0.172\n",
      "\n",
      "Crossvalidated logl: -42.17\n"
     ]
    },
    {
     "name": "stderr",
     "output_type": "stream",
     "text": [
      "/Users/kuuranne/miniconda3/envs/python3/lib/python3.5/site-packages/ipykernel/__main__.py:17: FutureWarning: comparison to `None` will result in an elementwise object comparison in the future.\n",
      "/Users/kuuranne/miniconda3/envs/python3/lib/python3.5/site-packages/ipykernel/__main__.py:30: FutureWarning: comparison to `None` will result in an elementwise object comparison in the future.\n"
     ]
    },
    {
     "data": {
      "image/png": "[encoded data removed]",
      "text/plain": [
       "<matplotlib.figure.Figure at 0x1116ab390>"
      ]
     },
     "metadata": {},
     "output_type": "display_data"
    }
   ],
   "source": [
    "# Aalto University, School of Science\n",
    "# T-61.5140 Machine Learning: Advanced probabilistic Methods\n",
    "# Author: antti.kangasraasio@aalto.fi, 2016\n",
    "\n",
    "import matplotlib.pyplot as plt\n",
    "from numpy import arange, min, max, sqrt, mean, std\n",
    "from scipy.spatial.distance import cosine\n",
    "import numpy as np\n",
    "\n",
    "def main():\n",
    "    \"\"\"\n",
    "        Executed when program is run.\n",
    "    \"\"\"\n",
    "    print(\"Starting program\")\n",
    "    print(\"\")\n",
    "    test_LM_model()\n",
    "\n",
    "\n",
    "def test_LM_model():\n",
    "    \"\"\"\n",
    "        Example that demonstrates how to call the model.\n",
    "    \"\"\"\n",
    "    # get hyperparameters for model\n",
    "    hyperp = get_hyperp()\n",
    "    # generate 50 training data and 20 validation data locations of dim=1\n",
    "    ndata = 50\n",
    "    ndata_v = 50\n",
    "    pdata = 1\n",
    "    X = generate_X(ndata, pdata)\n",
    "    X_v = generate_X(ndata_v, pdata)\n",
    "    # intialize true model randomly and draw observations from it\n",
    "    true_model = EM_algo_LM(hyperp, ndata=ndata, pdata=pdata)\n",
    "    Y, Z = generate_YZ(X, true_model)\n",
    "    Y_v, Z_v = generate_YZ(X_v, true_model)\n",
    "    print(\"Generated %d training data and %d validation data from true model:\" % \\\n",
    "            (ndata, ndata_v))\n",
    "    true_model.print_p()\n",
    "    print(\"\")\n",
    "\n",
    "    # generate a model for estimating the parameters of the\n",
    "    # true model based on the observations (X, Y) we just made\n",
    "    model = EM_algo_LM(hyperp, X, Y)\n",
    "    i, logl, r = model.EM_fit()\n",
    "    print(\"Model fit (logl %.2f) after %d iterations (%s reached)\" % \\\n",
    "            (logl, i, r))\n",
    "    print(\"\")\n",
    "    print(\"MAP estimate of true model parameters:\")\n",
    "    model.print_p()\n",
    "    print(\"\")\n",
    "\n",
    "    # crossvalidate the estimated model with the validation data\n",
    "    fit_params = model.get_p()\n",
    "    model_v = EM_algo_LM(hyperp, X_v, Y_v)\n",
    "    model_v.set_p(fit_params)\n",
    "    logl, ll = model_v.logl()\n",
    "    print(\"Crossvalidated logl: %.2f\" % (logl))\n",
    "\n",
    "    # if possible, plot samples, true model and estimated model\n",
    "    if pdata != 1:\n",
    "        return\n",
    "    plt.figure(figsize=(20,10))\n",
    "    plt.scatter(X, Y, s=20, c='black', label=\"Training data\")\n",
    "    plt.scatter(X_v, Y_v, s=20, c='orange', label=\"Validation data\")\n",
    "    x = arange(min(X)-0.1, max(X)+0.1, 0.1)\n",
    "    print_linear_model(x, true_model.get_p()[\"phi\"], \\\n",
    "            true_model.get_p()[\"sigma2\"], 'red', \"True model\")\n",
    "    print_linear_model(x, model.get_p()[\"phi\"], \\\n",
    "            model.get_p()[\"sigma2\"], 'blue', \"Predicted model\")\n",
    "    plt.legend(loc=1)\n",
    "    plt.xlim(min(x), max(x))\n",
    "    plt.xlabel(\"x\")\n",
    "    plt.ylabel(\"y\")\n",
    "    plt.show()\n",
    "    \n",
    "\n",
    "\n",
    "def print_linear_model(x, phi, sigma2, color, label):\n",
    "    \"\"\"\n",
    "        Print linear model mean and 95% confidence interval.\n",
    "    \"\"\"\n",
    "    y = phi * x\n",
    "    plt.plot(x, y, color, label=label)\n",
    "    plt.fill_between(x, y + 1.96 * sqrt(sigma2), y - 1.96 * sqrt(sigma2), \\\n",
    "            alpha=0.25, facecolor=color, interpolate=True)\n",
    "\n",
    "\n",
    "if __name__ == \"__main__\":\n",
    "    main()\n",
    "\n"
   ]
  },
  {
   "cell_type": "code",
   "execution_count": 286,
   "metadata": {
    "collapsed": false
   },
   "outputs": [],
   "source": [
    "X = generate_X(10, 2)"
   ]
  },
  {
   "cell_type": "code",
   "execution_count": 287,
   "metadata": {
    "collapsed": false
   },
   "outputs": [
    {
     "data": {
      "text/plain": [
       "(10, 2)"
      ]
     },
     "execution_count": 287,
     "metadata": {},
     "output_type": "execute_result"
    }
   ],
   "source": [
    "X.shape"
   ]
  },
  {
   "cell_type": "code",
   "execution_count": 288,
   "metadata": {
    "collapsed": false
   },
   "outputs": [
    {
     "data": {
      "text/plain": [
       "array([[-0.91954461,  0.2400352 ],\n",
       "       [ 2.33650195,  1.81126434],\n",
       "       [-0.08133542,  0.06118832],\n",
       "       [-1.33545433, -0.86719239],\n",
       "       [ 1.66719011, -0.57531528],\n",
       "       [-0.30577782,  0.06323988],\n",
       "       [ 0.99608716, -0.33705257],\n",
       "       [-0.65754579, -0.1670884 ],\n",
       "       [ 1.05556896,  0.3179948 ],\n",
       "       [ 1.17714858,  1.69832692]])"
      ]
     },
     "execution_count": 288,
     "metadata": {},
     "output_type": "execute_result"
    }
   ],
   "source": [
    "X"
   ]
  },
  {
   "cell_type": "code",
   "execution_count": 289,
   "metadata": {
    "collapsed": false
   },
   "outputs": [
    {
     "data": {
      "text/plain": [
       "array([ 1.05556896,  0.3179948 ])"
      ]
     },
     "execution_count": 289,
     "metadata": {},
     "output_type": "execute_result"
    }
   ],
   "source": [
    "X[8,:]"
   ]
  },
  {
   "cell_type": "code",
   "execution_count": 290,
   "metadata": {
    "collapsed": false
   },
   "outputs": [
    {
     "data": {
      "text/plain": [
       "array([[ 0.26139576,  0.38761334],\n",
       "       [ 0.0260286 ,  0.07736059],\n",
       "       [ 0.39762487,  0.39819616],\n",
       "       [ 0.16354654,  0.2739116 ],\n",
       "       [ 0.09939038,  0.33809364],\n",
       "       [ 0.38072096,  0.39814534],\n",
       "       [ 0.24291751,  0.37691305],\n",
       "       [ 0.32138299,  0.39341203],\n",
       "       [ 0.2285383 ,  0.37927305],\n",
       "       [ 0.19953255,  0.09431682]])"
      ]
     },
     "execution_count": 290,
     "metadata": {},
     "output_type": "execute_result"
    }
   ],
   "source": [
    "norm.pdf(X, 0, 1)"
   ]
  },
  {
   "cell_type": "code",
   "execution_count": 642,
   "metadata": {
    "collapsed": false
   },
   "outputs": [
    {
     "name": "stdout",
     "output_type": "stream",
     "text": [
      "Press Enter to continue...\n"
     ]
    },
    {
     "data": {
      "text/plain": [
       "''"
      ]
     },
     "execution_count": 642,
     "metadata": {},
     "output_type": "execute_result"
    }
   ],
   "source": [
    "input(\"Press Enter to continue...\")"
   ]
  },
  {
   "cell_type": "code",
   "execution_count": 291,
   "metadata": {
    "collapsed": false
   },
   "outputs": [],
   "source": [
    "p_1 = np.array([0.3, 0.2])\n",
    "p_2 = np.array([0.2, 0.8])\n",
    "asd = p_1 / (p_1 + p_2)"
   ]
  },
  {
   "cell_type": "code",
   "execution_count": 292,
   "metadata": {
    "collapsed": false
   },
   "outputs": [
    {
     "data": {
      "text/plain": [
       "array([ 0.6,  0.2])"
      ]
     },
     "execution_count": 292,
     "metadata": {},
     "output_type": "execute_result"
    }
   ],
   "source": [
    "asd"
   ]
  },
  {
   "cell_type": "code",
   "execution_count": 293,
   "metadata": {
    "collapsed": false
   },
   "outputs": [
    {
     "data": {
      "text/plain": [
       "0.6"
      ]
     },
     "execution_count": 293,
     "metadata": {},
     "output_type": "execute_result"
    }
   ],
   "source": [
    "0.3 / (0.3+0.2)"
   ]
  },
  {
   "cell_type": "code",
   "execution_count": 294,
   "metadata": {
    "collapsed": false
   },
   "outputs": [
    {
     "data": {
      "text/plain": [
       "0.2"
      ]
     },
     "execution_count": 294,
     "metadata": {},
     "output_type": "execute_result"
    }
   ],
   "source": [
    "0.2 / (0.2+0.8)"
   ]
  },
  {
   "cell_type": "code",
   "execution_count": 295,
   "metadata": {
    "collapsed": false
   },
   "outputs": [
    {
     "data": {
      "text/plain": [
       "array([[ 14.892341  ,   6.29490444],\n",
       "       [  6.29490444,   7.55600699]])"
      ]
     },
     "execution_count": 295,
     "metadata": {},
     "output_type": "execute_result"
    }
   ],
   "source": [
    "X.T.dot(X)"
   ]
  },
  {
   "cell_type": "code",
   "execution_count": 296,
   "metadata": {
    "collapsed": false
   },
   "outputs": [
    {
     "data": {
      "text/plain": [
       "array([ 0.06,  0.16])"
      ]
     },
     "execution_count": 296,
     "metadata": {},
     "output_type": "execute_result"
    }
   ],
   "source": [
    "np.multiply(p_1, p_2)"
   ]
  },
  {
   "cell_type": "code",
   "execution_count": 297,
   "metadata": {
    "collapsed": false
   },
   "outputs": [],
   "source": [
    "true_model = EM_algo_LM(get_hyperp(), ndata=10, pdata=2)\n",
    "Y, Z = generate_YZ(X, true_model)"
   ]
  },
  {
   "cell_type": "code",
   "execution_count": 298,
   "metadata": {
    "collapsed": false
   },
   "outputs": [
    {
     "data": {
      "text/plain": [
       "(10,)"
      ]
     },
     "execution_count": 298,
     "metadata": {},
     "output_type": "execute_result"
    }
   ],
   "source": [
    "Y.shape"
   ]
  },
  {
   "cell_type": "code",
   "execution_count": 299,
   "metadata": {
    "collapsed": false
   },
   "outputs": [
    {
     "data": {
      "text/plain": [
       "(10, 2)"
      ]
     },
     "execution_count": 299,
     "metadata": {},
     "output_type": "execute_result"
    }
   ],
   "source": [
    "X.shape"
   ]
  },
  {
   "cell_type": "code",
   "execution_count": 300,
   "metadata": {
    "collapsed": false
   },
   "outputs": [
    {
     "data": {
      "text/plain": [
       "array([ 1.,  1.,  1.,  1.,  1.,  1.,  1.,  1.,  1.,  1.])"
      ]
     },
     "execution_count": 300,
     "metadata": {},
     "output_type": "execute_result"
    }
   ],
   "source": [
    "Z"
   ]
  },
  {
   "cell_type": "code",
   "execution_count": 301,
   "metadata": {
    "collapsed": false
   },
   "outputs": [
    {
     "data": {
      "text/plain": [
       "array([-6.63206963, -0.67963419])"
      ]
     },
     "execution_count": 301,
     "metadata": {},
     "output_type": "execute_result"
    }
   ],
   "source": [
    "X.T.dot(Y)"
   ]
  },
  {
   "cell_type": "code",
   "execution_count": 302,
   "metadata": {
    "collapsed": false
   },
   "outputs": [],
   "source": [
    "?np.dot"
   ]
  },
  {
   "cell_type": "code",
   "execution_count": 303,
   "metadata": {
    "collapsed": false
   },
   "outputs": [
    {
     "data": {
      "text/plain": [
       "array([[ 14.892341  ,   6.29490444],\n",
       "       [  6.29490444,   7.55600699]])"
      ]
     },
     "execution_count": 303,
     "metadata": {},
     "output_type": "execute_result"
    }
   ],
   "source": [
    "X.T.dot(X)"
   ]
  },
  {
   "cell_type": "code",
   "execution_count": 304,
   "metadata": {
    "collapsed": false
   },
   "outputs": [
    {
     "data": {
      "text/plain": [
       "array([[ 14.892341  ,   0.        ],\n",
       "       [  0.        ,   7.55600699]])"
      ]
     },
     "execution_count": 304,
     "metadata": {},
     "output_type": "execute_result"
    }
   ],
   "source": [
    "eye(2) * np.sum(np.multiply(X, X),axis=0,keepdims=True)"
   ]
  },
  {
   "cell_type": "code",
   "execution_count": 305,
   "metadata": {
    "collapsed": false
   },
   "outputs": [
    {
     "data": {
      "text/plain": [
       "array([[ 14.892341  ,   6.29490444],\n",
       "       [  6.29490444,   7.55600699]])"
      ]
     },
     "execution_count": 305,
     "metadata": {},
     "output_type": "execute_result"
    }
   ],
   "source": [
    "X.T.dot(X)"
   ]
  },
  {
   "cell_type": "code",
   "execution_count": 306,
   "metadata": {
    "collapsed": false
   },
   "outputs": [
    {
     "data": {
      "text/plain": [
       "array([-7.7802166 , -2.42228584])"
      ]
     },
     "execution_count": 306,
     "metadata": {},
     "output_type": "execute_result"
    }
   ],
   "source": [
    "np.dot(Y, np.multiply(X, X))"
   ]
  },
  {
   "cell_type": "code",
   "execution_count": 307,
   "metadata": {
    "collapsed": true
   },
   "outputs": [],
   "source": [
    "total = np.array([0.0, 0.0])\n",
    "for t in range(10):\n",
    "    total += Y[t] * X[t] * X[t]"
   ]
  },
  {
   "cell_type": "code",
   "execution_count": 308,
   "metadata": {
    "collapsed": false
   },
   "outputs": [
    {
     "data": {
      "text/plain": [
       "array([-7.7802166 , -2.42228584])"
      ]
     },
     "execution_count": 308,
     "metadata": {},
     "output_type": "execute_result"
    }
   ],
   "source": [
    "total"
   ]
  },
  {
   "cell_type": "code",
   "execution_count": 341,
   "metadata": {
    "collapsed": false
   },
   "outputs": [
    {
     "data": {
      "text/plain": [
       "False"
      ]
     },
     "execution_count": 341,
     "metadata": {},
     "output_type": "execute_result"
    }
   ],
   "source": [
    "np.array(list(map(lambda x: x > 0, total))).any()"
   ]
  },
  {
   "cell_type": "code",
   "execution_count": 337,
   "metadata": {
    "collapsed": false
   },
   "outputs": [
    {
     "data": {
      "text/plain": [
       "[False, False]"
      ]
     },
     "execution_count": 337,
     "metadata": {},
     "output_type": "execute_result"
    }
   ],
   "source": [
    "tsup"
   ]
  },
  {
   "cell_type": "code",
   "execution_count": 309,
   "metadata": {
    "collapsed": false
   },
   "outputs": [],
   "source": [
    "asd1=Y * Y"
   ]
  },
  {
   "cell_type": "code",
   "execution_count": 310,
   "metadata": {
    "collapsed": false
   },
   "outputs": [
    {
     "data": {
      "text/plain": [
       "(10,)"
      ]
     },
     "execution_count": 310,
     "metadata": {},
     "output_type": "execute_result"
    }
   ],
   "source": [
    "asd1.shape"
   ]
  },
  {
   "cell_type": "code",
   "execution_count": 311,
   "metadata": {
    "collapsed": false
   },
   "outputs": [
    {
     "data": {
      "text/plain": [
       "array([ 5.16658487, -0.61477888])"
      ]
     },
     "execution_count": 311,
     "metadata": {},
     "output_type": "execute_result"
    }
   ],
   "source": [
    "np.dot(asd1, X)"
   ]
  },
  {
   "cell_type": "code",
   "execution_count": 312,
   "metadata": {
    "collapsed": true
   },
   "outputs": [],
   "source": [
    "total2 = np.array([0.0, 0.0])\n",
    "for t in range(10):\n",
    "    total2 += Y[t] * X[t] * Y[t]"
   ]
  },
  {
   "cell_type": "code",
   "execution_count": 313,
   "metadata": {
    "collapsed": false
   },
   "outputs": [
    {
     "data": {
      "text/plain": [
       "array([ 5.16658487, -0.61477888])"
      ]
     },
     "execution_count": 313,
     "metadata": {},
     "output_type": "execute_result"
    }
   ],
   "source": [
    "total2"
   ]
  },
  {
   "cell_type": "code",
   "execution_count": 314,
   "metadata": {
    "collapsed": false
   },
   "outputs": [
    {
     "data": {
      "text/plain": [
       "array([[ 14.892341  ,   6.29490444],\n",
       "       [  6.29490444,   7.55600699]])"
      ]
     },
     "execution_count": 314,
     "metadata": {},
     "output_type": "execute_result"
    }
   ],
   "source": [
    "X.T.dot(X)"
   ]
  },
  {
   "cell_type": "code",
   "execution_count": 315,
   "metadata": {
    "collapsed": true
   },
   "outputs": [],
   "source": [
    "ga = [0.1, 0.3, 0.4, 0.5, 0.4, 0.5, 0.4, 0.5, 0.4, 0.5]"
   ]
  },
  {
   "cell_type": "code",
   "execution_count": 316,
   "metadata": {
    "collapsed": false
   },
   "outputs": [],
   "source": [
    "T=10\n",
    "foo=np.tile(ga, (T,1))"
   ]
  },
  {
   "cell_type": "code",
   "execution_count": 317,
   "metadata": {
    "collapsed": false
   },
   "outputs": [
    {
     "data": {
      "text/plain": [
       "(10, 10)"
      ]
     },
     "execution_count": 317,
     "metadata": {},
     "output_type": "execute_result"
    }
   ],
   "source": [
    "foo.shape"
   ]
  },
  {
   "cell_type": "code",
   "execution_count": 318,
   "metadata": {
    "collapsed": false
   },
   "outputs": [
    {
     "data": {
      "text/plain": [
       "array([[ 0.1,  0.3,  0.4,  0.5,  0.4,  0.5,  0.4,  0.5,  0.4,  0.5],\n",
       "       [ 0.1,  0.3,  0.4,  0.5,  0.4,  0.5,  0.4,  0.5,  0.4,  0.5],\n",
       "       [ 0.1,  0.3,  0.4,  0.5,  0.4,  0.5,  0.4,  0.5,  0.4,  0.5],\n",
       "       [ 0.1,  0.3,  0.4,  0.5,  0.4,  0.5,  0.4,  0.5,  0.4,  0.5],\n",
       "       [ 0.1,  0.3,  0.4,  0.5,  0.4,  0.5,  0.4,  0.5,  0.4,  0.5],\n",
       "       [ 0.1,  0.3,  0.4,  0.5,  0.4,  0.5,  0.4,  0.5,  0.4,  0.5],\n",
       "       [ 0.1,  0.3,  0.4,  0.5,  0.4,  0.5,  0.4,  0.5,  0.4,  0.5],\n",
       "       [ 0.1,  0.3,  0.4,  0.5,  0.4,  0.5,  0.4,  0.5,  0.4,  0.5],\n",
       "       [ 0.1,  0.3,  0.4,  0.5,  0.4,  0.5,  0.4,  0.5,  0.4,  0.5],\n",
       "       [ 0.1,  0.3,  0.4,  0.5,  0.4,  0.5,  0.4,  0.5,  0.4,  0.5]])"
      ]
     },
     "execution_count": 318,
     "metadata": {},
     "output_type": "execute_result"
    }
   ],
   "source": [
    "foo"
   ]
  },
  {
   "cell_type": "code",
   "execution_count": 319,
   "metadata": {
    "collapsed": false
   },
   "outputs": [
    {
     "data": {
      "text/plain": [
       "0.40000000000000002"
      ]
     },
     "execution_count": 319,
     "metadata": {},
     "output_type": "execute_result"
    }
   ],
   "source": [
    "np.mean(foo)"
   ]
  },
  {
   "cell_type": "code",
   "execution_count": 320,
   "metadata": {
    "collapsed": false
   },
   "outputs": [
    {
     "data": {
      "text/plain": [
       "True"
      ]
     },
     "execution_count": 320,
     "metadata": {},
     "output_type": "execute_result"
    }
   ],
   "source": [
    "foo.all()"
   ]
  },
  {
   "cell_type": "code",
   "execution_count": null,
   "metadata": {
    "collapsed": true
   },
   "outputs": [],
   "source": []
  }
 ],
 "metadata": {
  "kernelspec": {
   "display_name": "Python 3",
   "language": "python",
   "name": "python3"
  },
  "language_info": {
   "codemirror_mode": {
    "name": "ipython",
    "version": 3
   },
   "file_extension": ".py",
   "mimetype": "text/x-python",
   "name": "python",
   "nbconvert_exporter": "python",
   "pygments_lexer": "ipython3",
   "version": "3.5.1"
  },
  "toc": {
   "toc_cell": false,
   "toc_number_sections": true,
   "toc_threshold": 6,
   "toc_window_display": true
  },
  "toc_position": {
   "left": "1195.078125px",
   "right": "20px",
   "top": "120px",
   "width": "186px"
  }
 },
 "nbformat": 4,
 "nbformat_minor": 0
}
