{
 "cells": [
  {
   "cell_type": "markdown",
   "metadata": {
    "toc": "true"
   },
   "source": [
    "# Table of Contents\n",
    " <p><div class=\"lev1\"><a href=\"#Project-Tasks\"><span class=\"toc-item-num\">1&nbsp;&nbsp;</span>Project Tasks</a></div><div class=\"lev2\"><a href=\"#Mathematical-description-for-a-mixture-model-with-two-linear-components:\"><span class=\"toc-item-num\">1.1&nbsp;&nbsp;</span>Mathematical description for a mixture model with two linear components:</a></div><div class=\"lev3\"><a href=\"#Full-likelihood-function\"><span class=\"toc-item-num\">1.1.1&nbsp;&nbsp;</span>Full likelihood function</a></div><div class=\"lev3\"><a href=\"#Full-log-likelihood-function\"><span class=\"toc-item-num\">1.1.2&nbsp;&nbsp;</span>Full log-likelihood function</a></div><div class=\"lev2\"><a href=\"#Derivation-of-the-EM-update-equations-for-the-parameters-of-this-model\"><span class=\"toc-item-num\">1.2&nbsp;&nbsp;</span>Derivation of the EM update equations for the parameters of this model</a></div><div class=\"lev3\"><a href=\"#Update-equations-for-$\\phi_1$-and-$\\phi_2$\"><span class=\"toc-item-num\">1.2.1&nbsp;&nbsp;</span>Update equations for <span class=\"MathJax_Preview\" style=\"color: inherit;\"></span><span class=\"MathJax\" id=\"MathJax-Element-464-Frame\" style=\"\"><nobr><span class=\"math\" id=\"MathJax-Span-24336\" role=\"math\" style=\"width: 1.345em; display: inline-block;\"><span style=\"display: inline-block; position: relative; width: 1.113em; height: 0px; font-size: 120%;\"><span style=\"position: absolute; clip: rect(1.438em, 1000.002em, 2.595em, -999.998em); top: -2.266em; left: 0.002em;\"><span class=\"mrow\" id=\"MathJax-Span-24337\"><span class=\"msubsup\" id=\"MathJax-Span-24338\"><span style=\"display: inline-block; position: relative; width: 1.067em; height: 0px;\"><span style=\"position: absolute; clip: rect(3.15em, 1000.002em, 4.308em, -999.998em); top: -3.979em; left: 0.002em;\"><span class=\"mi\" id=\"MathJax-Span-24339\" style=\"font-family: STIXMathJax_Main-italic;\">ϕ</span><span style=\"display: inline-block; width: 0px; height: 3.984em;\"></span></span><span style=\"position: absolute; top: -3.84em; left: 0.65em;\"><span class=\"mn\" id=\"MathJax-Span-24340\" style=\"font-size: 70.7%; font-family: STIXMathJax_Main;\">1</span><span style=\"display: inline-block; width: 0px; height: 3.984em;\"></span></span></span></span></span><span style=\"display: inline-block; width: 0px; height: 2.271em;\"></span></span></span><span style=\"border-left-width: 0.003em; border-left-style: solid; display: inline-block; overflow: hidden; width: 0px; height: 1.169em; vertical-align: -0.275em;\"></span></span></nobr></span><script type=\"math/tex\" id=\"MathJax-Element-464\">\\phi_1</script> and <span class=\"MathJax_Preview\" style=\"color: inherit;\"></span><span class=\"MathJax\" id=\"MathJax-Element-465-Frame\" style=\"\"><nobr><span class=\"math\" id=\"MathJax-Span-24341\" role=\"math\" style=\"width: 1.345em; display: inline-block;\"><span style=\"display: inline-block; position: relative; width: 1.113em; height: 0px; font-size: 120%;\"><span style=\"position: absolute; clip: rect(1.438em, 1000.002em, 2.595em, -999.998em); top: -2.266em; left: 0.002em;\"><span class=\"mrow\" id=\"MathJax-Span-24342\"><span class=\"msubsup\" id=\"MathJax-Span-24343\"><span style=\"display: inline-block; position: relative; width: 1.067em; height: 0px;\"><span style=\"position: absolute; clip: rect(3.15em, 1000.002em, 4.308em, -999.998em); top: -3.979em; left: 0.002em;\"><span class=\"mi\" id=\"MathJax-Span-24344\" style=\"font-family: STIXMathJax_Main-italic;\">ϕ</span><span style=\"display: inline-block; width: 0px; height: 3.984em;\"></span></span><span style=\"position: absolute; top: -3.84em; left: 0.65em;\"><span class=\"mn\" id=\"MathJax-Span-24345\" style=\"font-size: 70.7%; font-family: STIXMathJax_Main;\">2</span><span style=\"display: inline-block; width: 0px; height: 3.984em;\"></span></span></span></span></span><span style=\"display: inline-block; width: 0px; height: 2.271em;\"></span></span></span><span style=\"border-left-width: 0.003em; border-left-style: solid; display: inline-block; overflow: hidden; width: 0px; height: 1.169em; vertical-align: -0.275em;\"></span></span></nobr></span><script type=\"math/tex\" id=\"MathJax-Element-465\">\\phi_2</script></a></div><div class=\"lev3\"><a href=\"#Update-equations-for-$\\sigma_1^2$-and-$\\sigma_2^2$\"><span class=\"toc-item-num\">1.2.2&nbsp;&nbsp;</span>Update equations for <span class=\"MathJax_Preview\" style=\"color: inherit;\"></span><span class=\"MathJax\" id=\"MathJax-Element-52-Frame\" style=\"\"><nobr><span class=\"math\" id=\"MathJax-Span-1380\" role=\"math\" style=\"width: 1.299em; display: inline-block;\"><span style=\"display: inline-block; position: relative; width: 1.067em; height: 0px; font-size: 120%;\"><span style=\"position: absolute; clip: rect(1.299em, 1000.002em, 2.734em, -999.998em); top: -2.266em; left: 0.002em;\"><span class=\"mrow\" id=\"MathJax-Span-1381\"><span class=\"msubsup\" id=\"MathJax-Span-1382\"><span style=\"display: inline-block; position: relative; width: 1.021em; height: 0px;\"><span style=\"position: absolute; clip: rect(3.428em, 1000.002em, 4.123em, -999.998em); top: -3.979em; left: 0.002em;\"><span class=\"mi\" id=\"MathJax-Span-1383\" style=\"font-family: STIXMathJax_Main-italic;\">σ<span style=\"display: inline-block; overflow: hidden; height: 1px; width: 0.049em;\"></span></span><span style=\"display: inline-block; width: 0px; height: 3.984em;\"></span></span><span style=\"position: absolute; clip: rect(3.382em, 1000.002em, 4.123em, -999.998em); top: -4.303em; left: 0.604em;\"><span class=\"mn\" id=\"MathJax-Span-1384\" style=\"font-size: 70.7%; font-family: STIXMathJax_Main;\">2</span><span style=\"display: inline-block; width: 0px; height: 3.984em;\"></span></span><span style=\"position: absolute; clip: rect(3.382em, 1000.002em, 4.123em, -999.998em); top: -3.655em; left: 0.512em;\"><span class=\"mn\" id=\"MathJax-Span-1385\" style=\"font-size: 70.7%; font-family: STIXMathJax_Main;\">1</span><span style=\"display: inline-block; width: 0px; height: 3.984em;\"></span></span></span></span></span><span style=\"display: inline-block; width: 0px; height: 2.271em;\"></span></span></span><span style=\"border-left-width: 0.003em; border-left-style: solid; display: inline-block; overflow: hidden; width: 0px; height: 1.503em; vertical-align: -0.442em;\"></span></span></nobr></span><script type=\"math/tex\" id=\"MathJax-Element-52\">\\sigma_1^2</script> and <span class=\"MathJax_Preview\" style=\"color: inherit;\"></span><span class=\"MathJax\" id=\"MathJax-Element-53-Frame\" style=\"\"><nobr><span class=\"math\" id=\"MathJax-Span-1386\" role=\"math\" style=\"width: 1.299em; display: inline-block;\"><span style=\"display: inline-block; position: relative; width: 1.067em; height: 0px; font-size: 120%;\"><span style=\"position: absolute; clip: rect(1.299em, 1000.002em, 2.734em, -999.998em); top: -2.266em; left: 0.002em;\"><span class=\"mrow\" id=\"MathJax-Span-1387\"><span class=\"msubsup\" id=\"MathJax-Span-1388\"><span style=\"display: inline-block; position: relative; width: 1.021em; height: 0px;\"><span style=\"position: absolute; clip: rect(3.428em, 1000.002em, 4.123em, -999.998em); top: -3.979em; left: 0.002em;\"><span class=\"mi\" id=\"MathJax-Span-1389\" style=\"font-family: STIXMathJax_Main-italic;\">σ<span style=\"display: inline-block; overflow: hidden; height: 1px; width: 0.049em;\"></span></span><span style=\"display: inline-block; width: 0px; height: 3.984em;\"></span></span><span style=\"position: absolute; clip: rect(3.382em, 1000.002em, 4.123em, -999.998em); top: -4.303em; left: 0.604em;\"><span class=\"mn\" id=\"MathJax-Span-1390\" style=\"font-size: 70.7%; font-family: STIXMathJax_Main;\">2</span><span style=\"display: inline-block; width: 0px; height: 3.984em;\"></span></span><span style=\"position: absolute; clip: rect(3.382em, 1000.002em, 4.123em, -999.998em); top: -3.655em; left: 0.512em;\"><span class=\"mn\" id=\"MathJax-Span-1391\" style=\"font-size: 70.7%; font-family: STIXMathJax_Main;\">2</span><span style=\"display: inline-block; width: 0px; height: 3.984em;\"></span></span></span></span></span><span style=\"display: inline-block; width: 0px; height: 2.271em;\"></span></span></span><span style=\"border-left-width: 0.003em; border-left-style: solid; display: inline-block; overflow: hidden; width: 0px; height: 1.503em; vertical-align: -0.442em;\"></span></span></nobr></span><script type=\"math/tex\" id=\"MathJax-Element-53\">\\sigma_2^2</script></a></div><div class=\"lev3\"><a href=\"#Update-equation-for-$w$\"><span class=\"toc-item-num\">1.2.3&nbsp;&nbsp;</span>Update equation for <span class=\"MathJax_Preview\" style=\"color: inherit;\"></span><span class=\"MathJax\" id=\"MathJax-Element-37-Frame\" style=\"\"><nobr><span class=\"math\" id=\"MathJax-Span-877\" role=\"math\" style=\"width: 0.836em; display: inline-block;\"><span style=\"display: inline-block; position: relative; width: 0.697em; height: 0px; font-size: 120%;\"><span style=\"position: absolute; clip: rect(1.808em, 1000.002em, 2.549em, -999.998em); top: -2.405em; left: 0.002em;\"><span class=\"mrow\" id=\"MathJax-Span-878\"><span class=\"mi\" id=\"MathJax-Span-879\" style=\"font-family: STIXMathJax_Main-italic;\">w</span></span><span style=\"display: inline-block; width: 0px; height: 2.41em;\"></span></span></span><span style=\"border-left-width: 0.003em; border-left-style: solid; display: inline-block; overflow: hidden; width: 0px; height: 0.669em; vertical-align: -0.053em;\"></span></span></nobr></span><script type=\"math/tex\" id=\"MathJax-Element-37\">w</script></a></div><div class=\"lev3\"><a href=\"#Update-equation-for-$z_t$\"><span class=\"toc-item-num\">1.2.4&nbsp;&nbsp;</span>Update equation for <span class=\"MathJax_Preview\" style=\"color: inherit;\"></span><span class=\"MathJax\" id=\"MathJax-Element-40-Frame\" style=\"\"><nobr><span class=\"math\" id=\"MathJax-Span-888\" role=\"math\" style=\"width: 0.928em; display: inline-block;\"><span style=\"display: inline-block; position: relative; width: 0.743em; height: 0px; font-size: 120%;\"><span style=\"position: absolute; clip: rect(1.715em, 1000.002em, 2.549em, -999.998em); top: -2.266em; left: 0.002em;\"><span class=\"mrow\" id=\"MathJax-Span-889\"><span class=\"msubsup\" id=\"MathJax-Span-890\"><span style=\"display: inline-block; position: relative; width: 0.697em; height: 0px;\"><span style=\"position: absolute; clip: rect(3.428em, 1000.002em, 4.215em, -999.998em); top: -3.979em; left: 0.002em;\"><span class=\"mi\" id=\"MathJax-Span-891\" style=\"font-family: STIXMathJax_Main-italic;\">z</span><span style=\"display: inline-block; width: 0px; height: 3.984em;\"></span></span><span style=\"position: absolute; top: -3.84em; left: 0.373em;\"><span class=\"mi\" id=\"MathJax-Span-892\" style=\"font-size: 70.7%; font-family: STIXMathJax_Main-italic;\">t<span style=\"display: inline-block; overflow: hidden; height: 1px; width: 0.002em;\"></span></span><span style=\"display: inline-block; width: 0px; height: 3.984em;\"></span></span></span></span></span><span style=\"display: inline-block; width: 0px; height: 2.271em;\"></span></span></span><span style=\"border-left-width: 0.003em; border-left-style: solid; display: inline-block; overflow: hidden; width: 0px; height: 0.836em; vertical-align: -0.219em;\"></span></span></nobr></span><script type=\"math/tex\" id=\"MathJax-Element-40\">z_t</script></a></div><div class=\"lev2\"><a href=\"#Implementation-of-the-model\"><span class=\"toc-item-num\">1.3&nbsp;&nbsp;</span>Implementation of the model</a></div><div class=\"lev2\"><a href=\"#Tests-with-the-model\"><span class=\"toc-item-num\">1.4&nbsp;&nbsp;</span>Tests with the model</a></div><div class=\"lev2\"><a href=\"#Comparition-the-mixture-model-with-the-simple-linear-model\"><span class=\"toc-item-num\">1.5&nbsp;&nbsp;</span>Comparition the mixture model with the simple linear model</a></div><div class=\"lev1\"><a href=\"#Appendix\"><span class=\"toc-item-num\">2&nbsp;&nbsp;</span>Appendix</a></div><div class=\"lev2\"><a href=\"#main\"><span class=\"toc-item-num\">2.1&nbsp;&nbsp;</span>main</a></div><div class=\"lev2\"><a href=\"#EM-Algorithm\"><span class=\"toc-item-num\">2.2&nbsp;&nbsp;</span>EM Algorithm</a></div><div class=\"lev2\"><a href=\"#Generator\"><span class=\"toc-item-num\">2.3&nbsp;&nbsp;</span>Generator</a></div><div class=\"lev2\"><a href=\"#Linear-model\"><span class=\"toc-item-num\">2.4&nbsp;&nbsp;</span>Linear model</a></div><div class=\"lev2\"><a href=\"#Mixture-Model\"><span class=\"toc-item-num\">2.5&nbsp;&nbsp;</span>Mixture Model</a></div>"
   ]
  },
  {
   "cell_type": "markdown",
   "metadata": {},
   "source": [
    "# Project Tasks"
   ]
  },
  {
   "cell_type": "markdown",
   "metadata": {},
   "source": [
    "## Mathematical description for a mixture model with two linear components:"
   ]
  },
  {
   "cell_type": "markdown",
   "metadata": {},
   "source": [
    "We have the following mixture model:"
   ]
  },
  {
   "cell_type": "markdown",
   "metadata": {},
   "source": [
    "$p(y_t \\; | \\; \\phi_1, \\phi_2, \\sigma_1, \\sigma_2) = w \\mathcal{N}(y_t \\ | \\ \\phi_1 x_t, \\sigma^2) + (w-1) \\mathcal{N}(y_t \\ | \\ \\phi_2 x_t, \\sigma^2)$"
   ]
  },
  {
   "cell_type": "markdown",
   "metadata": {},
   "source": [
    "Setting $\\theta = (\\phi_1, \\phi_2, \\sigma_1, \\sigma_2, w)$, we want to estimate $\\hat{\\theta} = \\text{argmax}_{\\theta}(\\log p(x | \\theta))$"
   ]
  },
  {
   "cell_type": "markdown",
   "metadata": {},
   "source": [
    "So we formulate the model using latent variables:"
   ]
  },
  {
   "cell_type": "markdown",
   "metadata": {},
   "source": [
    "$z_t = 1  \\quad \\text{if} \\; x_t $ is from $\\mathcal{N}(y_t \\ | \\ \\phi_1 x_t, \\sigma_1^2)$\n",
    "\n",
    "$z_t = 0 \\quad \\text{if} \\; x_t $ is from $\\mathcal{N}(y_t \\ | \\ \\phi_2 x_t, \\sigma_2^2)$\n",
    "\n"
   ]
  },
  {
   "cell_type": "markdown",
   "metadata": {},
   "source": [
    "Then: $ p(y_t \\ | \\ \\theta, x_t, z_t) = \\mathcal{N}(y_t \\ | \\ \\phi_1 x_t, \\sigma_1^2)^{z_t} \\ \\mathcal{N}(y_t \\ | \\ \\phi_2 x_t, \\sigma_2^2)^{(1 - z_t)} $"
   ]
  },
  {
   "cell_type": "markdown",
   "metadata": {},
   "source": [
    "\n",
    "### Full likelihood function"
   ]
  },
  {
   "cell_type": "markdown",
   "metadata": {},
   "source": [
    "$p(y,z \\ | \\ x, \\theta) \\propto p(y \\ | \\ x, z, \\theta) \\; p(z \\ | \\ \\theta) $"
   ]
  },
  {
   "cell_type": "markdown",
   "metadata": {
    "collapsed": true
   },
   "source": [
    "$ = \\sum_{t=1}^T p(y_t \\ | \\ x_t, z_t, \\theta) \\; p(z_t \\ | \\ \\theta) $"
   ]
  },
  {
   "cell_type": "markdown",
   "metadata": {},
   "source": [
    "###  Full log-likelihood function"
   ]
  },
  {
   "cell_type": "markdown",
   "metadata": {},
   "source": [
    "$ \\log p(y, z \\; | \\; x, \\theta) \\propto \\log p(y \\; | \\; x, z, \\theta) \\; p(z \\; | \\; \\theta) $\n",
    "\n",
    "$ = \\sum_{t=1}^T \\log \\; [ \\; p(y_t \\ | \\ x_t, z_t, \\theta) \\; p(z_t) \\ | \\ \\theta) \\; ] $\n",
    "\n",
    "$ = \\sum_{t=1}^T \\log \\; [ \\mathcal{N}(y_t \\ | \\ \\phi_1 x_t, \\sigma_1^2)^{z_t} \\; \\mathcal{N}(y_t \\ | \\ \\phi_2 x_t, \\sigma_2^2)^{(1 - z_t)} \\; w^{z_t} \\; (1-w)^{(1-z_t)}]$\n",
    "\n",
    "$ = \\sum_{t=1}^T z_t \\log \\; w \\mathcal{N}(y_t \\ | \\ \\phi_1 x_t, \\sigma_1^2) + (1-z_t) \\log \\; (1-w) \\mathcal{N}(y_t \\ | \\ \\phi_2 x_t, \\sigma_2^2)$"
   ]
  },
  {
   "cell_type": "markdown",
   "metadata": {},
   "source": [
    "## Derivation of the EM update equations for the parameters of this model"
   ]
  },
  {
   "cell_type": "markdown",
   "metadata": {},
   "source": [
    "** Results used in the derivation of the update equations **"
   ]
  },
  {
   "cell_type": "markdown",
   "metadata": {},
   "source": [
    "Here we're using a few results regarding the derivations of normal distributions that will be used in the derivation of the update equations below:"
   ]
  },
  {
   "cell_type": "markdown",
   "metadata": {},
   "source": [
    "_Result 1:_ Derivation of normal distribution w.r.t. $\\mu$\n",
    "\n",
    "$\\frac{\\partial}{\\partial \\mu} \\mathcal{N}(\\mu, \\sigma^2) = \\mathcal{N}(\\mu, \\sigma^2) \\frac{x-\\mu}{\\sigma^2} $"
   ]
  },
  {
   "cell_type": "markdown",
   "metadata": {},
   "source": [
    "_Result 2:_ Derivation of normal distribution w.r.t. $\\sigma^2$\n",
    "\n",
    "$\\frac{\\partial}{\\partial \\mu} \\mathcal{N}(\\mu, \\sigma^2) = \\mathcal{N}(\\mu, \\sigma^2) \\frac{(x-\\mu)^2}{2(\\sigma^2)^2} - \\mathcal{N}(\\mu, \\sigma^2) \\frac{1}{2\\sigma^2} $\n",
    "\n",
    "$ = \\frac{1}{2} \\mathcal{N}(\\mu, \\sigma^2) (\\frac{(x-\\mu)}{(\\sigma^2)})^2 - \\frac{1}{2} \\mathcal{N}(\\mu, \\sigma^2) \\frac{1}{\\sigma^2} $ "
   ]
  },
  {
   "cell_type": "markdown",
   "metadata": {},
   "source": [
    "_Result 3:_ Derivation of normal distribution $\\mathcal{N}(a \\mu, \\sigma^2)$ w.r.t. $a$ \n",
    "\n",
    "$\\frac{\\partial}{\\partial a} \\mathcal{N}(a \\mu, \\sigma^2) = \\mathcal{N}(a \\mu, \\sigma^2) \\frac{\\mu (x- a \\mu)}{\\sigma^2}$\n",
    "\n"
   ]
  },
  {
   "cell_type": "markdown",
   "metadata": {},
   "source": [
    "** Deriving the responsibilities **"
   ]
  },
  {
   "cell_type": "markdown",
   "metadata": {},
   "source": [
    "From the posterior of the latent variables given the current estimates $\\theta_S$ of $\\theta$ we can derive the responsibility functions:\n",
    "\n",
    "$p(z_{t_1} = 1 \\ | \\ x_t, \\theta) \\propto p(z_{t_1}) p( x_t | z_t, \\theta_S ) = w_S \\mathcal{N}(y_t \\ | \\ x_t \\phi_{1_S}, \\sigma_{1_S}^2)  $\n",
    "\n",
    "$p(z_{t_2} = 1 \\ | \\ x_t, \\theta) \\propto p(z_{t_2}) p( x_t | z_t, \\theta_S ) = w_S \\mathcal{N}(y_t \\ | \\ x_t \\phi_{2_S}, \\sigma_{2_S}^2)  $\n",
    "\n",
    "By normalizing we recieve the responsibility:\n",
    "\n",
    "$$\\gamma = \\gamma (z_{t_1} \\ | \\ \\theta_S) = \\gamma (z_{t_1} \\ | \\ \\phi_{1_S}, \\phi_{2_S}, \\sigma_{1_S}, \\sigma_{2_S}, w_S) = \\frac{ w_S \\mathcal{N}(y_t \\ | \\ x_t \\phi_{1_S}, \\sigma_{1_S}^2)}{ w_S \\mathcal{N}(y_t \\ | \\ x_t \\phi_{1_S} , \\sigma_{1_S}^2) \\; + \\; (1 - w_S) \\mathcal{N}(y_t \\ | \\ x_t \\phi_{2_S}, \\sigma_{2_S}^2)} $$\n",
    "\n",
    "From now on we'll refer to it simply as $\\gamma$."
   ]
  },
  {
   "cell_type": "markdown",
   "metadata": {},
   "source": [
    "** Deriving Q **"
   ]
  },
  {
   "cell_type": "markdown",
   "metadata": {},
   "source": [
    "Now we can derive the expectation of the complete data log-likelihood over the posterior of the latent variables:"
   ]
  },
  {
   "cell_type": "markdown",
   "metadata": {},
   "source": [
    "$Q = Q(y, \\theta, \\theta_0) = \\mathbf{E}_{z \\ | \\ x, \\theta_S} [ \\log \\; p(y, z \\; | \\; \\theta, \\theta_S) ] $\n",
    "\n",
    "$ = \\mathbf{E}_{z \\ | \\ x, \\theta_S} [ \\sum_{t=1}^T z_t \\log \\; w \\mathcal{N}(y_t \\ | \\ \\phi_1 x_t, \\sigma_1^2) + (1-z_t) \\log \\; (1-w) \\mathcal{N}(y_t \\ | \\ \\phi_2 x_t, \\sigma_2^2)^{1 - z_t} ] $\n",
    "\n",
    "$ = \\sum_{t=1}^T \\mathbf{E}_{z \\ | \\ x, \\theta_S} [z_t] \\log \\; w \\mathcal{N}(y_t \\ | \\ \\phi_1 x_t, \\sigma_1^2) + \\mathbf{E}_{z \\ | \\ x, \\theta_S}[(1 - z_t)] \\log \\; (1-w) \\mathcal{N}(y_t \\ | \\ \\phi_2 x_t, \\sigma_2^2)^{1 - z_t} $\n",
    "\n",
    "$ = \\sum_{t=1}^T \\gamma \\log \\; w \\mathcal{N}(y_t \\ | \\ \\phi_1 x_t, \\sigma_1^2) + (1-\\gamma) \\log \\; (1-w) \\mathcal{N}(y_t \\ | \\ \\phi_2 x_t, \\sigma_2^2) $\n",
    "\n",
    "From now on we'll refer to it simply as $Q$."
   ]
  },
  {
   "cell_type": "markdown",
   "metadata": {},
   "source": [
    "### Update equations for $\\phi_1$ and $\\phi_2$"
   ]
  },
  {
   "cell_type": "markdown",
   "metadata": {},
   "source": [
    "$\\frac{\\partial}{\\partial \\phi_1} Q = \\sum_t^T $"
   ]
  },
  {
   "cell_type": "code",
   "execution_count": null,
   "metadata": {
    "collapsed": true
   },
   "outputs": [],
   "source": []
  },
  {
   "cell_type": "markdown",
   "metadata": {},
   "source": [
    "### Update equations for $\\sigma_1^2$ and $\\sigma_2^2$"
   ]
  },
  {
   "cell_type": "markdown",
   "metadata": {},
   "source": [
    "### Update equation for $w$"
   ]
  },
  {
   "cell_type": "markdown",
   "metadata": {},
   "source": [
    "### Update equation for $z_t$"
   ]
  },
  {
   "cell_type": "markdown",
   "metadata": {
    "collapsed": true
   },
   "source": [
    "## Implementation of the model"
   ]
  },
  {
   "cell_type": "markdown",
   "metadata": {},
   "source": [
    "## Tests with the model"
   ]
  },
  {
   "cell_type": "markdown",
   "metadata": {},
   "source": [
    "## Comparition the mixture model with the simple linear model"
   ]
  },
  {
   "cell_type": "markdown",
   "metadata": {},
   "source": [
    "# Appendix"
   ]
  },
  {
   "cell_type": "markdown",
   "metadata": {},
   "source": [
    "## main"
   ]
  },
  {
   "cell_type": "code",
   "execution_count": 11,
   "metadata": {
    "collapsed": false
   },
   "outputs": [
    {
     "name": "stdout",
     "output_type": "stream",
     "text": [
      "Starting program\n",
      "\n",
      "Generated 50 training data and 50 validation data from true model:\n",
      "phi    : (-0.06)\n",
      "sigma2 : 0.229\n",
      "\n",
      "Model fit (logl -32.53) after 2 iterations (alim reached)\n",
      "\n",
      "MAP estimate of true model parameters:\n",
      "phi    : (-0.02)\n",
      "sigma2 : 0.211\n",
      "\n",
      "Crossvalidated logl: -35.69\n"
     ]
    },
    {
     "name": "stderr",
     "output_type": "stream",
     "text": [
      "/Users/cwestrup/anaconda/envs/py35/lib/python3.5/site-packages/ipykernel/__main__.py:17: FutureWarning: comparison to `None` will result in an elementwise object comparison in the future.\n",
      "/Users/cwestrup/anaconda/envs/py35/lib/python3.5/site-packages/ipykernel/__main__.py:30: FutureWarning: comparison to `None` will result in an elementwise object comparison in the future.\n"
     ]
    },
    {
     "data": {
      "image/png": "[encoded data removed]",
      "text/plain": [
       "<matplotlib.figure.Figure at 0x10d5205f8>"
      ]
     },
     "metadata": {},
     "output_type": "display_data"
    }
   ],
   "source": [
    "# Aalto University, School of Science\n",
    "# T-61.5140 Machine Learning: Advanced probabilistic Methods\n",
    "# Author: antti.kangasraasio@aalto.fi, 2016\n",
    "\n",
    "import matplotlib.pyplot as plt\n",
    "from numpy import arange, min, max, sqrt, mean, std\n",
    "from scipy.spatial.distance import cosine\n",
    "import numpy as np\n",
    "\n",
    "def main():\n",
    "    \"\"\"\n",
    "        Executed when program is run.\n",
    "    \"\"\"\n",
    "    print(\"Starting program\")\n",
    "    print(\"\")\n",
    "    test_LM_model()\n",
    "\n",
    "\n",
    "def test_LM_model():\n",
    "    \"\"\"\n",
    "        Example that demonstrates how to call the model.\n",
    "    \"\"\"\n",
    "    # get hyperparameters for model\n",
    "    hyperp = get_hyperp()\n",
    "    # generate 50 training data and 20 validation data locations of dim=1\n",
    "    ndata = 50\n",
    "    ndata_v = 50\n",
    "    pdata = 1\n",
    "    X = generate_X(ndata, pdata)\n",
    "    X_v = generate_X(ndata_v, pdata)\n",
    "    # intialize true model randomly and draw observations from it\n",
    "    true_model = EM_algo_LM(hyperp, ndata=ndata, pdata=pdata)\n",
    "    Y, Z = generate_YZ(X, true_model)\n",
    "    Y_v, Z_v = generate_YZ(X_v, true_model)\n",
    "    print(\"Generated %d training data and %d validation data from true model:\" % \\\n",
    "            (ndata, ndata_v))\n",
    "    true_model.print_p()\n",
    "    print(\"\")\n",
    "\n",
    "    # generate a model for estimating the parameters of the\n",
    "    # true model based on the observations (X, Y) we just made\n",
    "    model = EM_algo_LM(hyperp, X, Y)\n",
    "    i, logl, r = model.EM_fit()\n",
    "    print(\"Model fit (logl %.2f) after %d iterations (%s reached)\" % \\\n",
    "            (logl, i, r))\n",
    "    print(\"\")\n",
    "    print(\"MAP estimate of true model parameters:\")\n",
    "    model.print_p()\n",
    "    print(\"\")\n",
    "\n",
    "    # crossvalidate the estimated model with the validation data\n",
    "    fit_params = model.get_p()\n",
    "    model_v = EM_algo_LM(hyperp, X_v, Y_v)\n",
    "    model_v.set_p(fit_params)\n",
    "    logl, ll = model_v.logl()\n",
    "    print(\"Crossvalidated logl: %.2f\" % (logl))\n",
    "\n",
    "    # if possible, plot samples, true model and estimated model\n",
    "    if pdata != 1:\n",
    "        return\n",
    "    plt.figure(figsize=(20,10))\n",
    "    plt.scatter(X, Y, s=20, c='black', label=\"Training data\")\n",
    "    plt.scatter(X_v, Y_v, s=20, c='orange', label=\"Validation data\")\n",
    "    x = arange(min(X)-0.1, max(X)+0.1, 0.1)\n",
    "    print_linear_model(x, true_model.get_p()[\"phi\"], \\\n",
    "            true_model.get_p()[\"sigma2\"], 'red', \"True model\")\n",
    "    print_linear_model(x, model.get_p()[\"phi\"], \\\n",
    "            model.get_p()[\"sigma2\"], 'blue', \"Predicted model\")\n",
    "    plt.legend(loc=1)\n",
    "    plt.xlim(min(x), max(x))\n",
    "    plt.xlabel(\"x\")\n",
    "    plt.ylabel(\"y\")\n",
    "    plt.show()\n",
    "    \n",
    "\n",
    "\n",
    "def print_linear_model(x, phi, sigma2, color, label):\n",
    "    \"\"\"\n",
    "        Print linear model mean and 95% confidence interval.\n",
    "    \"\"\"\n",
    "    y = phi * x\n",
    "    plt.plot(x, y, color, label=label)\n",
    "    plt.fill_between(x, y + 1.96 * sqrt(sigma2), y - 1.96 * sqrt(sigma2), \\\n",
    "            alpha=0.25, facecolor=color, interpolate=True)\n",
    "\n",
    "\n",
    "if __name__ == \"__main__\":\n",
    "    main()\n",
    "\n"
   ]
  },
  {
   "cell_type": "code",
   "execution_count": 27,
   "metadata": {
    "collapsed": true,
    "init_cell": true
   },
   "outputs": [],
   "source": [
    "%matplotlib inline"
   ]
  },
  {
   "cell_type": "markdown",
   "metadata": {},
   "source": [
    "## EM Algorithm"
   ]
  },
  {
   "cell_type": "code",
   "execution_count": 28,
   "metadata": {
    "code_folding": [],
    "collapsed": true,
    "init_cell": true
   },
   "outputs": [],
   "source": [
    "# Aalto University, School of Science\n",
    "# T-61.5140 Machine Learning: Advanced probabilistic Methods\n",
    "# Author: antti.kangasraasio@aalto.fi, 2016\n",
    "\n",
    "import copy\n",
    "\n",
    "class EM_algo():\n",
    "    \"\"\"\n",
    "        A superclass for different EM-fitted models.\n",
    "    \"\"\"\n",
    "\n",
    "    def __init__(self, hyperparams, X=None, Y=None, ndata=0, pdata=0):\n",
    "        \"\"\"\n",
    "            Initialize model based either on given data (X, Y) or\n",
    "            on given data dimensionality (ndata, pdata).\n",
    "        \"\"\"\n",
    "        if X != None and Y != None:\n",
    "            self.X = X\n",
    "            self.Y = Y\n",
    "            self.ndata = len(self.X)\n",
    "            self.pdata = len(self.X[0])\n",
    "        if ndata and pdata:\n",
    "            self.X = None\n",
    "            self.Y = None\n",
    "            self.ndata = ndata\n",
    "            self.pdata = pdata\n",
    "        self.h = hyperparams\n",
    "        self.p = dict() # model parameters\n",
    "        self.reset()\n",
    "        if X != None and Y != None:\n",
    "            self.current_logl, self.cll = self.logl()\n",
    "\n",
    "\n",
    "    def reset(self):\n",
    "        \"\"\"\n",
    "            Reset priors and draw parameter estimates from prior.\n",
    "        \"\"\"\n",
    "        raise NotImplementedError(\"Subclass implements\")\n",
    "\n",
    "\n",
    "    def draw(self, item):\n",
    "        \"\"\"\n",
    "            Draw a data sample from the current predictive distribution.\n",
    "            Returns the drawn y and z-values.\n",
    "        \"\"\"\n",
    "        raise NotImplementedError(\"Subclass implements\")\n",
    "\n",
    "\n",
    "    def logl(self):\n",
    "        \"\"\"\n",
    "            Calculates the full log likelihood for this model.\n",
    "            Returns the logl (and the values of each term for debugging purposes)\n",
    "        \"\"\"\n",
    "        raise NotImplementedError(\"Subclass implements\")\n",
    "\n",
    "\n",
    "    def EM_iter(self):\n",
    "        \"\"\"\n",
    "            Executes a single round of EM updates for this model.\n",
    "        \"\"\"\n",
    "        raise NotImplementedError(\"Subclass implements\")\n",
    "\n",
    "\n",
    "    def EM_fit(self, alim=1e-10, maxit=1e4):\n",
    "        \"\"\"\n",
    "            Calls the EM_iter repeatedly until the log likelihood\n",
    "            of the model increases less than 'alim' in absolute\n",
    "            value or after 'maxit' iterations have been done.\n",
    "\n",
    "            Returns the number of EM-iterations, final log likelihood\n",
    "            value and a string that explains the end condition.\n",
    "        \"\"\"\n",
    "        logl, ll = self.logl()\n",
    "        for i in range(int(maxit)):\n",
    "            self.EM_iter()\n",
    "            logl2, ll2 = self.logl()\n",
    "            adiff = abs(logl2 - logl)\n",
    "            if adiff < alim:\n",
    "                return i+1, logl2, \"alim\"\n",
    "            logl = logl2\n",
    "        return maxit, logl2, \"maxit\"\n",
    "\n",
    "\n",
    "    def assert_logl_increased(self, event):\n",
    "        \"\"\"\n",
    "            Checks that the log likelihood increased since model\n",
    "            initialization or the time this function was last called.\n",
    "        \"\"\"\n",
    "        newlogl, ll = self.logl()\n",
    "        if self.current_logl - newlogl > 1e-3:\n",
    "            self.debug_logl(self.cll, ll)\n",
    "            raise ValueError(\"logl increased after %s\" % (event))\n",
    "        self.current_logl, self.cll = newlogl, ll\n",
    "\n",
    "\n",
    "    def get_p(self):\n",
    "        \"\"\"\n",
    "            Returns a copy of the model parameters.\n",
    "        \"\"\"\n",
    "        return copy.deepcopy(self.p)\n",
    "\n",
    "\n",
    "    def set_p(self, p):\n",
    "        \"\"\"\n",
    "            Sets the model parameters.\n",
    "        \"\"\"\n",
    "        self.p = p.copy()\n",
    "\n",
    "\n",
    "    def print_p(self):\n",
    "        \"\"\"\n",
    "            Prints the model parameters, one at each line.\n",
    "        \"\"\"\n",
    "        for k, v in self.p.items():\n",
    "            print(\"%s = %s\" % (k, v))\n",
    "\n",
    "\n",
    "    def pretty_vector(self, x):\n",
    "        \"\"\"\n",
    "            Returns a formatted version of a vector.\n",
    "        \"\"\"\n",
    "        s = [\"(\"]\n",
    "        s.extend([\"%.2f, \" % (xi) for xi in x[:-1]])\n",
    "        s.append(\"%.2f)\" % (x[-1]))\n",
    "        return \"\".join(s)\n",
    "\n",
    "\n",
    "    def debug_logl(self, ll1, ll2):\n",
    "        \"\"\"\n",
    "            Prints an analysis of the per-term change in\n",
    "            log likelihood from ll1 to ll2.\n",
    "        \"\"\"\n",
    "        print(\"Logl      before     after\")\n",
    "        for v1, v2, i in zip(ll1, ll2, range(len(ll1))):\n",
    "            if v1 > v2:\n",
    "                d = \">\"\n",
    "            elif v2 > v1:\n",
    "                d = \"<\"\n",
    "            else:\n",
    "                d = \"=\"\n",
    "            print(\"Term %02d: %7.3f %s %7.3f\" % (i, v1, d, v2))\n",
    "        print(\"Total    %7.3f   %7.3f\" % (sum(ll1), sum(ll2)))\n",
    "\n"
   ]
  },
  {
   "cell_type": "markdown",
   "metadata": {},
   "source": [
    "## Generator"
   ]
  },
  {
   "cell_type": "code",
   "execution_count": 29,
   "metadata": {
    "code_folding": [
     8,
     16,
     28
    ],
    "collapsed": true,
    "init_cell": true
   },
   "outputs": [],
   "source": [
    "# Aalto University, School of Science\n",
    "# T-61.5140 Machine Learning: Advanced probabilistic Methods\n",
    "# Author: antti.kangasraasio@aalto.fi, 2016\n",
    "\n",
    "from numpy import zeros\n",
    "from numpy.random import randn\n",
    "\n",
    "\n",
    "def generate_X(ndata, pdata):\n",
    "    \"\"\"\n",
    "        Return a matrix of normally distributed random values.\n",
    "    \"\"\"\n",
    "    X = randn(ndata, pdata)\n",
    "    return X\n",
    "\n",
    "\n",
    "def generate_YZ(X, distribution):\n",
    "    \"\"\"\n",
    "        Draw observations Y and latent variable values Z from a distribution.\n",
    "    \"\"\"\n",
    "    ndata = len(X)\n",
    "    Y = zeros(ndata)\n",
    "    Z = zeros(ndata)\n",
    "    for i in range(ndata):\n",
    "        Y[i], Z[i] = distribution.draw(X[i])\n",
    "    return Y, Z\n",
    "\n",
    "\n",
    "def get_hyperp():\n",
    "    \"\"\"\n",
    "        Return model hyperparameters.\n",
    "    \"\"\"\n",
    "    return {\n",
    "            \"alpha_s20\": 5.0,\n",
    "            \"beta_s20\" : 1.0,\n",
    "            \"lbd_phi0\" : 1.0,\n",
    "            \"mu_phi0\"  : 0.0,\n",
    "            \"alpha_w0\" : 3.0,\n",
    "            \"beta_w0\"  : 3.0,\n",
    "            }\n"
   ]
  },
  {
   "cell_type": "markdown",
   "metadata": {},
   "source": [
    "## Linear model"
   ]
  },
  {
   "cell_type": "code",
   "execution_count": 30,
   "metadata": {
    "code_folding": [],
    "collapsed": false,
    "init_cell": true
   },
   "outputs": [],
   "source": [
    "# Aalto University, School of Science\n",
    "# T-61.5140 Machine Learning: Advanced probabilistic Methods\n",
    "# Author: antti.kangasraasio@aalto.fi, 2016\n",
    "\n",
    "from numpy import outer, eye, ones, zeros, log, sqrt, exp, pi\n",
    "from numpy.linalg import inv, solve\n",
    "from numpy.random import multivariate_normal as mvnormal, normal, gamma, beta, binomial\n",
    "from scipy.special import gammaln\n",
    "\n",
    "class EM_algo_LM(EM_algo):\n",
    "    \"\"\"\n",
    "        A linear gaussian model.\n",
    "    \"\"\"\n",
    "\n",
    "    def reset(self):\n",
    "        \"\"\"\n",
    "            Reset priors and draw parameter estimates from prior.\n",
    "        \"\"\"\n",
    "        # priors\n",
    "        self.lbd_phi0       = self.h[\"lbd_phi0\"]\n",
    "        self.alpha_s20      = self.h[\"alpha_s20\"]\n",
    "        self.beta_s20       = self.h[\"beta_s20\"]\n",
    "        self.sigma_phi0     = eye(self.pdata) * self.h[\"lbd_phi0\"]\n",
    "        self.sigma_phi0_inv = eye(self.pdata) / self.h[\"lbd_phi0\"]\n",
    "        self.mu_phi0        = ones(self.pdata) * self.h[\"mu_phi0\"]\n",
    "\n",
    "        # initial parameter estimates drawn from prior\n",
    "        self.p           = dict()\n",
    "        self.p[\"sigma2\"] = 1.0 / gamma(self.alpha_s20, 1.0 / self.beta_s20) # inverse gamma\n",
    "        self.p[\"phi\"]    = mvnormal(self.mu_phi0, self.p[\"sigma2\"] * self.sigma_phi0)\n",
    "\n",
    "\n",
    "    def draw(self, item):\n",
    "        \"\"\"\n",
    "            Draw a data sample from the current predictive distribution.\n",
    "            Returns the y-value (and a constant z-value for compatibility)\n",
    "        \"\"\"\n",
    "        mean = float(item.dot(self.p[\"phi\"]))\n",
    "        std  = sqrt(self.p[\"sigma2\"])\n",
    "        return normal(mean, std), 1\n",
    "\n",
    "\n",
    "    def logl(self):\n",
    "        \"\"\"\n",
    "            Calculates the full log likelihood for this model.\n",
    "            Returns the logl (and the values of each term for debugging purposes)\n",
    "        \"\"\"\n",
    "        ll    = zeros(8)\n",
    "        phie  = self.p[\"phi\"] - self.mu_phi0\n",
    "        err   = (self.X.dot(self.p[\"phi\"]) - self.Y) ** 2\n",
    "        # p(y)\n",
    "        ll[0] = - 0.5 * log(2 * pi * self.p[\"sigma2\"]) * self.ndata\n",
    "        ll[1] = sum(- 0.5 * err / self.p[\"sigma2\"])\n",
    "        # p(phi)\n",
    "        ll[2] = - 0.5 * log(2 * pi * self.lbd_phi0 * self.p[\"sigma2\"]) * self.pdata\n",
    "        ll[3] = - 0.5 * phie.T.dot(phie) / (self.lbd_phi0 * self.p[\"sigma2\"])\n",
    "        # p(sigma2)\n",
    "        ll[4] = self.alpha_s20 * log(self.beta_s20)\n",
    "        ll[5] = - gammaln(self.alpha_s20)\n",
    "        ll[6] = - (self.alpha_s20 + 1.0) * log(self.p[\"sigma2\"])\n",
    "        ll[7] = - self.beta_s20 / self.p[\"sigma2\"]\n",
    "        return sum(ll), ll\n",
    "\n",
    "\n",
    "    def EM_iter(self):\n",
    "        \"\"\"\n",
    "            Executes a single round of EM updates for this model.\n",
    "\n",
    "            Has checks to make sure that updates increase logl and\n",
    "            that parameter values stay in sensible limits.\n",
    "        \"\"\"\n",
    "        # phi\n",
    "        sumxx         = self.X.T.dot(self.X)\n",
    "        sumxy         = self.X.T.dot(self.Y)\n",
    "        sigma_mu      = self.sigma_phi0_inv.dot(self.mu_phi0)\n",
    "        sigma_phi_inv = self.sigma_phi0_inv + sumxx\n",
    "        self.p[\"phi\"] = solve(sigma_phi_inv, sigma_mu + sumxy)\n",
    "        self.assert_logl_increased(\"phi update\")\n",
    "\n",
    "        # sigma2\n",
    "        phie = (self.p[\"phi\"] - self.mu_phi0) ** 2\n",
    "        err  = (self.X.dot(self.p[\"phi\"]) - self.Y) ** 2\n",
    "        num  = self.beta_s20 + 0.5 * sum(err) + 0.5 * sum(phie) / self.lbd_phi0\n",
    "        den  = self.alpha_s20 + 1.0 + 0.5 * (self.ndata + self.pdata)\n",
    "        self.p[\"sigma2\"] = num / den\n",
    "        if self.p[\"sigma2\"] < 0.0:\n",
    "            raise ValueError(\"sigma2 < 0.0\")\n",
    "        self.assert_logl_increased(\"sigma2 update\")\n",
    "\n",
    "\n",
    "    def print_p(self):\n",
    "        \"\"\"\n",
    "            Prints the model parameters, one at each line.\n",
    "        \"\"\"\n",
    "        print(\"phi    : %s\" % (self.pretty_vector(self.p[\"phi\"])))\n",
    "        print(\"sigma2 : %.3f\" % (self.p[\"sigma2\"]))\n",
    "\n"
   ]
  },
  {
   "cell_type": "markdown",
   "metadata": {},
   "source": [
    "## Mixture Model"
   ]
  },
  {
   "cell_type": "code",
   "execution_count": null,
   "metadata": {
    "code_folding": [
     9
    ],
    "collapsed": false
   },
   "outputs": [],
   "source": [
    "# Aalto University, School of Science\n",
    "# T-61.5140 Machine Learning: Advanced probabilistic Methods\n",
    "# Author: antti.kangasraasio@aalto.fi, 2016\n",
    "\n",
    "from numpy import outer, eye, ones, zeros, diag, log, sqrt, exp, pi\n",
    "from numpy.linalg import inv, solve\n",
    "from numpy.random import multivariate_normal as mvnormal, normal, gamma, beta, binomial\n",
    "from scipy.special import gammaln\n",
    "\n",
    "class EM_algo_MM(EM_algo):\n",
    "    \"\"\"\n",
    "        A mixture of two linear models.\n",
    "    \"\"\"\n",
    "\n",
    "    def reset(self):\n",
    "        pass\n",
    "\n",
    "\n",
    "    def draw(self, item):\n",
    "        return None, None\n",
    "\n",
    "\n",
    "    def logl(self):\n",
    "        return None, None\n",
    "\n",
    "\n",
    "    def EM_iter(self):\n",
    "        pass\n",
    "\n"
   ]
  }
 ],
 "metadata": {
  "kernelspec": {
   "display_name": "Python 3",
   "language": "python",
   "name": "python3"
  },
  "language_info": {
   "codemirror_mode": {
    "name": "ipython",
    "version": 3
   },
   "file_extension": ".py",
   "mimetype": "text/x-python",
   "name": "python",
   "nbconvert_exporter": "python",
   "pygments_lexer": "ipython3",
   "version": "3.5.1"
  },
  "toc": {
   "toc_cell": true,
   "toc_number_sections": true,
   "toc_threshold": 6,
   "toc_window_display": false
  }
 },
 "nbformat": 4,
 "nbformat_minor": 0
}
